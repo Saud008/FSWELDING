{
  "cells": [
    {
      "cell_type": "code",
      "execution_count": 1,
      "metadata": {
        "colab": {
          "base_uri": "https://localhost:8080/"
        },
        "id": "A0D633ZyconG",
        "outputId": "fe403e5f-094a-4197-d2ff-2c23fc4370f5"
      },
      "outputs": [
        {
          "output_type": "stream",
          "name": "stdout",
          "text": [
            "Collecting ultralytics\n",
            "  Downloading ultralytics-8.3.63-py3-none-any.whl.metadata (35 kB)\n",
            "Requirement already satisfied: numpy>=1.23.0 in /usr/local/lib/python3.11/dist-packages (from ultralytics) (1.26.4)\n",
            "Requirement already satisfied: matplotlib>=3.3.0 in /usr/local/lib/python3.11/dist-packages (from ultralytics) (3.10.0)\n",
            "Requirement already satisfied: opencv-python>=4.6.0 in /usr/local/lib/python3.11/dist-packages (from ultralytics) (4.10.0.84)\n",
            "Requirement already satisfied: pillow>=7.1.2 in /usr/local/lib/python3.11/dist-packages (from ultralytics) (11.1.0)\n",
            "Requirement already satisfied: pyyaml>=5.3.1 in /usr/local/lib/python3.11/dist-packages (from ultralytics) (6.0.2)\n",
            "Requirement already satisfied: requests>=2.23.0 in /usr/local/lib/python3.11/dist-packages (from ultralytics) (2.32.3)\n",
            "Requirement already satisfied: scipy>=1.4.1 in /usr/local/lib/python3.11/dist-packages (from ultralytics) (1.13.1)\n",
            "Requirement already satisfied: torch>=1.8.0 in /usr/local/lib/python3.11/dist-packages (from ultralytics) (2.5.1+cu121)\n",
            "Requirement already satisfied: torchvision>=0.9.0 in /usr/local/lib/python3.11/dist-packages (from ultralytics) (0.20.1+cu121)\n",
            "Requirement already satisfied: tqdm>=4.64.0 in /usr/local/lib/python3.11/dist-packages (from ultralytics) (4.67.1)\n",
            "Requirement already satisfied: psutil in /usr/local/lib/python3.11/dist-packages (from ultralytics) (5.9.5)\n",
            "Requirement already satisfied: py-cpuinfo in /usr/local/lib/python3.11/dist-packages (from ultralytics) (9.0.0)\n",
            "Requirement already satisfied: pandas>=1.1.4 in /usr/local/lib/python3.11/dist-packages (from ultralytics) (2.2.2)\n",
            "Requirement already satisfied: seaborn>=0.11.0 in /usr/local/lib/python3.11/dist-packages (from ultralytics) (0.13.2)\n",
            "Collecting ultralytics-thop>=2.0.0 (from ultralytics)\n",
            "  Downloading ultralytics_thop-2.0.14-py3-none-any.whl.metadata (9.4 kB)\n",
            "Requirement already satisfied: contourpy>=1.0.1 in /usr/local/lib/python3.11/dist-packages (from matplotlib>=3.3.0->ultralytics) (1.3.1)\n",
            "Requirement already satisfied: cycler>=0.10 in /usr/local/lib/python3.11/dist-packages (from matplotlib>=3.3.0->ultralytics) (0.12.1)\n",
            "Requirement already satisfied: fonttools>=4.22.0 in /usr/local/lib/python3.11/dist-packages (from matplotlib>=3.3.0->ultralytics) (4.55.3)\n",
            "Requirement already satisfied: kiwisolver>=1.3.1 in /usr/local/lib/python3.11/dist-packages (from matplotlib>=3.3.0->ultralytics) (1.4.8)\n",
            "Requirement already satisfied: packaging>=20.0 in /usr/local/lib/python3.11/dist-packages (from matplotlib>=3.3.0->ultralytics) (24.2)\n",
            "Requirement already satisfied: pyparsing>=2.3.1 in /usr/local/lib/python3.11/dist-packages (from matplotlib>=3.3.0->ultralytics) (3.2.1)\n",
            "Requirement already satisfied: python-dateutil>=2.7 in /usr/local/lib/python3.11/dist-packages (from matplotlib>=3.3.0->ultralytics) (2.8.2)\n",
            "Requirement already satisfied: pytz>=2020.1 in /usr/local/lib/python3.11/dist-packages (from pandas>=1.1.4->ultralytics) (2024.2)\n",
            "Requirement already satisfied: tzdata>=2022.7 in /usr/local/lib/python3.11/dist-packages (from pandas>=1.1.4->ultralytics) (2024.2)\n",
            "Requirement already satisfied: charset-normalizer<4,>=2 in /usr/local/lib/python3.11/dist-packages (from requests>=2.23.0->ultralytics) (3.4.1)\n",
            "Requirement already satisfied: idna<4,>=2.5 in /usr/local/lib/python3.11/dist-packages (from requests>=2.23.0->ultralytics) (3.10)\n",
            "Requirement already satisfied: urllib3<3,>=1.21.1 in /usr/local/lib/python3.11/dist-packages (from requests>=2.23.0->ultralytics) (2.3.0)\n",
            "Requirement already satisfied: certifi>=2017.4.17 in /usr/local/lib/python3.11/dist-packages (from requests>=2.23.0->ultralytics) (2024.12.14)\n",
            "Requirement already satisfied: filelock in /usr/local/lib/python3.11/dist-packages (from torch>=1.8.0->ultralytics) (3.16.1)\n",
            "Requirement already satisfied: typing-extensions>=4.8.0 in /usr/local/lib/python3.11/dist-packages (from torch>=1.8.0->ultralytics) (4.12.2)\n",
            "Requirement already satisfied: networkx in /usr/local/lib/python3.11/dist-packages (from torch>=1.8.0->ultralytics) (3.4.2)\n",
            "Requirement already satisfied: jinja2 in /usr/local/lib/python3.11/dist-packages (from torch>=1.8.0->ultralytics) (3.1.5)\n",
            "Requirement already satisfied: fsspec in /usr/local/lib/python3.11/dist-packages (from torch>=1.8.0->ultralytics) (2024.10.0)\n",
            "Requirement already satisfied: nvidia-cuda-nvrtc-cu12==12.1.105 in /usr/local/lib/python3.11/dist-packages (from torch>=1.8.0->ultralytics) (12.1.105)\n",
            "Requirement already satisfied: nvidia-cuda-runtime-cu12==12.1.105 in /usr/local/lib/python3.11/dist-packages (from torch>=1.8.0->ultralytics) (12.1.105)\n",
            "Requirement already satisfied: nvidia-cuda-cupti-cu12==12.1.105 in /usr/local/lib/python3.11/dist-packages (from torch>=1.8.0->ultralytics) (12.1.105)\n",
            "Requirement already satisfied: nvidia-cudnn-cu12==9.1.0.70 in /usr/local/lib/python3.11/dist-packages (from torch>=1.8.0->ultralytics) (9.1.0.70)\n",
            "Requirement already satisfied: nvidia-cublas-cu12==12.1.3.1 in /usr/local/lib/python3.11/dist-packages (from torch>=1.8.0->ultralytics) (12.1.3.1)\n",
            "Requirement already satisfied: nvidia-cufft-cu12==11.0.2.54 in /usr/local/lib/python3.11/dist-packages (from torch>=1.8.0->ultralytics) (11.0.2.54)\n",
            "Requirement already satisfied: nvidia-curand-cu12==10.3.2.106 in /usr/local/lib/python3.11/dist-packages (from torch>=1.8.0->ultralytics) (10.3.2.106)\n",
            "Requirement already satisfied: nvidia-cusolver-cu12==11.4.5.107 in /usr/local/lib/python3.11/dist-packages (from torch>=1.8.0->ultralytics) (11.4.5.107)\n",
            "Requirement already satisfied: nvidia-cusparse-cu12==12.1.0.106 in /usr/local/lib/python3.11/dist-packages (from torch>=1.8.0->ultralytics) (12.1.0.106)\n",
            "Requirement already satisfied: nvidia-nccl-cu12==2.21.5 in /usr/local/lib/python3.11/dist-packages (from torch>=1.8.0->ultralytics) (2.21.5)\n",
            "Requirement already satisfied: nvidia-nvtx-cu12==12.1.105 in /usr/local/lib/python3.11/dist-packages (from torch>=1.8.0->ultralytics) (12.1.105)\n",
            "Requirement already satisfied: triton==3.1.0 in /usr/local/lib/python3.11/dist-packages (from torch>=1.8.0->ultralytics) (3.1.0)\n",
            "Requirement already satisfied: sympy==1.13.1 in /usr/local/lib/python3.11/dist-packages (from torch>=1.8.0->ultralytics) (1.13.1)\n",
            "Requirement already satisfied: nvidia-nvjitlink-cu12 in /usr/local/lib/python3.11/dist-packages (from nvidia-cusolver-cu12==11.4.5.107->torch>=1.8.0->ultralytics) (12.6.85)\n",
            "Requirement already satisfied: mpmath<1.4,>=1.1.0 in /usr/local/lib/python3.11/dist-packages (from sympy==1.13.1->torch>=1.8.0->ultralytics) (1.3.0)\n",
            "Requirement already satisfied: six>=1.5 in /usr/local/lib/python3.11/dist-packages (from python-dateutil>=2.7->matplotlib>=3.3.0->ultralytics) (1.17.0)\n",
            "Requirement already satisfied: MarkupSafe>=2.0 in /usr/local/lib/python3.11/dist-packages (from jinja2->torch>=1.8.0->ultralytics) (3.0.2)\n",
            "Downloading ultralytics-8.3.63-py3-none-any.whl (910 kB)\n",
            "\u001b[2K   \u001b[90m━━━━━━━━━━━━━━━━━━━━━━━━━━━━━━━━━━━━━━━━\u001b[0m \u001b[32m910.2/910.2 kB\u001b[0m \u001b[31m14.3 MB/s\u001b[0m eta \u001b[36m0:00:00\u001b[0m\n",
            "\u001b[?25hDownloading ultralytics_thop-2.0.14-py3-none-any.whl (26 kB)\n",
            "Installing collected packages: ultralytics-thop, ultralytics\n",
            "Successfully installed ultralytics-8.3.63 ultralytics-thop-2.0.14\n"
          ]
        }
      ],
      "source": [
        "# 1. Install YOLOv8\n",
        "!pip install ultralytics"
      ]
    },
    {
      "cell_type": "code",
      "execution_count": 2,
      "metadata": {
        "colab": {
          "base_uri": "https://localhost:8080/"
        },
        "id": "Djr7C5HCe4ZZ",
        "outputId": "f9bf37be-70c9-40ad-bc5a-98baf67fc110"
      },
      "outputs": [
        {
          "output_type": "stream",
          "name": "stdout",
          "text": [
            "Creating new Ultralytics Settings v0.0.6 file ✅ \n",
            "View Ultralytics Settings with 'yolo settings' or at '/root/.config/Ultralytics/settings.json'\n",
            "Update Settings with 'yolo settings key=value', i.e. 'yolo settings runs_dir=path/to/dir'. For help see https://docs.ultralytics.com/quickstart/#ultralytics-settings.\n"
          ]
        }
      ],
      "source": [
        "# 2. Import the library\n",
        "from ultralytics import YOLO\n",
        "import os"
      ]
    },
    {
      "cell_type": "code",
      "execution_count": 3,
      "metadata": {
        "colab": {
          "base_uri": "https://localhost:8080/"
        },
        "id": "7Alste1-e_ar",
        "outputId": "491429cf-db3e-47cb-c43f-f9293d6292c7"
      },
      "outputs": [
        {
          "output_type": "stream",
          "name": "stdout",
          "text": [
            "Mounted at /content/drive\n"
          ]
        }
      ],
      "source": [
        "# 3. Mount Google Drive (if dataset is stored there)\n",
        "from google.colab import drive\n",
        "drive.mount('/content/drive')"
      ]
    },
    {
      "cell_type": "code",
      "execution_count": 4,
      "metadata": {
        "id": "pVb5WrRHfJwj"
      },
      "outputs": [],
      "source": [
        "# 4. Set up dataset directory\n",
        "DATASET_PATH = '/content/drive/MyDrive/dataset'  # Update this to your dataset path\n",
        "IMAGES_PATH = os.path.join(DATASET_PATH, 'images')\n",
        "LABELS_PATH = os.path.join(DATASET_PATH, 'labels')"
      ]
    },
    {
      "cell_type": "code",
      "execution_count": 5,
      "metadata": {
        "id": "hh7uwy-pfWkf"
      },
      "outputs": [],
      "source": [
        "# Check if paths exist\n",
        "assert os.path.exists(IMAGES_PATH), \"Images path doesn't exist!\"\n",
        "assert os.path.exists(LABELS_PATH), \"Labels path doesn't exist!\"\n",
        "\n",
        "# 5. Create a YAML configuration file for YOLO\n",
        "DATA_YAML_PATH = os.path.join(DATASET_PATH, 'data.yaml')\n",
        "data_yaml_content = f\"\"\"\n",
        "train: {os.path.join(IMAGES_PATH, 'train')}\n",
        "val: {os.path.join(IMAGES_PATH, 'test')}\n",
        "nc: 4\n",
        "names: ['channel','flash','cavity','crack/groove']\n",
        "\"\"\"\n",
        "\n",
        "with open(DATA_YAML_PATH, 'w') as f:\n",
        "    f.write(data_yaml_content)\n"
      ]
    },
    {
      "cell_type": "code",
      "execution_count": 6,
      "metadata": {
        "colab": {
          "base_uri": "https://localhost:8080/"
        },
        "id": "ZWFMjN2ufbJ8",
        "outputId": "cad11cf2-9611-4999-dd6c-1dd7e485f541"
      },
      "outputs": [
        {
          "output_type": "stream",
          "name": "stdout",
          "text": [
            "Downloading https://github.com/ultralytics/assets/releases/download/v8.3.0/yolov8n.pt to 'yolov8n.pt'...\n"
          ]
        },
        {
          "output_type": "stream",
          "name": "stderr",
          "text": [
            "100%|██████████| 6.25M/6.25M [00:00<00:00, 85.3MB/s]\n"
          ]
        }
      ],
      "source": [
        "# 6. Initialize the YOLO model\n",
        "model = YOLO('yolov8n.pt')  # Choose from yolov8n, yolov8s, yolov8m, yolov8l depending on your resources"
      ]
    },
    {
      "cell_type": "code",
      "execution_count": 7,
      "metadata": {
        "colab": {
          "base_uri": "https://localhost:8080/"
        },
        "id": "5pEric-nfeoc",
        "outputId": "65e56273-46d7-402d-89ea-d1b8167d6dcc"
      },
      "outputs": [
        {
          "output_type": "stream",
          "name": "stdout",
          "text": [
            "Ultralytics 8.3.63 🚀 Python-3.11.11 torch-2.5.1+cu121 CUDA:0 (Tesla T4, 15102MiB)\n",
            "\u001b[34m\u001b[1mengine/trainer: \u001b[0mtask=detect, mode=train, model=yolov8n.pt, data=/content/drive/MyDrive/dataset/data.yaml, epochs=50, time=None, patience=100, batch=16, imgsz=640, save=True, save_period=-1, cache=False, device=None, workers=8, project=None, name=train, exist_ok=False, pretrained=True, optimizer=auto, verbose=True, seed=0, deterministic=True, single_cls=False, rect=False, cos_lr=False, close_mosaic=10, resume=False, amp=True, fraction=1.0, profile=False, freeze=None, multi_scale=False, overlap_mask=True, mask_ratio=4, dropout=0.0, val=True, split=val, save_json=False, save_hybrid=False, conf=None, iou=0.7, max_det=300, half=False, dnn=False, plots=True, source=None, vid_stride=1, stream_buffer=False, visualize=False, augment=False, agnostic_nms=False, classes=None, retina_masks=False, embed=None, show=False, save_frames=False, save_txt=False, save_conf=False, save_crop=False, show_labels=True, show_conf=True, show_boxes=True, line_width=None, format=torchscript, keras=False, optimize=False, int8=False, dynamic=False, simplify=True, opset=None, workspace=None, nms=False, lr0=0.01, lrf=0.01, momentum=0.937, weight_decay=0.0005, warmup_epochs=3.0, warmup_momentum=0.8, warmup_bias_lr=0.1, box=7.5, cls=0.5, dfl=1.5, pose=12.0, kobj=1.0, nbs=64, hsv_h=0.015, hsv_s=0.7, hsv_v=0.4, degrees=0.0, translate=0.1, scale=0.5, shear=0.0, perspective=0.0, flipud=0.0, fliplr=0.5, bgr=0.0, mosaic=1.0, mixup=0.0, copy_paste=0.0, copy_paste_mode=flip, auto_augment=randaugment, erasing=0.4, crop_fraction=1.0, cfg=None, tracker=botsort.yaml, save_dir=runs/detect/train\n",
            "Downloading https://ultralytics.com/assets/Arial.ttf to '/root/.config/Ultralytics/Arial.ttf'...\n"
          ]
        },
        {
          "output_type": "stream",
          "name": "stderr",
          "text": [
            "100%|██████████| 755k/755k [00:00<00:00, 23.9MB/s]\n"
          ]
        },
        {
          "output_type": "stream",
          "name": "stdout",
          "text": [
            "Overriding model.yaml nc=80 with nc=4\n",
            "\n",
            "                   from  n    params  module                                       arguments                     \n",
            "  0                  -1  1       464  ultralytics.nn.modules.conv.Conv             [3, 16, 3, 2]                 \n",
            "  1                  -1  1      4672  ultralytics.nn.modules.conv.Conv             [16, 32, 3, 2]                \n",
            "  2                  -1  1      7360  ultralytics.nn.modules.block.C2f             [32, 32, 1, True]             \n",
            "  3                  -1  1     18560  ultralytics.nn.modules.conv.Conv             [32, 64, 3, 2]                \n",
            "  4                  -1  2     49664  ultralytics.nn.modules.block.C2f             [64, 64, 2, True]             \n",
            "  5                  -1  1     73984  ultralytics.nn.modules.conv.Conv             [64, 128, 3, 2]               \n",
            "  6                  -1  2    197632  ultralytics.nn.modules.block.C2f             [128, 128, 2, True]           \n",
            "  7                  -1  1    295424  ultralytics.nn.modules.conv.Conv             [128, 256, 3, 2]              \n",
            "  8                  -1  1    460288  ultralytics.nn.modules.block.C2f             [256, 256, 1, True]           \n",
            "  9                  -1  1    164608  ultralytics.nn.modules.block.SPPF            [256, 256, 5]                 \n",
            " 10                  -1  1         0  torch.nn.modules.upsampling.Upsample         [None, 2, 'nearest']          \n",
            " 11             [-1, 6]  1         0  ultralytics.nn.modules.conv.Concat           [1]                           \n",
            " 12                  -1  1    148224  ultralytics.nn.modules.block.C2f             [384, 128, 1]                 \n",
            " 13                  -1  1         0  torch.nn.modules.upsampling.Upsample         [None, 2, 'nearest']          \n",
            " 14             [-1, 4]  1         0  ultralytics.nn.modules.conv.Concat           [1]                           \n",
            " 15                  -1  1     37248  ultralytics.nn.modules.block.C2f             [192, 64, 1]                  \n",
            " 16                  -1  1     36992  ultralytics.nn.modules.conv.Conv             [64, 64, 3, 2]                \n",
            " 17            [-1, 12]  1         0  ultralytics.nn.modules.conv.Concat           [1]                           \n",
            " 18                  -1  1    123648  ultralytics.nn.modules.block.C2f             [192, 128, 1]                 \n",
            " 19                  -1  1    147712  ultralytics.nn.modules.conv.Conv             [128, 128, 3, 2]              \n",
            " 20             [-1, 9]  1         0  ultralytics.nn.modules.conv.Concat           [1]                           \n",
            " 21                  -1  1    493056  ultralytics.nn.modules.block.C2f             [384, 256, 1]                 \n",
            " 22        [15, 18, 21]  1    752092  ultralytics.nn.modules.head.Detect           [4, [64, 128, 256]]           \n",
            "Model summary: 225 layers, 3,011,628 parameters, 3,011,612 gradients, 8.2 GFLOPs\n",
            "\n",
            "Transferred 319/355 items from pretrained weights\n",
            "\u001b[34m\u001b[1mTensorBoard: \u001b[0mStart with 'tensorboard --logdir runs/detect/train', view at http://localhost:6006/\n",
            "Freezing layer 'model.22.dfl.conv.weight'\n",
            "\u001b[34m\u001b[1mAMP: \u001b[0mrunning Automatic Mixed Precision (AMP) checks...\n",
            "Downloading https://github.com/ultralytics/assets/releases/download/v8.3.0/yolo11n.pt to 'yolo11n.pt'...\n"
          ]
        },
        {
          "output_type": "stream",
          "name": "stderr",
          "text": [
            "100%|██████████| 5.35M/5.35M [00:00<00:00, 94.8MB/s]\n"
          ]
        },
        {
          "output_type": "stream",
          "name": "stdout",
          "text": [
            "\u001b[34m\u001b[1mAMP: \u001b[0mchecks passed ✅\n"
          ]
        },
        {
          "output_type": "stream",
          "name": "stderr",
          "text": [
            "\u001b[34m\u001b[1mtrain: \u001b[0mScanning /content/drive/MyDrive/dataset/labels/train.cache... 229 images, 50 backgrounds, 0 corrupt: 100%|██████████| 229/229 [00:00<?, ?it/s]\n"
          ]
        },
        {
          "output_type": "stream",
          "name": "stdout",
          "text": [
            "\u001b[34m\u001b[1malbumentations: \u001b[0mBlur(p=0.01, blur_limit=(3, 7)), MedianBlur(p=0.01, blur_limit=(3, 7)), ToGray(p=0.01, num_output_channels=3, method='weighted_average'), CLAHE(p=0.01, clip_limit=(1.0, 4.0), tile_grid_size=(8, 8))\n"
          ]
        },
        {
          "output_type": "stream",
          "name": "stderr",
          "text": [
            "/usr/local/lib/python3.11/dist-packages/albumentations/__init__.py:24: UserWarning: A new version of Albumentations is available: 2.0.0 (you have 1.4.20). Upgrade using: pip install -U albumentations. To disable automatic update checks, set the environment variable NO_ALBUMENTATIONS_UPDATE to 1.\n",
            "  check_for_updates()\n",
            "\u001b[34m\u001b[1mval: \u001b[0mScanning /content/drive/MyDrive/dataset/labels/test.cache... 41 images, 9 backgrounds, 0 corrupt: 100%|██████████| 41/41 [00:00<?, ?it/s]\n"
          ]
        },
        {
          "output_type": "stream",
          "name": "stdout",
          "text": [
            "Plotting labels to runs/detect/train/labels.jpg... \n",
            "\u001b[34m\u001b[1moptimizer:\u001b[0m 'optimizer=auto' found, ignoring 'lr0=0.01' and 'momentum=0.937' and determining best 'optimizer', 'lr0' and 'momentum' automatically... \n",
            "\u001b[34m\u001b[1moptimizer:\u001b[0m AdamW(lr=0.00125, momentum=0.9) with parameter groups 57 weight(decay=0.0), 64 weight(decay=0.0005), 63 bias(decay=0.0)\n",
            "\u001b[34m\u001b[1mTensorBoard: \u001b[0mmodel graph visualization added ✅\n",
            "Image sizes 640 train, 640 val\n",
            "Using 2 dataloader workers\n",
            "Logging results to \u001b[1mruns/detect/train\u001b[0m\n",
            "Starting training for 50 epochs...\n",
            "\n",
            "      Epoch    GPU_mem   box_loss   cls_loss   dfl_loss  Instances       Size\n"
          ]
        },
        {
          "output_type": "stream",
          "name": "stderr",
          "text": [
            "       1/50      2.25G      2.247      4.263      1.894         18        640: 100%|██████████| 15/15 [00:30<00:00,  2.02s/it]\n",
            "                 Class     Images  Instances      Box(P          R      mAP50  mAP50-95): 100%|██████████| 2/2 [00:02<00:00,  1.08s/it]"
          ]
        },
        {
          "output_type": "stream",
          "name": "stdout",
          "text": [
            "                   all         41         73     0.0029      0.272     0.0234       0.01\n"
          ]
        },
        {
          "output_type": "stream",
          "name": "stderr",
          "text": [
            "\n"
          ]
        },
        {
          "output_type": "stream",
          "name": "stdout",
          "text": [
            "\n",
            "      Epoch    GPU_mem   box_loss   cls_loss   dfl_loss  Instances       Size\n"
          ]
        },
        {
          "output_type": "stream",
          "name": "stderr",
          "text": [
            "       2/50       2.2G      1.986      3.595      1.699         18        640: 100%|██████████| 15/15 [00:03<00:00,  4.19it/s]\n",
            "                 Class     Images  Instances      Box(P          R      mAP50  mAP50-95): 100%|██████████| 2/2 [00:00<00:00,  4.57it/s]"
          ]
        },
        {
          "output_type": "stream",
          "name": "stdout",
          "text": [
            "                   all         41         73    0.00253      0.318     0.0506      0.021\n"
          ]
        },
        {
          "output_type": "stream",
          "name": "stderr",
          "text": [
            "\n"
          ]
        },
        {
          "output_type": "stream",
          "name": "stdout",
          "text": [
            "\n",
            "      Epoch    GPU_mem   box_loss   cls_loss   dfl_loss  Instances       Size\n"
          ]
        },
        {
          "output_type": "stream",
          "name": "stderr",
          "text": [
            "       3/50      2.24G      1.907      3.163      1.615         14        640: 100%|██████████| 15/15 [00:03<00:00,  4.47it/s]\n",
            "                 Class     Images  Instances      Box(P          R      mAP50  mAP50-95): 100%|██████████| 2/2 [00:00<00:00,  2.04it/s]"
          ]
        },
        {
          "output_type": "stream",
          "name": "stdout",
          "text": [
            "                   all         41         73       0.55     0.0256     0.0215     0.0112\n"
          ]
        },
        {
          "output_type": "stream",
          "name": "stderr",
          "text": [
            "\n"
          ]
        },
        {
          "output_type": "stream",
          "name": "stdout",
          "text": [
            "\n",
            "      Epoch    GPU_mem   box_loss   cls_loss   dfl_loss  Instances       Size\n"
          ]
        },
        {
          "output_type": "stream",
          "name": "stderr",
          "text": [
            "       4/50      2.21G        1.8      2.774      1.486         21        640: 100%|██████████| 15/15 [00:06<00:00,  2.50it/s]\n",
            "                 Class     Images  Instances      Box(P          R      mAP50  mAP50-95): 100%|██████████| 2/2 [00:00<00:00,  2.37it/s]"
          ]
        },
        {
          "output_type": "stream",
          "name": "stdout",
          "text": [
            "                   all         41         73      0.554       0.01     0.0752     0.0382\n"
          ]
        },
        {
          "output_type": "stream",
          "name": "stderr",
          "text": [
            "\n"
          ]
        },
        {
          "output_type": "stream",
          "name": "stdout",
          "text": [
            "\n",
            "      Epoch    GPU_mem   box_loss   cls_loss   dfl_loss  Instances       Size\n"
          ]
        },
        {
          "output_type": "stream",
          "name": "stderr",
          "text": [
            "       5/50      2.23G       1.71      2.627      1.484         19        640: 100%|██████████| 15/15 [00:05<00:00,  2.82it/s]\n",
            "                 Class     Images  Instances      Box(P          R      mAP50  mAP50-95): 100%|██████████| 2/2 [00:01<00:00,  1.75it/s]"
          ]
        },
        {
          "output_type": "stream",
          "name": "stdout",
          "text": [
            "                   all         41         73      0.407      0.129      0.124      0.066\n"
          ]
        },
        {
          "output_type": "stream",
          "name": "stderr",
          "text": [
            "\n"
          ]
        },
        {
          "output_type": "stream",
          "name": "stdout",
          "text": [
            "\n",
            "      Epoch    GPU_mem   box_loss   cls_loss   dfl_loss  Instances       Size\n"
          ]
        },
        {
          "output_type": "stream",
          "name": "stderr",
          "text": [
            "       6/50       2.2G      1.738      2.548      1.514         23        640: 100%|██████████| 15/15 [00:04<00:00,  3.15it/s]\n",
            "                 Class     Images  Instances      Box(P          R      mAP50  mAP50-95): 100%|██████████| 2/2 [00:01<00:00,  1.80it/s]"
          ]
        },
        {
          "output_type": "stream",
          "name": "stdout",
          "text": [
            "                   all         41         73      0.409      0.149      0.152     0.0658\n"
          ]
        },
        {
          "output_type": "stream",
          "name": "stderr",
          "text": [
            "\n"
          ]
        },
        {
          "output_type": "stream",
          "name": "stdout",
          "text": [
            "\n",
            "      Epoch    GPU_mem   box_loss   cls_loss   dfl_loss  Instances       Size\n"
          ]
        },
        {
          "output_type": "stream",
          "name": "stderr",
          "text": [
            "       7/50       2.2G      1.746      2.555      1.486         17        640: 100%|██████████| 15/15 [00:04<00:00,  3.74it/s]\n",
            "                 Class     Images  Instances      Box(P          R      mAP50  mAP50-95): 100%|██████████| 2/2 [00:00<00:00,  3.15it/s]"
          ]
        },
        {
          "output_type": "stream",
          "name": "stdout",
          "text": [
            "                   all         41         73      0.448      0.148      0.181     0.0791\n"
          ]
        },
        {
          "output_type": "stream",
          "name": "stderr",
          "text": [
            "\n"
          ]
        },
        {
          "output_type": "stream",
          "name": "stdout",
          "text": [
            "\n",
            "      Epoch    GPU_mem   box_loss   cls_loss   dfl_loss  Instances       Size\n"
          ]
        },
        {
          "output_type": "stream",
          "name": "stderr",
          "text": [
            "       8/50      2.23G       1.75      2.392       1.52         23        640: 100%|██████████| 15/15 [00:03<00:00,  4.28it/s]\n",
            "                 Class     Images  Instances      Box(P          R      mAP50  mAP50-95): 100%|██████████| 2/2 [00:00<00:00,  3.91it/s]"
          ]
        },
        {
          "output_type": "stream",
          "name": "stdout",
          "text": [
            "                   all         41         73      0.537      0.142      0.171     0.0748\n"
          ]
        },
        {
          "output_type": "stream",
          "name": "stderr",
          "text": [
            "\n"
          ]
        },
        {
          "output_type": "stream",
          "name": "stdout",
          "text": [
            "\n",
            "      Epoch    GPU_mem   box_loss   cls_loss   dfl_loss  Instances       Size\n"
          ]
        },
        {
          "output_type": "stream",
          "name": "stderr",
          "text": [
            "       9/50      2.23G      1.751      2.448      1.506         13        640: 100%|██████████| 15/15 [00:04<00:00,  3.38it/s]\n",
            "                 Class     Images  Instances      Box(P          R      mAP50  mAP50-95): 100%|██████████| 2/2 [00:00<00:00,  2.35it/s]"
          ]
        },
        {
          "output_type": "stream",
          "name": "stdout",
          "text": [
            "                   all         41         73      0.563      0.217       0.26      0.105\n"
          ]
        },
        {
          "output_type": "stream",
          "name": "stderr",
          "text": [
            "\n"
          ]
        },
        {
          "output_type": "stream",
          "name": "stdout",
          "text": [
            "\n",
            "      Epoch    GPU_mem   box_loss   cls_loss   dfl_loss  Instances       Size\n"
          ]
        },
        {
          "output_type": "stream",
          "name": "stderr",
          "text": [
            "      10/50      2.23G      1.653      2.286      1.441         13        640: 100%|██████████| 15/15 [00:04<00:00,  3.42it/s]\n",
            "                 Class     Images  Instances      Box(P          R      mAP50  mAP50-95): 100%|██████████| 2/2 [00:00<00:00,  3.35it/s]"
          ]
        },
        {
          "output_type": "stream",
          "name": "stdout",
          "text": [
            "                   all         41         73       0.36      0.311      0.209     0.0997\n"
          ]
        },
        {
          "output_type": "stream",
          "name": "stderr",
          "text": [
            "\n"
          ]
        },
        {
          "output_type": "stream",
          "name": "stdout",
          "text": [
            "\n",
            "      Epoch    GPU_mem   box_loss   cls_loss   dfl_loss  Instances       Size\n"
          ]
        },
        {
          "output_type": "stream",
          "name": "stderr",
          "text": [
            "      11/50      2.22G      1.662      2.197       1.46         10        640: 100%|██████████| 15/15 [00:03<00:00,  4.32it/s]\n",
            "                 Class     Images  Instances      Box(P          R      mAP50  mAP50-95): 100%|██████████| 2/2 [00:00<00:00,  3.48it/s]"
          ]
        },
        {
          "output_type": "stream",
          "name": "stdout",
          "text": [
            "                   all         41         73      0.469      0.297      0.298      0.149\n"
          ]
        },
        {
          "output_type": "stream",
          "name": "stderr",
          "text": [
            "\n"
          ]
        },
        {
          "output_type": "stream",
          "name": "stdout",
          "text": [
            "\n",
            "      Epoch    GPU_mem   box_loss   cls_loss   dfl_loss  Instances       Size\n"
          ]
        },
        {
          "output_type": "stream",
          "name": "stderr",
          "text": [
            "      12/50      2.23G      1.604      2.056      1.391         28        640: 100%|██████████| 15/15 [00:04<00:00,  3.58it/s]\n",
            "                 Class     Images  Instances      Box(P          R      mAP50  mAP50-95): 100%|██████████| 2/2 [00:00<00:00,  2.08it/s]"
          ]
        },
        {
          "output_type": "stream",
          "name": "stdout",
          "text": [
            "                   all         41         73      0.389      0.432      0.378      0.157\n"
          ]
        },
        {
          "output_type": "stream",
          "name": "stderr",
          "text": [
            "\n"
          ]
        },
        {
          "output_type": "stream",
          "name": "stdout",
          "text": [
            "\n",
            "      Epoch    GPU_mem   box_loss   cls_loss   dfl_loss  Instances       Size\n"
          ]
        },
        {
          "output_type": "stream",
          "name": "stderr",
          "text": [
            "      13/50      2.23G      1.665      2.027      1.379         24        640: 100%|██████████| 15/15 [00:04<00:00,  3.04it/s]\n",
            "                 Class     Images  Instances      Box(P          R      mAP50  mAP50-95): 100%|██████████| 2/2 [00:00<00:00,  3.07it/s]"
          ]
        },
        {
          "output_type": "stream",
          "name": "stdout",
          "text": [
            "                   all         41         73      0.412       0.44       0.43      0.181\n"
          ]
        },
        {
          "output_type": "stream",
          "name": "stderr",
          "text": [
            "\n"
          ]
        },
        {
          "output_type": "stream",
          "name": "stdout",
          "text": [
            "\n",
            "      Epoch    GPU_mem   box_loss   cls_loss   dfl_loss  Instances       Size\n"
          ]
        },
        {
          "output_type": "stream",
          "name": "stderr",
          "text": [
            "      14/50      2.23G      1.598      1.949      1.403         18        640: 100%|██████████| 15/15 [00:03<00:00,  4.41it/s]\n",
            "                 Class     Images  Instances      Box(P          R      mAP50  mAP50-95): 100%|██████████| 2/2 [00:00<00:00,  3.10it/s]\n"
          ]
        },
        {
          "output_type": "stream",
          "name": "stdout",
          "text": [
            "                   all         41         73      0.532        0.5      0.422      0.162\n",
            "\n",
            "      Epoch    GPU_mem   box_loss   cls_loss   dfl_loss  Instances       Size\n"
          ]
        },
        {
          "output_type": "stream",
          "name": "stderr",
          "text": [
            "      15/50       2.2G      1.551      1.918      1.389         25        640: 100%|██████████| 15/15 [00:03<00:00,  3.95it/s]\n",
            "                 Class     Images  Instances      Box(P          R      mAP50  mAP50-95): 100%|██████████| 2/2 [00:00<00:00,  2.82it/s]"
          ]
        },
        {
          "output_type": "stream",
          "name": "stdout",
          "text": [
            "                   all         41         73       0.65      0.244      0.409      0.196\n"
          ]
        },
        {
          "output_type": "stream",
          "name": "stderr",
          "text": [
            "\n"
          ]
        },
        {
          "output_type": "stream",
          "name": "stdout",
          "text": [
            "\n",
            "      Epoch    GPU_mem   box_loss   cls_loss   dfl_loss  Instances       Size\n"
          ]
        },
        {
          "output_type": "stream",
          "name": "stderr",
          "text": [
            "      16/50      2.24G      1.576      1.898      1.376         13        640: 100%|██████████| 15/15 [00:05<00:00,  2.96it/s]\n",
            "                 Class     Images  Instances      Box(P          R      mAP50  mAP50-95): 100%|██████████| 2/2 [00:00<00:00,  3.46it/s]\n"
          ]
        },
        {
          "output_type": "stream",
          "name": "stdout",
          "text": [
            "                   all         41         73      0.463      0.566      0.546      0.252\n",
            "\n",
            "      Epoch    GPU_mem   box_loss   cls_loss   dfl_loss  Instances       Size\n"
          ]
        },
        {
          "output_type": "stream",
          "name": "stderr",
          "text": [
            "      17/50      2.24G      1.527      1.739      1.323         17        640: 100%|██████████| 15/15 [00:03<00:00,  4.33it/s]\n",
            "                 Class     Images  Instances      Box(P          R      mAP50  mAP50-95): 100%|██████████| 2/2 [00:00<00:00,  3.97it/s]"
          ]
        },
        {
          "output_type": "stream",
          "name": "stdout",
          "text": [
            "                   all         41         73      0.613      0.425      0.526      0.261\n"
          ]
        },
        {
          "output_type": "stream",
          "name": "stderr",
          "text": [
            "\n"
          ]
        },
        {
          "output_type": "stream",
          "name": "stdout",
          "text": [
            "\n",
            "      Epoch    GPU_mem   box_loss   cls_loss   dfl_loss  Instances       Size\n"
          ]
        },
        {
          "output_type": "stream",
          "name": "stderr",
          "text": [
            "      18/50      2.23G      1.533      1.748      1.354         17        640: 100%|██████████| 15/15 [00:03<00:00,  4.38it/s]\n",
            "                 Class     Images  Instances      Box(P          R      mAP50  mAP50-95): 100%|██████████| 2/2 [00:00<00:00,  2.81it/s]"
          ]
        },
        {
          "output_type": "stream",
          "name": "stdout",
          "text": [
            "                   all         41         73      0.548      0.513      0.545       0.28\n"
          ]
        },
        {
          "output_type": "stream",
          "name": "stderr",
          "text": [
            "\n"
          ]
        },
        {
          "output_type": "stream",
          "name": "stdout",
          "text": [
            "\n",
            "      Epoch    GPU_mem   box_loss   cls_loss   dfl_loss  Instances       Size\n"
          ]
        },
        {
          "output_type": "stream",
          "name": "stderr",
          "text": [
            "      19/50      2.22G      1.463      1.606      1.289         23        640: 100%|██████████| 15/15 [00:05<00:00,  2.76it/s]\n",
            "                 Class     Images  Instances      Box(P          R      mAP50  mAP50-95): 100%|██████████| 2/2 [00:00<00:00,  3.64it/s]"
          ]
        },
        {
          "output_type": "stream",
          "name": "stdout",
          "text": [
            "                   all         41         73      0.599      0.516      0.598      0.285\n"
          ]
        },
        {
          "output_type": "stream",
          "name": "stderr",
          "text": [
            "\n"
          ]
        },
        {
          "output_type": "stream",
          "name": "stdout",
          "text": [
            "\n",
            "      Epoch    GPU_mem   box_loss   cls_loss   dfl_loss  Instances       Size\n"
          ]
        },
        {
          "output_type": "stream",
          "name": "stderr",
          "text": [
            "      20/50      2.23G      1.488      1.619      1.312         29        640: 100%|██████████| 15/15 [00:03<00:00,  4.39it/s]\n",
            "                 Class     Images  Instances      Box(P          R      mAP50  mAP50-95): 100%|██████████| 2/2 [00:00<00:00,  3.94it/s]"
          ]
        },
        {
          "output_type": "stream",
          "name": "stdout",
          "text": [
            "                   all         41         73      0.706      0.409      0.586      0.298\n"
          ]
        },
        {
          "output_type": "stream",
          "name": "stderr",
          "text": [
            "\n"
          ]
        },
        {
          "output_type": "stream",
          "name": "stdout",
          "text": [
            "\n",
            "      Epoch    GPU_mem   box_loss   cls_loss   dfl_loss  Instances       Size\n"
          ]
        },
        {
          "output_type": "stream",
          "name": "stderr",
          "text": [
            "      21/50      2.21G      1.437      1.634      1.317         13        640: 100%|██████████| 15/15 [00:03<00:00,  4.54it/s]\n",
            "                 Class     Images  Instances      Box(P          R      mAP50  mAP50-95): 100%|██████████| 2/2 [00:00<00:00,  2.41it/s]"
          ]
        },
        {
          "output_type": "stream",
          "name": "stdout",
          "text": [
            "                   all         41         73       0.64      0.593      0.579      0.295\n"
          ]
        },
        {
          "output_type": "stream",
          "name": "stderr",
          "text": [
            "\n"
          ]
        },
        {
          "output_type": "stream",
          "name": "stdout",
          "text": [
            "\n",
            "      Epoch    GPU_mem   box_loss   cls_loss   dfl_loss  Instances       Size\n"
          ]
        },
        {
          "output_type": "stream",
          "name": "stderr",
          "text": [
            "      22/50      2.23G      1.413      1.471      1.263         23        640: 100%|██████████| 15/15 [00:05<00:00,  2.58it/s]\n",
            "                 Class     Images  Instances      Box(P          R      mAP50  mAP50-95): 100%|██████████| 2/2 [00:00<00:00,  2.06it/s]\n"
          ]
        },
        {
          "output_type": "stream",
          "name": "stdout",
          "text": [
            "                   all         41         73       0.63       0.34      0.483      0.256\n",
            "\n",
            "      Epoch    GPU_mem   box_loss   cls_loss   dfl_loss  Instances       Size\n"
          ]
        },
        {
          "output_type": "stream",
          "name": "stderr",
          "text": [
            "      23/50      2.21G       1.42      1.495      1.271         17        640: 100%|██████████| 15/15 [00:03<00:00,  4.32it/s]\n",
            "                 Class     Images  Instances      Box(P          R      mAP50  mAP50-95): 100%|██████████| 2/2 [00:00<00:00,  3.66it/s]"
          ]
        },
        {
          "output_type": "stream",
          "name": "stdout",
          "text": [
            "                   all         41         73      0.675      0.447      0.579      0.286\n"
          ]
        },
        {
          "output_type": "stream",
          "name": "stderr",
          "text": [
            "\n"
          ]
        },
        {
          "output_type": "stream",
          "name": "stdout",
          "text": [
            "\n",
            "      Epoch    GPU_mem   box_loss   cls_loss   dfl_loss  Instances       Size\n"
          ]
        },
        {
          "output_type": "stream",
          "name": "stderr",
          "text": [
            "      24/50      2.21G      1.437      1.493      1.267         27        640: 100%|██████████| 15/15 [00:03<00:00,  4.60it/s]\n",
            "                 Class     Images  Instances      Box(P          R      mAP50  mAP50-95): 100%|██████████| 2/2 [00:00<00:00,  3.77it/s]"
          ]
        },
        {
          "output_type": "stream",
          "name": "stdout",
          "text": [
            "                   all         41         73      0.781      0.584      0.655      0.346\n"
          ]
        },
        {
          "output_type": "stream",
          "name": "stderr",
          "text": [
            "\n"
          ]
        },
        {
          "output_type": "stream",
          "name": "stdout",
          "text": [
            "\n",
            "      Epoch    GPU_mem   box_loss   cls_loss   dfl_loss  Instances       Size\n"
          ]
        },
        {
          "output_type": "stream",
          "name": "stderr",
          "text": [
            "      25/50      2.21G      1.359       1.45      1.261         25        640: 100%|██████████| 15/15 [00:05<00:00,  2.73it/s]\n",
            "                 Class     Images  Instances      Box(P          R      mAP50  mAP50-95): 100%|██████████| 2/2 [00:01<00:00,  1.89it/s]"
          ]
        },
        {
          "output_type": "stream",
          "name": "stdout",
          "text": [
            "                   all         41         73      0.844      0.569      0.644      0.338\n"
          ]
        },
        {
          "output_type": "stream",
          "name": "stderr",
          "text": [
            "\n"
          ]
        },
        {
          "output_type": "stream",
          "name": "stdout",
          "text": [
            "\n",
            "      Epoch    GPU_mem   box_loss   cls_loss   dfl_loss  Instances       Size\n"
          ]
        },
        {
          "output_type": "stream",
          "name": "stderr",
          "text": [
            "      26/50      2.23G      1.378      1.406      1.232         18        640: 100%|██████████| 15/15 [00:03<00:00,  4.36it/s]\n",
            "                 Class     Images  Instances      Box(P          R      mAP50  mAP50-95): 100%|██████████| 2/2 [00:00<00:00,  3.59it/s]\n"
          ]
        },
        {
          "output_type": "stream",
          "name": "stdout",
          "text": [
            "                   all         41         73      0.587      0.545      0.593      0.307\n",
            "\n",
            "      Epoch    GPU_mem   box_loss   cls_loss   dfl_loss  Instances       Size\n"
          ]
        },
        {
          "output_type": "stream",
          "name": "stderr",
          "text": [
            "      27/50      2.22G      1.369      1.391      1.222         15        640: 100%|██████████| 15/15 [00:03<00:00,  4.36it/s]\n",
            "                 Class     Images  Instances      Box(P          R      mAP50  mAP50-95): 100%|██████████| 2/2 [00:00<00:00,  3.44it/s]"
          ]
        },
        {
          "output_type": "stream",
          "name": "stdout",
          "text": [
            "                   all         41         73      0.728      0.554      0.675      0.352\n"
          ]
        },
        {
          "output_type": "stream",
          "name": "stderr",
          "text": [
            "\n"
          ]
        },
        {
          "output_type": "stream",
          "name": "stdout",
          "text": [
            "\n",
            "      Epoch    GPU_mem   box_loss   cls_loss   dfl_loss  Instances       Size\n"
          ]
        },
        {
          "output_type": "stream",
          "name": "stderr",
          "text": [
            "      28/50      2.24G      1.379      1.347      1.261         21        640: 100%|██████████| 15/15 [00:05<00:00,  2.86it/s]\n",
            "                 Class     Images  Instances      Box(P          R      mAP50  mAP50-95): 100%|██████████| 2/2 [00:01<00:00,  1.91it/s]"
          ]
        },
        {
          "output_type": "stream",
          "name": "stdout",
          "text": [
            "                   all         41         73      0.696      0.597      0.648      0.332\n"
          ]
        },
        {
          "output_type": "stream",
          "name": "stderr",
          "text": [
            "\n"
          ]
        },
        {
          "output_type": "stream",
          "name": "stdout",
          "text": [
            "\n",
            "      Epoch    GPU_mem   box_loss   cls_loss   dfl_loss  Instances       Size\n"
          ]
        },
        {
          "output_type": "stream",
          "name": "stderr",
          "text": [
            "      29/50      2.21G      1.331      1.279      1.208         17        640: 100%|██████████| 15/15 [00:03<00:00,  4.02it/s]\n",
            "                 Class     Images  Instances      Box(P          R      mAP50  mAP50-95): 100%|██████████| 2/2 [00:00<00:00,  3.90it/s]"
          ]
        },
        {
          "output_type": "stream",
          "name": "stdout",
          "text": [
            "                   all         41         73      0.537      0.682      0.647      0.344\n"
          ]
        },
        {
          "output_type": "stream",
          "name": "stderr",
          "text": [
            "\n"
          ]
        },
        {
          "output_type": "stream",
          "name": "stdout",
          "text": [
            "\n",
            "      Epoch    GPU_mem   box_loss   cls_loss   dfl_loss  Instances       Size\n"
          ]
        },
        {
          "output_type": "stream",
          "name": "stderr",
          "text": [
            "      30/50      2.21G      1.285      1.274      1.199         15        640: 100%|██████████| 15/15 [00:03<00:00,  4.45it/s]\n",
            "                 Class     Images  Instances      Box(P          R      mAP50  mAP50-95): 100%|██████████| 2/2 [00:00<00:00,  3.25it/s]"
          ]
        },
        {
          "output_type": "stream",
          "name": "stdout",
          "text": [
            "                   all         41         73      0.523      0.685      0.611      0.326\n"
          ]
        },
        {
          "output_type": "stream",
          "name": "stderr",
          "text": [
            "\n"
          ]
        },
        {
          "output_type": "stream",
          "name": "stdout",
          "text": [
            "\n",
            "      Epoch    GPU_mem   box_loss   cls_loss   dfl_loss  Instances       Size\n"
          ]
        },
        {
          "output_type": "stream",
          "name": "stderr",
          "text": [
            "      31/50      2.23G       1.29      1.286      1.195         18        640: 100%|██████████| 15/15 [00:04<00:00,  3.29it/s]\n",
            "                 Class     Images  Instances      Box(P          R      mAP50  mAP50-95): 100%|██████████| 2/2 [00:00<00:00,  2.15it/s]"
          ]
        },
        {
          "output_type": "stream",
          "name": "stdout",
          "text": [
            "                   all         41         73      0.569      0.657      0.604      0.319\n"
          ]
        },
        {
          "output_type": "stream",
          "name": "stderr",
          "text": [
            "\n"
          ]
        },
        {
          "output_type": "stream",
          "name": "stdout",
          "text": [
            "\n",
            "      Epoch    GPU_mem   box_loss   cls_loss   dfl_loss  Instances       Size\n"
          ]
        },
        {
          "output_type": "stream",
          "name": "stderr",
          "text": [
            "      32/50      2.23G      1.283       1.25      1.194         25        640: 100%|██████████| 15/15 [00:04<00:00,  3.45it/s]\n",
            "                 Class     Images  Instances      Box(P          R      mAP50  mAP50-95): 100%|██████████| 2/2 [00:00<00:00,  3.66it/s]"
          ]
        },
        {
          "output_type": "stream",
          "name": "stdout",
          "text": [
            "                   all         41         73      0.665      0.679      0.668      0.336\n"
          ]
        },
        {
          "output_type": "stream",
          "name": "stderr",
          "text": [
            "\n"
          ]
        },
        {
          "output_type": "stream",
          "name": "stdout",
          "text": [
            "\n",
            "      Epoch    GPU_mem   box_loss   cls_loss   dfl_loss  Instances       Size\n"
          ]
        },
        {
          "output_type": "stream",
          "name": "stderr",
          "text": [
            "      33/50      2.23G      1.277      1.238      1.197         15        640: 100%|██████████| 15/15 [00:03<00:00,  4.55it/s]\n",
            "                 Class     Images  Instances      Box(P          R      mAP50  mAP50-95): 100%|██████████| 2/2 [00:00<00:00,  3.43it/s]"
          ]
        },
        {
          "output_type": "stream",
          "name": "stdout",
          "text": [
            "                   all         41         73      0.642      0.711      0.676      0.314\n"
          ]
        },
        {
          "output_type": "stream",
          "name": "stderr",
          "text": [
            "\n"
          ]
        },
        {
          "output_type": "stream",
          "name": "stdout",
          "text": [
            "\n",
            "      Epoch    GPU_mem   box_loss   cls_loss   dfl_loss  Instances       Size\n"
          ]
        },
        {
          "output_type": "stream",
          "name": "stderr",
          "text": [
            "      34/50      2.21G      1.258      1.188      1.179         26        640: 100%|██████████| 15/15 [00:04<00:00,  3.62it/s]\n",
            "                 Class     Images  Instances      Box(P          R      mAP50  mAP50-95): 100%|██████████| 2/2 [00:00<00:00,  2.79it/s]"
          ]
        },
        {
          "output_type": "stream",
          "name": "stdout",
          "text": [
            "                   all         41         73      0.544      0.712       0.68      0.352\n"
          ]
        },
        {
          "output_type": "stream",
          "name": "stderr",
          "text": [
            "\n"
          ]
        },
        {
          "output_type": "stream",
          "name": "stdout",
          "text": [
            "\n",
            "      Epoch    GPU_mem   box_loss   cls_loss   dfl_loss  Instances       Size\n"
          ]
        },
        {
          "output_type": "stream",
          "name": "stderr",
          "text": [
            "      35/50      2.23G      1.235      1.198      1.181          9        640: 100%|██████████| 15/15 [00:04<00:00,  3.03it/s]\n",
            "                 Class     Images  Instances      Box(P          R      mAP50  mAP50-95): 100%|██████████| 2/2 [00:00<00:00,  3.84it/s]"
          ]
        },
        {
          "output_type": "stream",
          "name": "stdout",
          "text": [
            "                   all         41         73      0.613      0.735      0.678      0.356\n"
          ]
        },
        {
          "output_type": "stream",
          "name": "stderr",
          "text": [
            "\n"
          ]
        },
        {
          "output_type": "stream",
          "name": "stdout",
          "text": [
            "\n",
            "      Epoch    GPU_mem   box_loss   cls_loss   dfl_loss  Instances       Size\n"
          ]
        },
        {
          "output_type": "stream",
          "name": "stderr",
          "text": [
            "      36/50      2.23G      1.247      1.205      1.201         10        640: 100%|██████████| 15/15 [00:03<00:00,  4.13it/s]\n",
            "                 Class     Images  Instances      Box(P          R      mAP50  mAP50-95): 100%|██████████| 2/2 [00:00<00:00,  4.47it/s]"
          ]
        },
        {
          "output_type": "stream",
          "name": "stdout",
          "text": [
            "                   all         41         73      0.607      0.702      0.646      0.323\n"
          ]
        },
        {
          "output_type": "stream",
          "name": "stderr",
          "text": [
            "\n"
          ]
        },
        {
          "output_type": "stream",
          "name": "stdout",
          "text": [
            "\n",
            "      Epoch    GPU_mem   box_loss   cls_loss   dfl_loss  Instances       Size\n"
          ]
        },
        {
          "output_type": "stream",
          "name": "stderr",
          "text": [
            "      37/50       2.2G      1.246      1.148       1.17         26        640: 100%|██████████| 15/15 [00:03<00:00,  4.12it/s]\n",
            "                 Class     Images  Instances      Box(P          R      mAP50  mAP50-95): 100%|██████████| 2/2 [00:00<00:00,  2.43it/s]"
          ]
        },
        {
          "output_type": "stream",
          "name": "stdout",
          "text": [
            "                   all         41         73      0.743      0.614       0.65      0.325\n"
          ]
        },
        {
          "output_type": "stream",
          "name": "stderr",
          "text": [
            "\n"
          ]
        },
        {
          "output_type": "stream",
          "name": "stdout",
          "text": [
            "\n",
            "      Epoch    GPU_mem   box_loss   cls_loss   dfl_loss  Instances       Size\n"
          ]
        },
        {
          "output_type": "stream",
          "name": "stderr",
          "text": [
            "      38/50      2.23G      1.199      1.105      1.145         22        640: 100%|██████████| 15/15 [00:06<00:00,  2.40it/s]\n",
            "                 Class     Images  Instances      Box(P          R      mAP50  mAP50-95): 100%|██████████| 2/2 [00:00<00:00,  2.79it/s]"
          ]
        },
        {
          "output_type": "stream",
          "name": "stdout",
          "text": [
            "                   all         41         73      0.604      0.687      0.615      0.327\n"
          ]
        },
        {
          "output_type": "stream",
          "name": "stderr",
          "text": [
            "\n"
          ]
        },
        {
          "output_type": "stream",
          "name": "stdout",
          "text": [
            "\n",
            "      Epoch    GPU_mem   box_loss   cls_loss   dfl_loss  Instances       Size\n"
          ]
        },
        {
          "output_type": "stream",
          "name": "stderr",
          "text": [
            "      39/50      2.22G      1.175      1.096      1.153         23        640: 100%|██████████| 15/15 [00:04<00:00,  3.45it/s]\n",
            "                 Class     Images  Instances      Box(P          R      mAP50  mAP50-95): 100%|██████████| 2/2 [00:00<00:00,  3.79it/s]"
          ]
        },
        {
          "output_type": "stream",
          "name": "stdout",
          "text": [
            "                   all         41         73      0.574       0.79      0.603        0.3\n"
          ]
        },
        {
          "output_type": "stream",
          "name": "stderr",
          "text": [
            "\n"
          ]
        },
        {
          "output_type": "stream",
          "name": "stdout",
          "text": [
            "\n",
            "      Epoch    GPU_mem   box_loss   cls_loss   dfl_loss  Instances       Size\n"
          ]
        },
        {
          "output_type": "stream",
          "name": "stderr",
          "text": [
            "      40/50      2.21G      1.189      1.122      1.159         22        640: 100%|██████████| 15/15 [00:03<00:00,  3.91it/s]\n",
            "                 Class     Images  Instances      Box(P          R      mAP50  mAP50-95): 100%|██████████| 2/2 [00:00<00:00,  2.03it/s]"
          ]
        },
        {
          "output_type": "stream",
          "name": "stdout",
          "text": [
            "                   all         41         73      0.631      0.662      0.625      0.308\n"
          ]
        },
        {
          "output_type": "stream",
          "name": "stderr",
          "text": [
            "\n"
          ]
        },
        {
          "output_type": "stream",
          "name": "stdout",
          "text": [
            "Closing dataloader mosaic\n",
            "\u001b[34m\u001b[1malbumentations: \u001b[0mBlur(p=0.01, blur_limit=(3, 7)), MedianBlur(p=0.01, blur_limit=(3, 7)), ToGray(p=0.01, num_output_channels=3, method='weighted_average'), CLAHE(p=0.01, clip_limit=(1.0, 4.0), tile_grid_size=(8, 8))\n",
            "\n",
            "      Epoch    GPU_mem   box_loss   cls_loss   dfl_loss  Instances       Size\n"
          ]
        },
        {
          "output_type": "stream",
          "name": "stderr",
          "text": [
            "      41/50      2.21G      1.225      1.357      1.214          8        640: 100%|██████████| 15/15 [00:07<00:00,  2.14it/s]\n",
            "                 Class     Images  Instances      Box(P          R      mAP50  mAP50-95): 100%|██████████| 2/2 [00:00<00:00,  3.11it/s]\n"
          ]
        },
        {
          "output_type": "stream",
          "name": "stdout",
          "text": [
            "                   all         41         73      0.594      0.674      0.598      0.297\n",
            "\n",
            "      Epoch    GPU_mem   box_loss   cls_loss   dfl_loss  Instances       Size\n"
          ]
        },
        {
          "output_type": "stream",
          "name": "stderr",
          "text": [
            "      42/50      2.21G      1.205      1.318       1.18          4        640: 100%|██████████| 15/15 [00:03<00:00,  4.50it/s]\n",
            "                 Class     Images  Instances      Box(P          R      mAP50  mAP50-95): 100%|██████████| 2/2 [00:00<00:00,  3.52it/s]"
          ]
        },
        {
          "output_type": "stream",
          "name": "stdout",
          "text": [
            "                   all         41         73      0.563      0.654      0.568      0.292\n"
          ]
        },
        {
          "output_type": "stream",
          "name": "stderr",
          "text": [
            "\n"
          ]
        },
        {
          "output_type": "stream",
          "name": "stdout",
          "text": [
            "\n",
            "      Epoch    GPU_mem   box_loss   cls_loss   dfl_loss  Instances       Size\n"
          ]
        },
        {
          "output_type": "stream",
          "name": "stderr",
          "text": [
            "      43/50      2.18G      1.131       1.14      1.142          6        640: 100%|██████████| 15/15 [00:04<00:00,  3.30it/s]\n",
            "                 Class     Images  Instances      Box(P          R      mAP50  mAP50-95): 100%|██████████| 2/2 [00:01<00:00,  1.93it/s]"
          ]
        },
        {
          "output_type": "stream",
          "name": "stdout",
          "text": [
            "                   all         41         73      0.562      0.738      0.626      0.305\n"
          ]
        },
        {
          "output_type": "stream",
          "name": "stderr",
          "text": [
            "\n"
          ]
        },
        {
          "output_type": "stream",
          "name": "stdout",
          "text": [
            "\n",
            "      Epoch    GPU_mem   box_loss   cls_loss   dfl_loss  Instances       Size\n"
          ]
        },
        {
          "output_type": "stream",
          "name": "stderr",
          "text": [
            "      44/50      2.19G      1.142       1.15      1.143          6        640: 100%|██████████| 15/15 [00:04<00:00,  3.50it/s]\n",
            "                 Class     Images  Instances      Box(P          R      mAP50  mAP50-95): 100%|██████████| 2/2 [00:00<00:00,  3.22it/s]"
          ]
        },
        {
          "output_type": "stream",
          "name": "stdout",
          "text": [
            "                   all         41         73      0.609      0.788      0.643      0.307\n"
          ]
        },
        {
          "output_type": "stream",
          "name": "stderr",
          "text": [
            "\n"
          ]
        },
        {
          "output_type": "stream",
          "name": "stdout",
          "text": [
            "\n",
            "      Epoch    GPU_mem   box_loss   cls_loss   dfl_loss  Instances       Size\n"
          ]
        },
        {
          "output_type": "stream",
          "name": "stderr",
          "text": [
            "      45/50      2.19G      1.135      1.149       1.17          6        640: 100%|██████████| 15/15 [00:03<00:00,  4.29it/s]\n",
            "                 Class     Images  Instances      Box(P          R      mAP50  mAP50-95): 100%|██████████| 2/2 [00:00<00:00,  3.72it/s]"
          ]
        },
        {
          "output_type": "stream",
          "name": "stdout",
          "text": [
            "                   all         41         73      0.655      0.736       0.66      0.341\n"
          ]
        },
        {
          "output_type": "stream",
          "name": "stderr",
          "text": [
            "\n"
          ]
        },
        {
          "output_type": "stream",
          "name": "stdout",
          "text": [
            "\n",
            "      Epoch    GPU_mem   box_loss   cls_loss   dfl_loss  Instances       Size\n"
          ]
        },
        {
          "output_type": "stream",
          "name": "stderr",
          "text": [
            "      46/50      2.21G      1.122      1.104      1.157          6        640: 100%|██████████| 15/15 [00:04<00:00,  3.64it/s]\n",
            "                 Class     Images  Instances      Box(P          R      mAP50  mAP50-95): 100%|██████████| 2/2 [00:00<00:00,  2.21it/s]"
          ]
        },
        {
          "output_type": "stream",
          "name": "stdout",
          "text": [
            "                   all         41         73      0.636      0.798       0.66      0.341\n"
          ]
        },
        {
          "output_type": "stream",
          "name": "stderr",
          "text": [
            "\n"
          ]
        },
        {
          "output_type": "stream",
          "name": "stdout",
          "text": [
            "\n",
            "      Epoch    GPU_mem   box_loss   cls_loss   dfl_loss  Instances       Size\n"
          ]
        },
        {
          "output_type": "stream",
          "name": "stderr",
          "text": [
            "      47/50      2.18G      1.111      1.054      1.126         10        640: 100%|██████████| 15/15 [00:05<00:00,  2.92it/s]\n",
            "                 Class     Images  Instances      Box(P          R      mAP50  mAP50-95): 100%|██████████| 2/2 [00:00<00:00,  4.62it/s]"
          ]
        },
        {
          "output_type": "stream",
          "name": "stdout",
          "text": [
            "                   all         41         73      0.607      0.773      0.635       0.34\n"
          ]
        },
        {
          "output_type": "stream",
          "name": "stderr",
          "text": [
            "\n"
          ]
        },
        {
          "output_type": "stream",
          "name": "stdout",
          "text": [
            "\n",
            "      Epoch    GPU_mem   box_loss   cls_loss   dfl_loss  Instances       Size\n"
          ]
        },
        {
          "output_type": "stream",
          "name": "stderr",
          "text": [
            "      48/50      2.19G      1.158      1.094      1.164         10        640: 100%|██████████| 15/15 [00:03<00:00,  4.55it/s]\n",
            "                 Class     Images  Instances      Box(P          R      mAP50  mAP50-95): 100%|██████████| 2/2 [00:00<00:00,  3.78it/s]"
          ]
        },
        {
          "output_type": "stream",
          "name": "stdout",
          "text": [
            "                   all         41         73      0.643      0.777      0.651      0.335\n"
          ]
        },
        {
          "output_type": "stream",
          "name": "stderr",
          "text": [
            "\n"
          ]
        },
        {
          "output_type": "stream",
          "name": "stdout",
          "text": [
            "\n",
            "      Epoch    GPU_mem   box_loss   cls_loss   dfl_loss  Instances       Size\n"
          ]
        },
        {
          "output_type": "stream",
          "name": "stderr",
          "text": [
            "      49/50      2.19G       1.08      1.085      1.134          5        640: 100%|██████████| 15/15 [00:03<00:00,  4.53it/s]\n",
            "                 Class     Images  Instances      Box(P          R      mAP50  mAP50-95): 100%|██████████| 2/2 [00:00<00:00,  3.16it/s]"
          ]
        },
        {
          "output_type": "stream",
          "name": "stdout",
          "text": [
            "                   all         41         73      0.654      0.763      0.637      0.335\n"
          ]
        },
        {
          "output_type": "stream",
          "name": "stderr",
          "text": [
            "\n"
          ]
        },
        {
          "output_type": "stream",
          "name": "stdout",
          "text": [
            "\n",
            "      Epoch    GPU_mem   box_loss   cls_loss   dfl_loss  Instances       Size\n"
          ]
        },
        {
          "output_type": "stream",
          "name": "stderr",
          "text": [
            "      50/50      2.21G       1.04      1.023      1.082         12        640: 100%|██████████| 15/15 [00:05<00:00,  2.81it/s]\n",
            "                 Class     Images  Instances      Box(P          R      mAP50  mAP50-95): 100%|██████████| 2/2 [00:00<00:00,  3.51it/s]"
          ]
        },
        {
          "output_type": "stream",
          "name": "stdout",
          "text": [
            "                   all         41         73      0.642      0.797      0.644      0.336\n"
          ]
        },
        {
          "output_type": "stream",
          "name": "stderr",
          "text": [
            "\n"
          ]
        },
        {
          "output_type": "stream",
          "name": "stdout",
          "text": [
            "\n",
            "50 epochs completed in 0.091 hours.\n",
            "Optimizer stripped from runs/detect/train/weights/last.pt, 6.2MB\n",
            "Optimizer stripped from runs/detect/train/weights/best.pt, 6.2MB\n",
            "\n",
            "Validating runs/detect/train/weights/best.pt...\n",
            "Ultralytics 8.3.63 🚀 Python-3.11.11 torch-2.5.1+cu121 CUDA:0 (Tesla T4, 15102MiB)\n",
            "Model summary (fused): 168 layers, 3,006,428 parameters, 0 gradients, 8.1 GFLOPs\n"
          ]
        },
        {
          "output_type": "stream",
          "name": "stderr",
          "text": [
            "                 Class     Images  Instances      Box(P          R      mAP50  mAP50-95): 100%|██████████| 2/2 [00:00<00:00,  4.88it/s]\n"
          ]
        },
        {
          "output_type": "stream",
          "name": "stdout",
          "text": [
            "                   all         41         73      0.612      0.735      0.684      0.359\n",
            "               channel         16         32      0.653      0.344      0.387      0.156\n",
            "                 flash         17         25      0.587       0.96      0.939      0.599\n",
            "                cavity          7          8       0.68        0.8      0.692      0.398\n",
            "          crack/groove          5          8      0.527      0.837      0.717      0.281\n",
            "Speed: 0.1ms preprocess, 2.6ms inference, 0.0ms loss, 1.6ms postprocess per image\n",
            "Results saved to \u001b[1mruns/detect/train\u001b[0m\n"
          ]
        },
        {
          "output_type": "execute_result",
          "data": {
            "text/plain": [
              "ultralytics.utils.metrics.DetMetrics object with attributes:\n",
              "\n",
              "ap_class_index: array([0, 1, 2, 3])\n",
              "box: ultralytics.utils.metrics.Metric object\n",
              "confusion_matrix: <ultralytics.utils.metrics.ConfusionMatrix object at 0x7de8bb0e8950>\n",
              "curves: ['Precision-Recall(B)', 'F1-Confidence(B)', 'Precision-Confidence(B)', 'Recall-Confidence(B)']\n",
              "curves_results: [[array([          0,    0.001001,    0.002002,    0.003003,    0.004004,    0.005005,    0.006006,    0.007007,    0.008008,    0.009009,     0.01001,    0.011011,    0.012012,    0.013013,    0.014014,    0.015015,    0.016016,    0.017017,    0.018018,    0.019019,     0.02002,    0.021021,    0.022022,    0.023023,\n",
              "          0.024024,    0.025025,    0.026026,    0.027027,    0.028028,    0.029029,     0.03003,    0.031031,    0.032032,    0.033033,    0.034034,    0.035035,    0.036036,    0.037037,    0.038038,    0.039039,     0.04004,    0.041041,    0.042042,    0.043043,    0.044044,    0.045045,    0.046046,    0.047047,\n",
              "          0.048048,    0.049049,     0.05005,    0.051051,    0.052052,    0.053053,    0.054054,    0.055055,    0.056056,    0.057057,    0.058058,    0.059059,     0.06006,    0.061061,    0.062062,    0.063063,    0.064064,    0.065065,    0.066066,    0.067067,    0.068068,    0.069069,     0.07007,    0.071071,\n",
              "          0.072072,    0.073073,    0.074074,    0.075075,    0.076076,    0.077077,    0.078078,    0.079079,     0.08008,    0.081081,    0.082082,    0.083083,    0.084084,    0.085085,    0.086086,    0.087087,    0.088088,    0.089089,     0.09009,    0.091091,    0.092092,    0.093093,    0.094094,    0.095095,\n",
              "          0.096096,    0.097097,    0.098098,    0.099099,      0.1001,      0.1011,      0.1021,      0.1031,      0.1041,     0.10511,     0.10611,     0.10711,     0.10811,     0.10911,     0.11011,     0.11111,     0.11211,     0.11311,     0.11411,     0.11512,     0.11612,     0.11712,     0.11812,     0.11912,\n",
              "           0.12012,     0.12112,     0.12212,     0.12312,     0.12412,     0.12513,     0.12613,     0.12713,     0.12813,     0.12913,     0.13013,     0.13113,     0.13213,     0.13313,     0.13413,     0.13514,     0.13614,     0.13714,     0.13814,     0.13914,     0.14014,     0.14114,     0.14214,     0.14314,\n",
              "           0.14414,     0.14515,     0.14615,     0.14715,     0.14815,     0.14915,     0.15015,     0.15115,     0.15215,     0.15315,     0.15415,     0.15516,     0.15616,     0.15716,     0.15816,     0.15916,     0.16016,     0.16116,     0.16216,     0.16316,     0.16416,     0.16517,     0.16617,     0.16717,\n",
              "           0.16817,     0.16917,     0.17017,     0.17117,     0.17217,     0.17317,     0.17417,     0.17518,     0.17618,     0.17718,     0.17818,     0.17918,     0.18018,     0.18118,     0.18218,     0.18318,     0.18418,     0.18519,     0.18619,     0.18719,     0.18819,     0.18919,     0.19019,     0.19119,\n",
              "           0.19219,     0.19319,     0.19419,      0.1952,      0.1962,      0.1972,      0.1982,      0.1992,      0.2002,      0.2012,      0.2022,      0.2032,      0.2042,     0.20521,     0.20621,     0.20721,     0.20821,     0.20921,     0.21021,     0.21121,     0.21221,     0.21321,     0.21421,     0.21522,\n",
              "           0.21622,     0.21722,     0.21822,     0.21922,     0.22022,     0.22122,     0.22222,     0.22322,     0.22422,     0.22523,     0.22623,     0.22723,     0.22823,     0.22923,     0.23023,     0.23123,     0.23223,     0.23323,     0.23423,     0.23524,     0.23624,     0.23724,     0.23824,     0.23924,\n",
              "           0.24024,     0.24124,     0.24224,     0.24324,     0.24424,     0.24525,     0.24625,     0.24725,     0.24825,     0.24925,     0.25025,     0.25125,     0.25225,     0.25325,     0.25425,     0.25526,     0.25626,     0.25726,     0.25826,     0.25926,     0.26026,     0.26126,     0.26226,     0.26326,\n",
              "           0.26426,     0.26527,     0.26627,     0.26727,     0.26827,     0.26927,     0.27027,     0.27127,     0.27227,     0.27327,     0.27427,     0.27528,     0.27628,     0.27728,     0.27828,     0.27928,     0.28028,     0.28128,     0.28228,     0.28328,     0.28428,     0.28529,     0.28629,     0.28729,\n",
              "           0.28829,     0.28929,     0.29029,     0.29129,     0.29229,     0.29329,     0.29429,      0.2953,      0.2963,      0.2973,      0.2983,      0.2993,      0.3003,      0.3013,      0.3023,      0.3033,      0.3043,     0.30531,     0.30631,     0.30731,     0.30831,     0.30931,     0.31031,     0.31131,\n",
              "           0.31231,     0.31331,     0.31431,     0.31532,     0.31632,     0.31732,     0.31832,     0.31932,     0.32032,     0.32132,     0.32232,     0.32332,     0.32432,     0.32533,     0.32633,     0.32733,     0.32833,     0.32933,     0.33033,     0.33133,     0.33233,     0.33333,     0.33433,     0.33534,\n",
              "           0.33634,     0.33734,     0.33834,     0.33934,     0.34034,     0.34134,     0.34234,     0.34334,     0.34434,     0.34535,     0.34635,     0.34735,     0.34835,     0.34935,     0.35035,     0.35135,     0.35235,     0.35335,     0.35435,     0.35536,     0.35636,     0.35736,     0.35836,     0.35936,\n",
              "           0.36036,     0.36136,     0.36236,     0.36336,     0.36436,     0.36537,     0.36637,     0.36737,     0.36837,     0.36937,     0.37037,     0.37137,     0.37237,     0.37337,     0.37437,     0.37538,     0.37638,     0.37738,     0.37838,     0.37938,     0.38038,     0.38138,     0.38238,     0.38338,\n",
              "           0.38438,     0.38539,     0.38639,     0.38739,     0.38839,     0.38939,     0.39039,     0.39139,     0.39239,     0.39339,     0.39439,      0.3954,      0.3964,      0.3974,      0.3984,      0.3994,      0.4004,      0.4014,      0.4024,      0.4034,      0.4044,     0.40541,     0.40641,     0.40741,\n",
              "           0.40841,     0.40941,     0.41041,     0.41141,     0.41241,     0.41341,     0.41441,     0.41542,     0.41642,     0.41742,     0.41842,     0.41942,     0.42042,     0.42142,     0.42242,     0.42342,     0.42442,     0.42543,     0.42643,     0.42743,     0.42843,     0.42943,     0.43043,     0.43143,\n",
              "           0.43243,     0.43343,     0.43443,     0.43544,     0.43644,     0.43744,     0.43844,     0.43944,     0.44044,     0.44144,     0.44244,     0.44344,     0.44444,     0.44545,     0.44645,     0.44745,     0.44845,     0.44945,     0.45045,     0.45145,     0.45245,     0.45345,     0.45445,     0.45546,\n",
              "           0.45646,     0.45746,     0.45846,     0.45946,     0.46046,     0.46146,     0.46246,     0.46346,     0.46446,     0.46547,     0.46647,     0.46747,     0.46847,     0.46947,     0.47047,     0.47147,     0.47247,     0.47347,     0.47447,     0.47548,     0.47648,     0.47748,     0.47848,     0.47948,\n",
              "           0.48048,     0.48148,     0.48248,     0.48348,     0.48448,     0.48549,     0.48649,     0.48749,     0.48849,     0.48949,     0.49049,     0.49149,     0.49249,     0.49349,     0.49449,      0.4955,      0.4965,      0.4975,      0.4985,      0.4995,      0.5005,      0.5015,      0.5025,      0.5035,\n",
              "            0.5045,     0.50551,     0.50651,     0.50751,     0.50851,     0.50951,     0.51051,     0.51151,     0.51251,     0.51351,     0.51451,     0.51552,     0.51652,     0.51752,     0.51852,     0.51952,     0.52052,     0.52152,     0.52252,     0.52352,     0.52452,     0.52553,     0.52653,     0.52753,\n",
              "           0.52853,     0.52953,     0.53053,     0.53153,     0.53253,     0.53353,     0.53453,     0.53554,     0.53654,     0.53754,     0.53854,     0.53954,     0.54054,     0.54154,     0.54254,     0.54354,     0.54454,     0.54555,     0.54655,     0.54755,     0.54855,     0.54955,     0.55055,     0.55155,\n",
              "           0.55255,     0.55355,     0.55455,     0.55556,     0.55656,     0.55756,     0.55856,     0.55956,     0.56056,     0.56156,     0.56256,     0.56356,     0.56456,     0.56557,     0.56657,     0.56757,     0.56857,     0.56957,     0.57057,     0.57157,     0.57257,     0.57357,     0.57457,     0.57558,\n",
              "           0.57658,     0.57758,     0.57858,     0.57958,     0.58058,     0.58158,     0.58258,     0.58358,     0.58458,     0.58559,     0.58659,     0.58759,     0.58859,     0.58959,     0.59059,     0.59159,     0.59259,     0.59359,     0.59459,      0.5956,      0.5966,      0.5976,      0.5986,      0.5996,\n",
              "            0.6006,      0.6016,      0.6026,      0.6036,      0.6046,     0.60561,     0.60661,     0.60761,     0.60861,     0.60961,     0.61061,     0.61161,     0.61261,     0.61361,     0.61461,     0.61562,     0.61662,     0.61762,     0.61862,     0.61962,     0.62062,     0.62162,     0.62262,     0.62362,\n",
              "           0.62462,     0.62563,     0.62663,     0.62763,     0.62863,     0.62963,     0.63063,     0.63163,     0.63263,     0.63363,     0.63463,     0.63564,     0.63664,     0.63764,     0.63864,     0.63964,     0.64064,     0.64164,     0.64264,     0.64364,     0.64464,     0.64565,     0.64665,     0.64765,\n",
              "           0.64865,     0.64965,     0.65065,     0.65165,     0.65265,     0.65365,     0.65465,     0.65566,     0.65666,     0.65766,     0.65866,     0.65966,     0.66066,     0.66166,     0.66266,     0.66366,     0.66466,     0.66567,     0.66667,     0.66767,     0.66867,     0.66967,     0.67067,     0.67167,\n",
              "           0.67267,     0.67367,     0.67467,     0.67568,     0.67668,     0.67768,     0.67868,     0.67968,     0.68068,     0.68168,     0.68268,     0.68368,     0.68468,     0.68569,     0.68669,     0.68769,     0.68869,     0.68969,     0.69069,     0.69169,     0.69269,     0.69369,     0.69469,      0.6957,\n",
              "            0.6967,      0.6977,      0.6987,      0.6997,      0.7007,      0.7017,      0.7027,      0.7037,      0.7047,     0.70571,     0.70671,     0.70771,     0.70871,     0.70971,     0.71071,     0.71171,     0.71271,     0.71371,     0.71471,     0.71572,     0.71672,     0.71772,     0.71872,     0.71972,\n",
              "           0.72072,     0.72172,     0.72272,     0.72372,     0.72472,     0.72573,     0.72673,     0.72773,     0.72873,     0.72973,     0.73073,     0.73173,     0.73273,     0.73373,     0.73473,     0.73574,     0.73674,     0.73774,     0.73874,     0.73974,     0.74074,     0.74174,     0.74274,     0.74374,\n",
              "           0.74474,     0.74575,     0.74675,     0.74775,     0.74875,     0.74975,     0.75075,     0.75175,     0.75275,     0.75375,     0.75475,     0.75576,     0.75676,     0.75776,     0.75876,     0.75976,     0.76076,     0.76176,     0.76276,     0.76376,     0.76476,     0.76577,     0.76677,     0.76777,\n",
              "           0.76877,     0.76977,     0.77077,     0.77177,     0.77277,     0.77377,     0.77477,     0.77578,     0.77678,     0.77778,     0.77878,     0.77978,     0.78078,     0.78178,     0.78278,     0.78378,     0.78478,     0.78579,     0.78679,     0.78779,     0.78879,     0.78979,     0.79079,     0.79179,\n",
              "           0.79279,     0.79379,     0.79479,      0.7958,      0.7968,      0.7978,      0.7988,      0.7998,      0.8008,      0.8018,      0.8028,      0.8038,      0.8048,     0.80581,     0.80681,     0.80781,     0.80881,     0.80981,     0.81081,     0.81181,     0.81281,     0.81381,     0.81481,     0.81582,\n",
              "           0.81682,     0.81782,     0.81882,     0.81982,     0.82082,     0.82182,     0.82282,     0.82382,     0.82482,     0.82583,     0.82683,     0.82783,     0.82883,     0.82983,     0.83083,     0.83183,     0.83283,     0.83383,     0.83483,     0.83584,     0.83684,     0.83784,     0.83884,     0.83984,\n",
              "           0.84084,     0.84184,     0.84284,     0.84384,     0.84484,     0.84585,     0.84685,     0.84785,     0.84885,     0.84985,     0.85085,     0.85185,     0.85285,     0.85385,     0.85485,     0.85586,     0.85686,     0.85786,     0.85886,     0.85986,     0.86086,     0.86186,     0.86286,     0.86386,\n",
              "           0.86486,     0.86587,     0.86687,     0.86787,     0.86887,     0.86987,     0.87087,     0.87187,     0.87287,     0.87387,     0.87487,     0.87588,     0.87688,     0.87788,     0.87888,     0.87988,     0.88088,     0.88188,     0.88288,     0.88388,     0.88488,     0.88589,     0.88689,     0.88789,\n",
              "           0.88889,     0.88989,     0.89089,     0.89189,     0.89289,     0.89389,     0.89489,      0.8959,      0.8969,      0.8979,      0.8989,      0.8999,      0.9009,      0.9019,      0.9029,      0.9039,      0.9049,     0.90591,     0.90691,     0.90791,     0.90891,     0.90991,     0.91091,     0.91191,\n",
              "           0.91291,     0.91391,     0.91491,     0.91592,     0.91692,     0.91792,     0.91892,     0.91992,     0.92092,     0.92192,     0.92292,     0.92392,     0.92492,     0.92593,     0.92693,     0.92793,     0.92893,     0.92993,     0.93093,     0.93193,     0.93293,     0.93393,     0.93493,     0.93594,\n",
              "           0.93694,     0.93794,     0.93894,     0.93994,     0.94094,     0.94194,     0.94294,     0.94394,     0.94494,     0.94595,     0.94695,     0.94795,     0.94895,     0.94995,     0.95095,     0.95195,     0.95295,     0.95395,     0.95495,     0.95596,     0.95696,     0.95796,     0.95896,     0.95996,\n",
              "           0.96096,     0.96196,     0.96296,     0.96396,     0.96496,     0.96597,     0.96697,     0.96797,     0.96897,     0.96997,     0.97097,     0.97197,     0.97297,     0.97397,     0.97497,     0.97598,     0.97698,     0.97798,     0.97898,     0.97998,     0.98098,     0.98198,     0.98298,     0.98398,\n",
              "           0.98498,     0.98599,     0.98699,     0.98799,     0.98899,     0.98999,     0.99099,     0.99199,     0.99299,     0.99399,     0.99499,       0.996,       0.997,       0.998,       0.999,           1]), array([[          1,           1,           1, ...,   0.0002972,   0.0001486,           0],\n",
              "       [          1,           1,           1, ...,     0.32051,     0.32051,           0],\n",
              "       [        0.7,         0.7,         0.7, ...,     0.66667,     0.66667,           0],\n",
              "       [          1,           1,           1, ...,     0.12121,     0.12121,           0]]), 'Recall', 'Precision'], [array([          0,    0.001001,    0.002002,    0.003003,    0.004004,    0.005005,    0.006006,    0.007007,    0.008008,    0.009009,     0.01001,    0.011011,    0.012012,    0.013013,    0.014014,    0.015015,    0.016016,    0.017017,    0.018018,    0.019019,     0.02002,    0.021021,    0.022022,    0.023023,\n",
              "          0.024024,    0.025025,    0.026026,    0.027027,    0.028028,    0.029029,     0.03003,    0.031031,    0.032032,    0.033033,    0.034034,    0.035035,    0.036036,    0.037037,    0.038038,    0.039039,     0.04004,    0.041041,    0.042042,    0.043043,    0.044044,    0.045045,    0.046046,    0.047047,\n",
              "          0.048048,    0.049049,     0.05005,    0.051051,    0.052052,    0.053053,    0.054054,    0.055055,    0.056056,    0.057057,    0.058058,    0.059059,     0.06006,    0.061061,    0.062062,    0.063063,    0.064064,    0.065065,    0.066066,    0.067067,    0.068068,    0.069069,     0.07007,    0.071071,\n",
              "          0.072072,    0.073073,    0.074074,    0.075075,    0.076076,    0.077077,    0.078078,    0.079079,     0.08008,    0.081081,    0.082082,    0.083083,    0.084084,    0.085085,    0.086086,    0.087087,    0.088088,    0.089089,     0.09009,    0.091091,    0.092092,    0.093093,    0.094094,    0.095095,\n",
              "          0.096096,    0.097097,    0.098098,    0.099099,      0.1001,      0.1011,      0.1021,      0.1031,      0.1041,     0.10511,     0.10611,     0.10711,     0.10811,     0.10911,     0.11011,     0.11111,     0.11211,     0.11311,     0.11411,     0.11512,     0.11612,     0.11712,     0.11812,     0.11912,\n",
              "           0.12012,     0.12112,     0.12212,     0.12312,     0.12412,     0.12513,     0.12613,     0.12713,     0.12813,     0.12913,     0.13013,     0.13113,     0.13213,     0.13313,     0.13413,     0.13514,     0.13614,     0.13714,     0.13814,     0.13914,     0.14014,     0.14114,     0.14214,     0.14314,\n",
              "           0.14414,     0.14515,     0.14615,     0.14715,     0.14815,     0.14915,     0.15015,     0.15115,     0.15215,     0.15315,     0.15415,     0.15516,     0.15616,     0.15716,     0.15816,     0.15916,     0.16016,     0.16116,     0.16216,     0.16316,     0.16416,     0.16517,     0.16617,     0.16717,\n",
              "           0.16817,     0.16917,     0.17017,     0.17117,     0.17217,     0.17317,     0.17417,     0.17518,     0.17618,     0.17718,     0.17818,     0.17918,     0.18018,     0.18118,     0.18218,     0.18318,     0.18418,     0.18519,     0.18619,     0.18719,     0.18819,     0.18919,     0.19019,     0.19119,\n",
              "           0.19219,     0.19319,     0.19419,      0.1952,      0.1962,      0.1972,      0.1982,      0.1992,      0.2002,      0.2012,      0.2022,      0.2032,      0.2042,     0.20521,     0.20621,     0.20721,     0.20821,     0.20921,     0.21021,     0.21121,     0.21221,     0.21321,     0.21421,     0.21522,\n",
              "           0.21622,     0.21722,     0.21822,     0.21922,     0.22022,     0.22122,     0.22222,     0.22322,     0.22422,     0.22523,     0.22623,     0.22723,     0.22823,     0.22923,     0.23023,     0.23123,     0.23223,     0.23323,     0.23423,     0.23524,     0.23624,     0.23724,     0.23824,     0.23924,\n",
              "           0.24024,     0.24124,     0.24224,     0.24324,     0.24424,     0.24525,     0.24625,     0.24725,     0.24825,     0.24925,     0.25025,     0.25125,     0.25225,     0.25325,     0.25425,     0.25526,     0.25626,     0.25726,     0.25826,     0.25926,     0.26026,     0.26126,     0.26226,     0.26326,\n",
              "           0.26426,     0.26527,     0.26627,     0.26727,     0.26827,     0.26927,     0.27027,     0.27127,     0.27227,     0.27327,     0.27427,     0.27528,     0.27628,     0.27728,     0.27828,     0.27928,     0.28028,     0.28128,     0.28228,     0.28328,     0.28428,     0.28529,     0.28629,     0.28729,\n",
              "           0.28829,     0.28929,     0.29029,     0.29129,     0.29229,     0.29329,     0.29429,      0.2953,      0.2963,      0.2973,      0.2983,      0.2993,      0.3003,      0.3013,      0.3023,      0.3033,      0.3043,     0.30531,     0.30631,     0.30731,     0.30831,     0.30931,     0.31031,     0.31131,\n",
              "           0.31231,     0.31331,     0.31431,     0.31532,     0.31632,     0.31732,     0.31832,     0.31932,     0.32032,     0.32132,     0.32232,     0.32332,     0.32432,     0.32533,     0.32633,     0.32733,     0.32833,     0.32933,     0.33033,     0.33133,     0.33233,     0.33333,     0.33433,     0.33534,\n",
              "           0.33634,     0.33734,     0.33834,     0.33934,     0.34034,     0.34134,     0.34234,     0.34334,     0.34434,     0.34535,     0.34635,     0.34735,     0.34835,     0.34935,     0.35035,     0.35135,     0.35235,     0.35335,     0.35435,     0.35536,     0.35636,     0.35736,     0.35836,     0.35936,\n",
              "           0.36036,     0.36136,     0.36236,     0.36336,     0.36436,     0.36537,     0.36637,     0.36737,     0.36837,     0.36937,     0.37037,     0.37137,     0.37237,     0.37337,     0.37437,     0.37538,     0.37638,     0.37738,     0.37838,     0.37938,     0.38038,     0.38138,     0.38238,     0.38338,\n",
              "           0.38438,     0.38539,     0.38639,     0.38739,     0.38839,     0.38939,     0.39039,     0.39139,     0.39239,     0.39339,     0.39439,      0.3954,      0.3964,      0.3974,      0.3984,      0.3994,      0.4004,      0.4014,      0.4024,      0.4034,      0.4044,     0.40541,     0.40641,     0.40741,\n",
              "           0.40841,     0.40941,     0.41041,     0.41141,     0.41241,     0.41341,     0.41441,     0.41542,     0.41642,     0.41742,     0.41842,     0.41942,     0.42042,     0.42142,     0.42242,     0.42342,     0.42442,     0.42543,     0.42643,     0.42743,     0.42843,     0.42943,     0.43043,     0.43143,\n",
              "           0.43243,     0.43343,     0.43443,     0.43544,     0.43644,     0.43744,     0.43844,     0.43944,     0.44044,     0.44144,     0.44244,     0.44344,     0.44444,     0.44545,     0.44645,     0.44745,     0.44845,     0.44945,     0.45045,     0.45145,     0.45245,     0.45345,     0.45445,     0.45546,\n",
              "           0.45646,     0.45746,     0.45846,     0.45946,     0.46046,     0.46146,     0.46246,     0.46346,     0.46446,     0.46547,     0.46647,     0.46747,     0.46847,     0.46947,     0.47047,     0.47147,     0.47247,     0.47347,     0.47447,     0.47548,     0.47648,     0.47748,     0.47848,     0.47948,\n",
              "           0.48048,     0.48148,     0.48248,     0.48348,     0.48448,     0.48549,     0.48649,     0.48749,     0.48849,     0.48949,     0.49049,     0.49149,     0.49249,     0.49349,     0.49449,      0.4955,      0.4965,      0.4975,      0.4985,      0.4995,      0.5005,      0.5015,      0.5025,      0.5035,\n",
              "            0.5045,     0.50551,     0.50651,     0.50751,     0.50851,     0.50951,     0.51051,     0.51151,     0.51251,     0.51351,     0.51451,     0.51552,     0.51652,     0.51752,     0.51852,     0.51952,     0.52052,     0.52152,     0.52252,     0.52352,     0.52452,     0.52553,     0.52653,     0.52753,\n",
              "           0.52853,     0.52953,     0.53053,     0.53153,     0.53253,     0.53353,     0.53453,     0.53554,     0.53654,     0.53754,     0.53854,     0.53954,     0.54054,     0.54154,     0.54254,     0.54354,     0.54454,     0.54555,     0.54655,     0.54755,     0.54855,     0.54955,     0.55055,     0.55155,\n",
              "           0.55255,     0.55355,     0.55455,     0.55556,     0.55656,     0.55756,     0.55856,     0.55956,     0.56056,     0.56156,     0.56256,     0.56356,     0.56456,     0.56557,     0.56657,     0.56757,     0.56857,     0.56957,     0.57057,     0.57157,     0.57257,     0.57357,     0.57457,     0.57558,\n",
              "           0.57658,     0.57758,     0.57858,     0.57958,     0.58058,     0.58158,     0.58258,     0.58358,     0.58458,     0.58559,     0.58659,     0.58759,     0.58859,     0.58959,     0.59059,     0.59159,     0.59259,     0.59359,     0.59459,      0.5956,      0.5966,      0.5976,      0.5986,      0.5996,\n",
              "            0.6006,      0.6016,      0.6026,      0.6036,      0.6046,     0.60561,     0.60661,     0.60761,     0.60861,     0.60961,     0.61061,     0.61161,     0.61261,     0.61361,     0.61461,     0.61562,     0.61662,     0.61762,     0.61862,     0.61962,     0.62062,     0.62162,     0.62262,     0.62362,\n",
              "           0.62462,     0.62563,     0.62663,     0.62763,     0.62863,     0.62963,     0.63063,     0.63163,     0.63263,     0.63363,     0.63463,     0.63564,     0.63664,     0.63764,     0.63864,     0.63964,     0.64064,     0.64164,     0.64264,     0.64364,     0.64464,     0.64565,     0.64665,     0.64765,\n",
              "           0.64865,     0.64965,     0.65065,     0.65165,     0.65265,     0.65365,     0.65465,     0.65566,     0.65666,     0.65766,     0.65866,     0.65966,     0.66066,     0.66166,     0.66266,     0.66366,     0.66466,     0.66567,     0.66667,     0.66767,     0.66867,     0.66967,     0.67067,     0.67167,\n",
              "           0.67267,     0.67367,     0.67467,     0.67568,     0.67668,     0.67768,     0.67868,     0.67968,     0.68068,     0.68168,     0.68268,     0.68368,     0.68468,     0.68569,     0.68669,     0.68769,     0.68869,     0.68969,     0.69069,     0.69169,     0.69269,     0.69369,     0.69469,      0.6957,\n",
              "            0.6967,      0.6977,      0.6987,      0.6997,      0.7007,      0.7017,      0.7027,      0.7037,      0.7047,     0.70571,     0.70671,     0.70771,     0.70871,     0.70971,     0.71071,     0.71171,     0.71271,     0.71371,     0.71471,     0.71572,     0.71672,     0.71772,     0.71872,     0.71972,\n",
              "           0.72072,     0.72172,     0.72272,     0.72372,     0.72472,     0.72573,     0.72673,     0.72773,     0.72873,     0.72973,     0.73073,     0.73173,     0.73273,     0.73373,     0.73473,     0.73574,     0.73674,     0.73774,     0.73874,     0.73974,     0.74074,     0.74174,     0.74274,     0.74374,\n",
              "           0.74474,     0.74575,     0.74675,     0.74775,     0.74875,     0.74975,     0.75075,     0.75175,     0.75275,     0.75375,     0.75475,     0.75576,     0.75676,     0.75776,     0.75876,     0.75976,     0.76076,     0.76176,     0.76276,     0.76376,     0.76476,     0.76577,     0.76677,     0.76777,\n",
              "           0.76877,     0.76977,     0.77077,     0.77177,     0.77277,     0.77377,     0.77477,     0.77578,     0.77678,     0.77778,     0.77878,     0.77978,     0.78078,     0.78178,     0.78278,     0.78378,     0.78478,     0.78579,     0.78679,     0.78779,     0.78879,     0.78979,     0.79079,     0.79179,\n",
              "           0.79279,     0.79379,     0.79479,      0.7958,      0.7968,      0.7978,      0.7988,      0.7998,      0.8008,      0.8018,      0.8028,      0.8038,      0.8048,     0.80581,     0.80681,     0.80781,     0.80881,     0.80981,     0.81081,     0.81181,     0.81281,     0.81381,     0.81481,     0.81582,\n",
              "           0.81682,     0.81782,     0.81882,     0.81982,     0.82082,     0.82182,     0.82282,     0.82382,     0.82482,     0.82583,     0.82683,     0.82783,     0.82883,     0.82983,     0.83083,     0.83183,     0.83283,     0.83383,     0.83483,     0.83584,     0.83684,     0.83784,     0.83884,     0.83984,\n",
              "           0.84084,     0.84184,     0.84284,     0.84384,     0.84484,     0.84585,     0.84685,     0.84785,     0.84885,     0.84985,     0.85085,     0.85185,     0.85285,     0.85385,     0.85485,     0.85586,     0.85686,     0.85786,     0.85886,     0.85986,     0.86086,     0.86186,     0.86286,     0.86386,\n",
              "           0.86486,     0.86587,     0.86687,     0.86787,     0.86887,     0.86987,     0.87087,     0.87187,     0.87287,     0.87387,     0.87487,     0.87588,     0.87688,     0.87788,     0.87888,     0.87988,     0.88088,     0.88188,     0.88288,     0.88388,     0.88488,     0.88589,     0.88689,     0.88789,\n",
              "           0.88889,     0.88989,     0.89089,     0.89189,     0.89289,     0.89389,     0.89489,      0.8959,      0.8969,      0.8979,      0.8989,      0.8999,      0.9009,      0.9019,      0.9029,      0.9039,      0.9049,     0.90591,     0.90691,     0.90791,     0.90891,     0.90991,     0.91091,     0.91191,\n",
              "           0.91291,     0.91391,     0.91491,     0.91592,     0.91692,     0.91792,     0.91892,     0.91992,     0.92092,     0.92192,     0.92292,     0.92392,     0.92492,     0.92593,     0.92693,     0.92793,     0.92893,     0.92993,     0.93093,     0.93193,     0.93293,     0.93393,     0.93493,     0.93594,\n",
              "           0.93694,     0.93794,     0.93894,     0.93994,     0.94094,     0.94194,     0.94294,     0.94394,     0.94494,     0.94595,     0.94695,     0.94795,     0.94895,     0.94995,     0.95095,     0.95195,     0.95295,     0.95395,     0.95495,     0.95596,     0.95696,     0.95796,     0.95896,     0.95996,\n",
              "           0.96096,     0.96196,     0.96296,     0.96396,     0.96496,     0.96597,     0.96697,     0.96797,     0.96897,     0.96997,     0.97097,     0.97197,     0.97297,     0.97397,     0.97497,     0.97598,     0.97698,     0.97798,     0.97898,     0.97998,     0.98098,     0.98198,     0.98298,     0.98398,\n",
              "           0.98498,     0.98599,     0.98699,     0.98799,     0.98899,     0.98999,     0.99099,     0.99199,     0.99299,     0.99399,     0.99499,       0.996,       0.997,       0.998,       0.999,           1]), array([[   0.045151,    0.045151,    0.098342, ...,           0,           0,           0],\n",
              "       [   0.033693,    0.033693,    0.067468, ...,           0,           0,           0],\n",
              "       [   0.033333,    0.033333,    0.061175, ...,           0,           0,           0],\n",
              "       [   0.022284,    0.022284,    0.043824, ...,           0,           0,           0]]), 'Confidence', 'F1'], [array([          0,    0.001001,    0.002002,    0.003003,    0.004004,    0.005005,    0.006006,    0.007007,    0.008008,    0.009009,     0.01001,    0.011011,    0.012012,    0.013013,    0.014014,    0.015015,    0.016016,    0.017017,    0.018018,    0.019019,     0.02002,    0.021021,    0.022022,    0.023023,\n",
              "          0.024024,    0.025025,    0.026026,    0.027027,    0.028028,    0.029029,     0.03003,    0.031031,    0.032032,    0.033033,    0.034034,    0.035035,    0.036036,    0.037037,    0.038038,    0.039039,     0.04004,    0.041041,    0.042042,    0.043043,    0.044044,    0.045045,    0.046046,    0.047047,\n",
              "          0.048048,    0.049049,     0.05005,    0.051051,    0.052052,    0.053053,    0.054054,    0.055055,    0.056056,    0.057057,    0.058058,    0.059059,     0.06006,    0.061061,    0.062062,    0.063063,    0.064064,    0.065065,    0.066066,    0.067067,    0.068068,    0.069069,     0.07007,    0.071071,\n",
              "          0.072072,    0.073073,    0.074074,    0.075075,    0.076076,    0.077077,    0.078078,    0.079079,     0.08008,    0.081081,    0.082082,    0.083083,    0.084084,    0.085085,    0.086086,    0.087087,    0.088088,    0.089089,     0.09009,    0.091091,    0.092092,    0.093093,    0.094094,    0.095095,\n",
              "          0.096096,    0.097097,    0.098098,    0.099099,      0.1001,      0.1011,      0.1021,      0.1031,      0.1041,     0.10511,     0.10611,     0.10711,     0.10811,     0.10911,     0.11011,     0.11111,     0.11211,     0.11311,     0.11411,     0.11512,     0.11612,     0.11712,     0.11812,     0.11912,\n",
              "           0.12012,     0.12112,     0.12212,     0.12312,     0.12412,     0.12513,     0.12613,     0.12713,     0.12813,     0.12913,     0.13013,     0.13113,     0.13213,     0.13313,     0.13413,     0.13514,     0.13614,     0.13714,     0.13814,     0.13914,     0.14014,     0.14114,     0.14214,     0.14314,\n",
              "           0.14414,     0.14515,     0.14615,     0.14715,     0.14815,     0.14915,     0.15015,     0.15115,     0.15215,     0.15315,     0.15415,     0.15516,     0.15616,     0.15716,     0.15816,     0.15916,     0.16016,     0.16116,     0.16216,     0.16316,     0.16416,     0.16517,     0.16617,     0.16717,\n",
              "           0.16817,     0.16917,     0.17017,     0.17117,     0.17217,     0.17317,     0.17417,     0.17518,     0.17618,     0.17718,     0.17818,     0.17918,     0.18018,     0.18118,     0.18218,     0.18318,     0.18418,     0.18519,     0.18619,     0.18719,     0.18819,     0.18919,     0.19019,     0.19119,\n",
              "           0.19219,     0.19319,     0.19419,      0.1952,      0.1962,      0.1972,      0.1982,      0.1992,      0.2002,      0.2012,      0.2022,      0.2032,      0.2042,     0.20521,     0.20621,     0.20721,     0.20821,     0.20921,     0.21021,     0.21121,     0.21221,     0.21321,     0.21421,     0.21522,\n",
              "           0.21622,     0.21722,     0.21822,     0.21922,     0.22022,     0.22122,     0.22222,     0.22322,     0.22422,     0.22523,     0.22623,     0.22723,     0.22823,     0.22923,     0.23023,     0.23123,     0.23223,     0.23323,     0.23423,     0.23524,     0.23624,     0.23724,     0.23824,     0.23924,\n",
              "           0.24024,     0.24124,     0.24224,     0.24324,     0.24424,     0.24525,     0.24625,     0.24725,     0.24825,     0.24925,     0.25025,     0.25125,     0.25225,     0.25325,     0.25425,     0.25526,     0.25626,     0.25726,     0.25826,     0.25926,     0.26026,     0.26126,     0.26226,     0.26326,\n",
              "           0.26426,     0.26527,     0.26627,     0.26727,     0.26827,     0.26927,     0.27027,     0.27127,     0.27227,     0.27327,     0.27427,     0.27528,     0.27628,     0.27728,     0.27828,     0.27928,     0.28028,     0.28128,     0.28228,     0.28328,     0.28428,     0.28529,     0.28629,     0.28729,\n",
              "           0.28829,     0.28929,     0.29029,     0.29129,     0.29229,     0.29329,     0.29429,      0.2953,      0.2963,      0.2973,      0.2983,      0.2993,      0.3003,      0.3013,      0.3023,      0.3033,      0.3043,     0.30531,     0.30631,     0.30731,     0.30831,     0.30931,     0.31031,     0.31131,\n",
              "           0.31231,     0.31331,     0.31431,     0.31532,     0.31632,     0.31732,     0.31832,     0.31932,     0.32032,     0.32132,     0.32232,     0.32332,     0.32432,     0.32533,     0.32633,     0.32733,     0.32833,     0.32933,     0.33033,     0.33133,     0.33233,     0.33333,     0.33433,     0.33534,\n",
              "           0.33634,     0.33734,     0.33834,     0.33934,     0.34034,     0.34134,     0.34234,     0.34334,     0.34434,     0.34535,     0.34635,     0.34735,     0.34835,     0.34935,     0.35035,     0.35135,     0.35235,     0.35335,     0.35435,     0.35536,     0.35636,     0.35736,     0.35836,     0.35936,\n",
              "           0.36036,     0.36136,     0.36236,     0.36336,     0.36436,     0.36537,     0.36637,     0.36737,     0.36837,     0.36937,     0.37037,     0.37137,     0.37237,     0.37337,     0.37437,     0.37538,     0.37638,     0.37738,     0.37838,     0.37938,     0.38038,     0.38138,     0.38238,     0.38338,\n",
              "           0.38438,     0.38539,     0.38639,     0.38739,     0.38839,     0.38939,     0.39039,     0.39139,     0.39239,     0.39339,     0.39439,      0.3954,      0.3964,      0.3974,      0.3984,      0.3994,      0.4004,      0.4014,      0.4024,      0.4034,      0.4044,     0.40541,     0.40641,     0.40741,\n",
              "           0.40841,     0.40941,     0.41041,     0.41141,     0.41241,     0.41341,     0.41441,     0.41542,     0.41642,     0.41742,     0.41842,     0.41942,     0.42042,     0.42142,     0.42242,     0.42342,     0.42442,     0.42543,     0.42643,     0.42743,     0.42843,     0.42943,     0.43043,     0.43143,\n",
              "           0.43243,     0.43343,     0.43443,     0.43544,     0.43644,     0.43744,     0.43844,     0.43944,     0.44044,     0.44144,     0.44244,     0.44344,     0.44444,     0.44545,     0.44645,     0.44745,     0.44845,     0.44945,     0.45045,     0.45145,     0.45245,     0.45345,     0.45445,     0.45546,\n",
              "           0.45646,     0.45746,     0.45846,     0.45946,     0.46046,     0.46146,     0.46246,     0.46346,     0.46446,     0.46547,     0.46647,     0.46747,     0.46847,     0.46947,     0.47047,     0.47147,     0.47247,     0.47347,     0.47447,     0.47548,     0.47648,     0.47748,     0.47848,     0.47948,\n",
              "           0.48048,     0.48148,     0.48248,     0.48348,     0.48448,     0.48549,     0.48649,     0.48749,     0.48849,     0.48949,     0.49049,     0.49149,     0.49249,     0.49349,     0.49449,      0.4955,      0.4965,      0.4975,      0.4985,      0.4995,      0.5005,      0.5015,      0.5025,      0.5035,\n",
              "            0.5045,     0.50551,     0.50651,     0.50751,     0.50851,     0.50951,     0.51051,     0.51151,     0.51251,     0.51351,     0.51451,     0.51552,     0.51652,     0.51752,     0.51852,     0.51952,     0.52052,     0.52152,     0.52252,     0.52352,     0.52452,     0.52553,     0.52653,     0.52753,\n",
              "           0.52853,     0.52953,     0.53053,     0.53153,     0.53253,     0.53353,     0.53453,     0.53554,     0.53654,     0.53754,     0.53854,     0.53954,     0.54054,     0.54154,     0.54254,     0.54354,     0.54454,     0.54555,     0.54655,     0.54755,     0.54855,     0.54955,     0.55055,     0.55155,\n",
              "           0.55255,     0.55355,     0.55455,     0.55556,     0.55656,     0.55756,     0.55856,     0.55956,     0.56056,     0.56156,     0.56256,     0.56356,     0.56456,     0.56557,     0.56657,     0.56757,     0.56857,     0.56957,     0.57057,     0.57157,     0.57257,     0.57357,     0.57457,     0.57558,\n",
              "           0.57658,     0.57758,     0.57858,     0.57958,     0.58058,     0.58158,     0.58258,     0.58358,     0.58458,     0.58559,     0.58659,     0.58759,     0.58859,     0.58959,     0.59059,     0.59159,     0.59259,     0.59359,     0.59459,      0.5956,      0.5966,      0.5976,      0.5986,      0.5996,\n",
              "            0.6006,      0.6016,      0.6026,      0.6036,      0.6046,     0.60561,     0.60661,     0.60761,     0.60861,     0.60961,     0.61061,     0.61161,     0.61261,     0.61361,     0.61461,     0.61562,     0.61662,     0.61762,     0.61862,     0.61962,     0.62062,     0.62162,     0.62262,     0.62362,\n",
              "           0.62462,     0.62563,     0.62663,     0.62763,     0.62863,     0.62963,     0.63063,     0.63163,     0.63263,     0.63363,     0.63463,     0.63564,     0.63664,     0.63764,     0.63864,     0.63964,     0.64064,     0.64164,     0.64264,     0.64364,     0.64464,     0.64565,     0.64665,     0.64765,\n",
              "           0.64865,     0.64965,     0.65065,     0.65165,     0.65265,     0.65365,     0.65465,     0.65566,     0.65666,     0.65766,     0.65866,     0.65966,     0.66066,     0.66166,     0.66266,     0.66366,     0.66466,     0.66567,     0.66667,     0.66767,     0.66867,     0.66967,     0.67067,     0.67167,\n",
              "           0.67267,     0.67367,     0.67467,     0.67568,     0.67668,     0.67768,     0.67868,     0.67968,     0.68068,     0.68168,     0.68268,     0.68368,     0.68468,     0.68569,     0.68669,     0.68769,     0.68869,     0.68969,     0.69069,     0.69169,     0.69269,     0.69369,     0.69469,      0.6957,\n",
              "            0.6967,      0.6977,      0.6987,      0.6997,      0.7007,      0.7017,      0.7027,      0.7037,      0.7047,     0.70571,     0.70671,     0.70771,     0.70871,     0.70971,     0.71071,     0.71171,     0.71271,     0.71371,     0.71471,     0.71572,     0.71672,     0.71772,     0.71872,     0.71972,\n",
              "           0.72072,     0.72172,     0.72272,     0.72372,     0.72472,     0.72573,     0.72673,     0.72773,     0.72873,     0.72973,     0.73073,     0.73173,     0.73273,     0.73373,     0.73473,     0.73574,     0.73674,     0.73774,     0.73874,     0.73974,     0.74074,     0.74174,     0.74274,     0.74374,\n",
              "           0.74474,     0.74575,     0.74675,     0.74775,     0.74875,     0.74975,     0.75075,     0.75175,     0.75275,     0.75375,     0.75475,     0.75576,     0.75676,     0.75776,     0.75876,     0.75976,     0.76076,     0.76176,     0.76276,     0.76376,     0.76476,     0.76577,     0.76677,     0.76777,\n",
              "           0.76877,     0.76977,     0.77077,     0.77177,     0.77277,     0.77377,     0.77477,     0.77578,     0.77678,     0.77778,     0.77878,     0.77978,     0.78078,     0.78178,     0.78278,     0.78378,     0.78478,     0.78579,     0.78679,     0.78779,     0.78879,     0.78979,     0.79079,     0.79179,\n",
              "           0.79279,     0.79379,     0.79479,      0.7958,      0.7968,      0.7978,      0.7988,      0.7998,      0.8008,      0.8018,      0.8028,      0.8038,      0.8048,     0.80581,     0.80681,     0.80781,     0.80881,     0.80981,     0.81081,     0.81181,     0.81281,     0.81381,     0.81481,     0.81582,\n",
              "           0.81682,     0.81782,     0.81882,     0.81982,     0.82082,     0.82182,     0.82282,     0.82382,     0.82482,     0.82583,     0.82683,     0.82783,     0.82883,     0.82983,     0.83083,     0.83183,     0.83283,     0.83383,     0.83483,     0.83584,     0.83684,     0.83784,     0.83884,     0.83984,\n",
              "           0.84084,     0.84184,     0.84284,     0.84384,     0.84484,     0.84585,     0.84685,     0.84785,     0.84885,     0.84985,     0.85085,     0.85185,     0.85285,     0.85385,     0.85485,     0.85586,     0.85686,     0.85786,     0.85886,     0.85986,     0.86086,     0.86186,     0.86286,     0.86386,\n",
              "           0.86486,     0.86587,     0.86687,     0.86787,     0.86887,     0.86987,     0.87087,     0.87187,     0.87287,     0.87387,     0.87487,     0.87588,     0.87688,     0.87788,     0.87888,     0.87988,     0.88088,     0.88188,     0.88288,     0.88388,     0.88488,     0.88589,     0.88689,     0.88789,\n",
              "           0.88889,     0.88989,     0.89089,     0.89189,     0.89289,     0.89389,     0.89489,      0.8959,      0.8969,      0.8979,      0.8989,      0.8999,      0.9009,      0.9019,      0.9029,      0.9039,      0.9049,     0.90591,     0.90691,     0.90791,     0.90891,     0.90991,     0.91091,     0.91191,\n",
              "           0.91291,     0.91391,     0.91491,     0.91592,     0.91692,     0.91792,     0.91892,     0.91992,     0.92092,     0.92192,     0.92292,     0.92392,     0.92492,     0.92593,     0.92693,     0.92793,     0.92893,     0.92993,     0.93093,     0.93193,     0.93293,     0.93393,     0.93493,     0.93594,\n",
              "           0.93694,     0.93794,     0.93894,     0.93994,     0.94094,     0.94194,     0.94294,     0.94394,     0.94494,     0.94595,     0.94695,     0.94795,     0.94895,     0.94995,     0.95095,     0.95195,     0.95295,     0.95395,     0.95495,     0.95596,     0.95696,     0.95796,     0.95896,     0.95996,\n",
              "           0.96096,     0.96196,     0.96296,     0.96396,     0.96496,     0.96597,     0.96697,     0.96797,     0.96897,     0.96997,     0.97097,     0.97197,     0.97297,     0.97397,     0.97497,     0.97598,     0.97698,     0.97798,     0.97898,     0.97998,     0.98098,     0.98198,     0.98298,     0.98398,\n",
              "           0.98498,     0.98599,     0.98699,     0.98799,     0.98899,     0.98999,     0.99099,     0.99199,     0.99299,     0.99399,     0.99499,       0.996,       0.997,       0.998,       0.999,           1]), array([[   0.023196,    0.023196,    0.052621, ...,           1,           1,           1],\n",
              "       [   0.017135,    0.017135,    0.034912, ...,           1,           1,           1],\n",
              "       [   0.016949,    0.016949,    0.031552, ...,           1,           1,           1],\n",
              "       [   0.011268,    0.011268,    0.022403, ...,           1,           1,           1]]), 'Confidence', 'Precision'], [array([          0,    0.001001,    0.002002,    0.003003,    0.004004,    0.005005,    0.006006,    0.007007,    0.008008,    0.009009,     0.01001,    0.011011,    0.012012,    0.013013,    0.014014,    0.015015,    0.016016,    0.017017,    0.018018,    0.019019,     0.02002,    0.021021,    0.022022,    0.023023,\n",
              "          0.024024,    0.025025,    0.026026,    0.027027,    0.028028,    0.029029,     0.03003,    0.031031,    0.032032,    0.033033,    0.034034,    0.035035,    0.036036,    0.037037,    0.038038,    0.039039,     0.04004,    0.041041,    0.042042,    0.043043,    0.044044,    0.045045,    0.046046,    0.047047,\n",
              "          0.048048,    0.049049,     0.05005,    0.051051,    0.052052,    0.053053,    0.054054,    0.055055,    0.056056,    0.057057,    0.058058,    0.059059,     0.06006,    0.061061,    0.062062,    0.063063,    0.064064,    0.065065,    0.066066,    0.067067,    0.068068,    0.069069,     0.07007,    0.071071,\n",
              "          0.072072,    0.073073,    0.074074,    0.075075,    0.076076,    0.077077,    0.078078,    0.079079,     0.08008,    0.081081,    0.082082,    0.083083,    0.084084,    0.085085,    0.086086,    0.087087,    0.088088,    0.089089,     0.09009,    0.091091,    0.092092,    0.093093,    0.094094,    0.095095,\n",
              "          0.096096,    0.097097,    0.098098,    0.099099,      0.1001,      0.1011,      0.1021,      0.1031,      0.1041,     0.10511,     0.10611,     0.10711,     0.10811,     0.10911,     0.11011,     0.11111,     0.11211,     0.11311,     0.11411,     0.11512,     0.11612,     0.11712,     0.11812,     0.11912,\n",
              "           0.12012,     0.12112,     0.12212,     0.12312,     0.12412,     0.12513,     0.12613,     0.12713,     0.12813,     0.12913,     0.13013,     0.13113,     0.13213,     0.13313,     0.13413,     0.13514,     0.13614,     0.13714,     0.13814,     0.13914,     0.14014,     0.14114,     0.14214,     0.14314,\n",
              "           0.14414,     0.14515,     0.14615,     0.14715,     0.14815,     0.14915,     0.15015,     0.15115,     0.15215,     0.15315,     0.15415,     0.15516,     0.15616,     0.15716,     0.15816,     0.15916,     0.16016,     0.16116,     0.16216,     0.16316,     0.16416,     0.16517,     0.16617,     0.16717,\n",
              "           0.16817,     0.16917,     0.17017,     0.17117,     0.17217,     0.17317,     0.17417,     0.17518,     0.17618,     0.17718,     0.17818,     0.17918,     0.18018,     0.18118,     0.18218,     0.18318,     0.18418,     0.18519,     0.18619,     0.18719,     0.18819,     0.18919,     0.19019,     0.19119,\n",
              "           0.19219,     0.19319,     0.19419,      0.1952,      0.1962,      0.1972,      0.1982,      0.1992,      0.2002,      0.2012,      0.2022,      0.2032,      0.2042,     0.20521,     0.20621,     0.20721,     0.20821,     0.20921,     0.21021,     0.21121,     0.21221,     0.21321,     0.21421,     0.21522,\n",
              "           0.21622,     0.21722,     0.21822,     0.21922,     0.22022,     0.22122,     0.22222,     0.22322,     0.22422,     0.22523,     0.22623,     0.22723,     0.22823,     0.22923,     0.23023,     0.23123,     0.23223,     0.23323,     0.23423,     0.23524,     0.23624,     0.23724,     0.23824,     0.23924,\n",
              "           0.24024,     0.24124,     0.24224,     0.24324,     0.24424,     0.24525,     0.24625,     0.24725,     0.24825,     0.24925,     0.25025,     0.25125,     0.25225,     0.25325,     0.25425,     0.25526,     0.25626,     0.25726,     0.25826,     0.25926,     0.26026,     0.26126,     0.26226,     0.26326,\n",
              "           0.26426,     0.26527,     0.26627,     0.26727,     0.26827,     0.26927,     0.27027,     0.27127,     0.27227,     0.27327,     0.27427,     0.27528,     0.27628,     0.27728,     0.27828,     0.27928,     0.28028,     0.28128,     0.28228,     0.28328,     0.28428,     0.28529,     0.28629,     0.28729,\n",
              "           0.28829,     0.28929,     0.29029,     0.29129,     0.29229,     0.29329,     0.29429,      0.2953,      0.2963,      0.2973,      0.2983,      0.2993,      0.3003,      0.3013,      0.3023,      0.3033,      0.3043,     0.30531,     0.30631,     0.30731,     0.30831,     0.30931,     0.31031,     0.31131,\n",
              "           0.31231,     0.31331,     0.31431,     0.31532,     0.31632,     0.31732,     0.31832,     0.31932,     0.32032,     0.32132,     0.32232,     0.32332,     0.32432,     0.32533,     0.32633,     0.32733,     0.32833,     0.32933,     0.33033,     0.33133,     0.33233,     0.33333,     0.33433,     0.33534,\n",
              "           0.33634,     0.33734,     0.33834,     0.33934,     0.34034,     0.34134,     0.34234,     0.34334,     0.34434,     0.34535,     0.34635,     0.34735,     0.34835,     0.34935,     0.35035,     0.35135,     0.35235,     0.35335,     0.35435,     0.35536,     0.35636,     0.35736,     0.35836,     0.35936,\n",
              "           0.36036,     0.36136,     0.36236,     0.36336,     0.36436,     0.36537,     0.36637,     0.36737,     0.36837,     0.36937,     0.37037,     0.37137,     0.37237,     0.37337,     0.37437,     0.37538,     0.37638,     0.37738,     0.37838,     0.37938,     0.38038,     0.38138,     0.38238,     0.38338,\n",
              "           0.38438,     0.38539,     0.38639,     0.38739,     0.38839,     0.38939,     0.39039,     0.39139,     0.39239,     0.39339,     0.39439,      0.3954,      0.3964,      0.3974,      0.3984,      0.3994,      0.4004,      0.4014,      0.4024,      0.4034,      0.4044,     0.40541,     0.40641,     0.40741,\n",
              "           0.40841,     0.40941,     0.41041,     0.41141,     0.41241,     0.41341,     0.41441,     0.41542,     0.41642,     0.41742,     0.41842,     0.41942,     0.42042,     0.42142,     0.42242,     0.42342,     0.42442,     0.42543,     0.42643,     0.42743,     0.42843,     0.42943,     0.43043,     0.43143,\n",
              "           0.43243,     0.43343,     0.43443,     0.43544,     0.43644,     0.43744,     0.43844,     0.43944,     0.44044,     0.44144,     0.44244,     0.44344,     0.44444,     0.44545,     0.44645,     0.44745,     0.44845,     0.44945,     0.45045,     0.45145,     0.45245,     0.45345,     0.45445,     0.45546,\n",
              "           0.45646,     0.45746,     0.45846,     0.45946,     0.46046,     0.46146,     0.46246,     0.46346,     0.46446,     0.46547,     0.46647,     0.46747,     0.46847,     0.46947,     0.47047,     0.47147,     0.47247,     0.47347,     0.47447,     0.47548,     0.47648,     0.47748,     0.47848,     0.47948,\n",
              "           0.48048,     0.48148,     0.48248,     0.48348,     0.48448,     0.48549,     0.48649,     0.48749,     0.48849,     0.48949,     0.49049,     0.49149,     0.49249,     0.49349,     0.49449,      0.4955,      0.4965,      0.4975,      0.4985,      0.4995,      0.5005,      0.5015,      0.5025,      0.5035,\n",
              "            0.5045,     0.50551,     0.50651,     0.50751,     0.50851,     0.50951,     0.51051,     0.51151,     0.51251,     0.51351,     0.51451,     0.51552,     0.51652,     0.51752,     0.51852,     0.51952,     0.52052,     0.52152,     0.52252,     0.52352,     0.52452,     0.52553,     0.52653,     0.52753,\n",
              "           0.52853,     0.52953,     0.53053,     0.53153,     0.53253,     0.53353,     0.53453,     0.53554,     0.53654,     0.53754,     0.53854,     0.53954,     0.54054,     0.54154,     0.54254,     0.54354,     0.54454,     0.54555,     0.54655,     0.54755,     0.54855,     0.54955,     0.55055,     0.55155,\n",
              "           0.55255,     0.55355,     0.55455,     0.55556,     0.55656,     0.55756,     0.55856,     0.55956,     0.56056,     0.56156,     0.56256,     0.56356,     0.56456,     0.56557,     0.56657,     0.56757,     0.56857,     0.56957,     0.57057,     0.57157,     0.57257,     0.57357,     0.57457,     0.57558,\n",
              "           0.57658,     0.57758,     0.57858,     0.57958,     0.58058,     0.58158,     0.58258,     0.58358,     0.58458,     0.58559,     0.58659,     0.58759,     0.58859,     0.58959,     0.59059,     0.59159,     0.59259,     0.59359,     0.59459,      0.5956,      0.5966,      0.5976,      0.5986,      0.5996,\n",
              "            0.6006,      0.6016,      0.6026,      0.6036,      0.6046,     0.60561,     0.60661,     0.60761,     0.60861,     0.60961,     0.61061,     0.61161,     0.61261,     0.61361,     0.61461,     0.61562,     0.61662,     0.61762,     0.61862,     0.61962,     0.62062,     0.62162,     0.62262,     0.62362,\n",
              "           0.62462,     0.62563,     0.62663,     0.62763,     0.62863,     0.62963,     0.63063,     0.63163,     0.63263,     0.63363,     0.63463,     0.63564,     0.63664,     0.63764,     0.63864,     0.63964,     0.64064,     0.64164,     0.64264,     0.64364,     0.64464,     0.64565,     0.64665,     0.64765,\n",
              "           0.64865,     0.64965,     0.65065,     0.65165,     0.65265,     0.65365,     0.65465,     0.65566,     0.65666,     0.65766,     0.65866,     0.65966,     0.66066,     0.66166,     0.66266,     0.66366,     0.66466,     0.66567,     0.66667,     0.66767,     0.66867,     0.66967,     0.67067,     0.67167,\n",
              "           0.67267,     0.67367,     0.67467,     0.67568,     0.67668,     0.67768,     0.67868,     0.67968,     0.68068,     0.68168,     0.68268,     0.68368,     0.68468,     0.68569,     0.68669,     0.68769,     0.68869,     0.68969,     0.69069,     0.69169,     0.69269,     0.69369,     0.69469,      0.6957,\n",
              "            0.6967,      0.6977,      0.6987,      0.6997,      0.7007,      0.7017,      0.7027,      0.7037,      0.7047,     0.70571,     0.70671,     0.70771,     0.70871,     0.70971,     0.71071,     0.71171,     0.71271,     0.71371,     0.71471,     0.71572,     0.71672,     0.71772,     0.71872,     0.71972,\n",
              "           0.72072,     0.72172,     0.72272,     0.72372,     0.72472,     0.72573,     0.72673,     0.72773,     0.72873,     0.72973,     0.73073,     0.73173,     0.73273,     0.73373,     0.73473,     0.73574,     0.73674,     0.73774,     0.73874,     0.73974,     0.74074,     0.74174,     0.74274,     0.74374,\n",
              "           0.74474,     0.74575,     0.74675,     0.74775,     0.74875,     0.74975,     0.75075,     0.75175,     0.75275,     0.75375,     0.75475,     0.75576,     0.75676,     0.75776,     0.75876,     0.75976,     0.76076,     0.76176,     0.76276,     0.76376,     0.76476,     0.76577,     0.76677,     0.76777,\n",
              "           0.76877,     0.76977,     0.77077,     0.77177,     0.77277,     0.77377,     0.77477,     0.77578,     0.77678,     0.77778,     0.77878,     0.77978,     0.78078,     0.78178,     0.78278,     0.78378,     0.78478,     0.78579,     0.78679,     0.78779,     0.78879,     0.78979,     0.79079,     0.79179,\n",
              "           0.79279,     0.79379,     0.79479,      0.7958,      0.7968,      0.7978,      0.7988,      0.7998,      0.8008,      0.8018,      0.8028,      0.8038,      0.8048,     0.80581,     0.80681,     0.80781,     0.80881,     0.80981,     0.81081,     0.81181,     0.81281,     0.81381,     0.81481,     0.81582,\n",
              "           0.81682,     0.81782,     0.81882,     0.81982,     0.82082,     0.82182,     0.82282,     0.82382,     0.82482,     0.82583,     0.82683,     0.82783,     0.82883,     0.82983,     0.83083,     0.83183,     0.83283,     0.83383,     0.83483,     0.83584,     0.83684,     0.83784,     0.83884,     0.83984,\n",
              "           0.84084,     0.84184,     0.84284,     0.84384,     0.84484,     0.84585,     0.84685,     0.84785,     0.84885,     0.84985,     0.85085,     0.85185,     0.85285,     0.85385,     0.85485,     0.85586,     0.85686,     0.85786,     0.85886,     0.85986,     0.86086,     0.86186,     0.86286,     0.86386,\n",
              "           0.86486,     0.86587,     0.86687,     0.86787,     0.86887,     0.86987,     0.87087,     0.87187,     0.87287,     0.87387,     0.87487,     0.87588,     0.87688,     0.87788,     0.87888,     0.87988,     0.88088,     0.88188,     0.88288,     0.88388,     0.88488,     0.88589,     0.88689,     0.88789,\n",
              "           0.88889,     0.88989,     0.89089,     0.89189,     0.89289,     0.89389,     0.89489,      0.8959,      0.8969,      0.8979,      0.8989,      0.8999,      0.9009,      0.9019,      0.9029,      0.9039,      0.9049,     0.90591,     0.90691,     0.90791,     0.90891,     0.90991,     0.91091,     0.91191,\n",
              "           0.91291,     0.91391,     0.91491,     0.91592,     0.91692,     0.91792,     0.91892,     0.91992,     0.92092,     0.92192,     0.92292,     0.92392,     0.92492,     0.92593,     0.92693,     0.92793,     0.92893,     0.92993,     0.93093,     0.93193,     0.93293,     0.93393,     0.93493,     0.93594,\n",
              "           0.93694,     0.93794,     0.93894,     0.93994,     0.94094,     0.94194,     0.94294,     0.94394,     0.94494,     0.94595,     0.94695,     0.94795,     0.94895,     0.94995,     0.95095,     0.95195,     0.95295,     0.95395,     0.95495,     0.95596,     0.95696,     0.95796,     0.95896,     0.95996,\n",
              "           0.96096,     0.96196,     0.96296,     0.96396,     0.96496,     0.96597,     0.96697,     0.96797,     0.96897,     0.96997,     0.97097,     0.97197,     0.97297,     0.97397,     0.97497,     0.97598,     0.97698,     0.97798,     0.97898,     0.97998,     0.98098,     0.98198,     0.98298,     0.98398,\n",
              "           0.98498,     0.98599,     0.98699,     0.98799,     0.98899,     0.98999,     0.99099,     0.99199,     0.99299,     0.99399,     0.99499,       0.996,       0.997,       0.998,       0.999,           1]), array([[    0.84375,     0.84375,        0.75, ...,           0,           0,           0],\n",
              "       [          1,           1,           1, ...,           0,           0,           0],\n",
              "       [          1,           1,           1, ...,           0,           0,           0],\n",
              "       [          1,           1,           1, ...,           0,           0,           0]]), 'Confidence', 'Recall']]\n",
              "fitness: 0.39105572978374076\n",
              "keys: ['metrics/precision(B)', 'metrics/recall(B)', 'metrics/mAP50(B)', 'metrics/mAP50-95(B)']\n",
              "maps: array([    0.15599,     0.59948,     0.39813,     0.28051])\n",
              "names: {0: 'channel', 1: 'flash', 2: 'cavity', 3: 'crack/groove'}\n",
              "plot: True\n",
              "results_dict: {'metrics/precision(B)': 0.6115591786769792, 'metrics/recall(B)': 0.7352469141450184, 'metrics/mAP50(B)': 0.6838047276398445, 'metrics/mAP50-95(B)': 0.35852806335528475, 'fitness': 0.39105572978374076}\n",
              "save_dir: PosixPath('runs/detect/train')\n",
              "speed: {'preprocess': 0.1276353510414682, 'inference': 2.594976890377882, 'loss': 0.0006222143405821266, 'postprocess': 1.6001143106600133}\n",
              "task: 'detect'"
            ]
          },
          "metadata": {},
          "execution_count": 7
        }
      ],
      "source": [
        "# 7. Train the model\n",
        "model.train(\n",
        "    data=DATA_YAML_PATH,\n",
        "    epochs=50,            # Number of epochs\n",
        "    batch=16,             # Batch size (adjust based on GPU memory)\n",
        "    imgsz=640,            # Image size\n",
        ")\n"
      ]
    },
    {
      "cell_type": "code",
      "execution_count": 8,
      "metadata": {
        "id": "xi4r3NNzfiXs",
        "colab": {
          "base_uri": "https://localhost:8080/"
        },
        "outputId": "b93a3e1f-011b-434a-d748-06981263c8a5"
      },
      "outputs": [
        {
          "output_type": "stream",
          "name": "stdout",
          "text": [
            "Ultralytics 8.3.63 🚀 Python-3.11.11 torch-2.5.1+cu121 CUDA:0 (Tesla T4, 15102MiB)\n",
            "Model summary (fused): 168 layers, 3,006,428 parameters, 0 gradients, 8.1 GFLOPs\n"
          ]
        },
        {
          "output_type": "stream",
          "name": "stderr",
          "text": [
            "\u001b[34m\u001b[1mval: \u001b[0mScanning /content/drive/MyDrive/dataset/labels/test.cache... 41 images, 9 backgrounds, 0 corrupt: 100%|██████████| 41/41 [00:00<?, ?it/s]\n",
            "                 Class     Images  Instances      Box(P          R      mAP50  mAP50-95): 100%|██████████| 3/3 [00:01<00:00,  2.12it/s]\n"
          ]
        },
        {
          "output_type": "stream",
          "name": "stdout",
          "text": [
            "                   all         41         73      0.606      0.748      0.676      0.357\n",
            "               channel         16         32      0.635      0.344      0.382      0.157\n",
            "                 flash         17         25      0.567       0.96      0.939      0.604\n",
            "                cavity          7          8      0.685      0.818      0.692      0.398\n",
            "          crack/groove          5          8      0.538      0.872      0.692      0.269\n",
            "Speed: 0.2ms preprocess, 11.9ms inference, 0.0ms loss, 3.7ms postprocess per image\n",
            "Results saved to \u001b[1mruns/detect/train2\u001b[0m\n"
          ]
        },
        {
          "output_type": "execute_result",
          "data": {
            "text/plain": [
              "ultralytics.utils.metrics.DetMetrics object with attributes:\n",
              "\n",
              "ap_class_index: array([0, 1, 2, 3])\n",
              "box: ultralytics.utils.metrics.Metric object\n",
              "confusion_matrix: <ultralytics.utils.metrics.ConfusionMatrix object at 0x7de8b86808d0>\n",
              "curves: ['Precision-Recall(B)', 'F1-Confidence(B)', 'Precision-Confidence(B)', 'Recall-Confidence(B)']\n",
              "curves_results: [[array([          0,    0.001001,    0.002002,    0.003003,    0.004004,    0.005005,    0.006006,    0.007007,    0.008008,    0.009009,     0.01001,    0.011011,    0.012012,    0.013013,    0.014014,    0.015015,    0.016016,    0.017017,    0.018018,    0.019019,     0.02002,    0.021021,    0.022022,    0.023023,\n",
              "          0.024024,    0.025025,    0.026026,    0.027027,    0.028028,    0.029029,     0.03003,    0.031031,    0.032032,    0.033033,    0.034034,    0.035035,    0.036036,    0.037037,    0.038038,    0.039039,     0.04004,    0.041041,    0.042042,    0.043043,    0.044044,    0.045045,    0.046046,    0.047047,\n",
              "          0.048048,    0.049049,     0.05005,    0.051051,    0.052052,    0.053053,    0.054054,    0.055055,    0.056056,    0.057057,    0.058058,    0.059059,     0.06006,    0.061061,    0.062062,    0.063063,    0.064064,    0.065065,    0.066066,    0.067067,    0.068068,    0.069069,     0.07007,    0.071071,\n",
              "          0.072072,    0.073073,    0.074074,    0.075075,    0.076076,    0.077077,    0.078078,    0.079079,     0.08008,    0.081081,    0.082082,    0.083083,    0.084084,    0.085085,    0.086086,    0.087087,    0.088088,    0.089089,     0.09009,    0.091091,    0.092092,    0.093093,    0.094094,    0.095095,\n",
              "          0.096096,    0.097097,    0.098098,    0.099099,      0.1001,      0.1011,      0.1021,      0.1031,      0.1041,     0.10511,     0.10611,     0.10711,     0.10811,     0.10911,     0.11011,     0.11111,     0.11211,     0.11311,     0.11411,     0.11512,     0.11612,     0.11712,     0.11812,     0.11912,\n",
              "           0.12012,     0.12112,     0.12212,     0.12312,     0.12412,     0.12513,     0.12613,     0.12713,     0.12813,     0.12913,     0.13013,     0.13113,     0.13213,     0.13313,     0.13413,     0.13514,     0.13614,     0.13714,     0.13814,     0.13914,     0.14014,     0.14114,     0.14214,     0.14314,\n",
              "           0.14414,     0.14515,     0.14615,     0.14715,     0.14815,     0.14915,     0.15015,     0.15115,     0.15215,     0.15315,     0.15415,     0.15516,     0.15616,     0.15716,     0.15816,     0.15916,     0.16016,     0.16116,     0.16216,     0.16316,     0.16416,     0.16517,     0.16617,     0.16717,\n",
              "           0.16817,     0.16917,     0.17017,     0.17117,     0.17217,     0.17317,     0.17417,     0.17518,     0.17618,     0.17718,     0.17818,     0.17918,     0.18018,     0.18118,     0.18218,     0.18318,     0.18418,     0.18519,     0.18619,     0.18719,     0.18819,     0.18919,     0.19019,     0.19119,\n",
              "           0.19219,     0.19319,     0.19419,      0.1952,      0.1962,      0.1972,      0.1982,      0.1992,      0.2002,      0.2012,      0.2022,      0.2032,      0.2042,     0.20521,     0.20621,     0.20721,     0.20821,     0.20921,     0.21021,     0.21121,     0.21221,     0.21321,     0.21421,     0.21522,\n",
              "           0.21622,     0.21722,     0.21822,     0.21922,     0.22022,     0.22122,     0.22222,     0.22322,     0.22422,     0.22523,     0.22623,     0.22723,     0.22823,     0.22923,     0.23023,     0.23123,     0.23223,     0.23323,     0.23423,     0.23524,     0.23624,     0.23724,     0.23824,     0.23924,\n",
              "           0.24024,     0.24124,     0.24224,     0.24324,     0.24424,     0.24525,     0.24625,     0.24725,     0.24825,     0.24925,     0.25025,     0.25125,     0.25225,     0.25325,     0.25425,     0.25526,     0.25626,     0.25726,     0.25826,     0.25926,     0.26026,     0.26126,     0.26226,     0.26326,\n",
              "           0.26426,     0.26527,     0.26627,     0.26727,     0.26827,     0.26927,     0.27027,     0.27127,     0.27227,     0.27327,     0.27427,     0.27528,     0.27628,     0.27728,     0.27828,     0.27928,     0.28028,     0.28128,     0.28228,     0.28328,     0.28428,     0.28529,     0.28629,     0.28729,\n",
              "           0.28829,     0.28929,     0.29029,     0.29129,     0.29229,     0.29329,     0.29429,      0.2953,      0.2963,      0.2973,      0.2983,      0.2993,      0.3003,      0.3013,      0.3023,      0.3033,      0.3043,     0.30531,     0.30631,     0.30731,     0.30831,     0.30931,     0.31031,     0.31131,\n",
              "           0.31231,     0.31331,     0.31431,     0.31532,     0.31632,     0.31732,     0.31832,     0.31932,     0.32032,     0.32132,     0.32232,     0.32332,     0.32432,     0.32533,     0.32633,     0.32733,     0.32833,     0.32933,     0.33033,     0.33133,     0.33233,     0.33333,     0.33433,     0.33534,\n",
              "           0.33634,     0.33734,     0.33834,     0.33934,     0.34034,     0.34134,     0.34234,     0.34334,     0.34434,     0.34535,     0.34635,     0.34735,     0.34835,     0.34935,     0.35035,     0.35135,     0.35235,     0.35335,     0.35435,     0.35536,     0.35636,     0.35736,     0.35836,     0.35936,\n",
              "           0.36036,     0.36136,     0.36236,     0.36336,     0.36436,     0.36537,     0.36637,     0.36737,     0.36837,     0.36937,     0.37037,     0.37137,     0.37237,     0.37337,     0.37437,     0.37538,     0.37638,     0.37738,     0.37838,     0.37938,     0.38038,     0.38138,     0.38238,     0.38338,\n",
              "           0.38438,     0.38539,     0.38639,     0.38739,     0.38839,     0.38939,     0.39039,     0.39139,     0.39239,     0.39339,     0.39439,      0.3954,      0.3964,      0.3974,      0.3984,      0.3994,      0.4004,      0.4014,      0.4024,      0.4034,      0.4044,     0.40541,     0.40641,     0.40741,\n",
              "           0.40841,     0.40941,     0.41041,     0.41141,     0.41241,     0.41341,     0.41441,     0.41542,     0.41642,     0.41742,     0.41842,     0.41942,     0.42042,     0.42142,     0.42242,     0.42342,     0.42442,     0.42543,     0.42643,     0.42743,     0.42843,     0.42943,     0.43043,     0.43143,\n",
              "           0.43243,     0.43343,     0.43443,     0.43544,     0.43644,     0.43744,     0.43844,     0.43944,     0.44044,     0.44144,     0.44244,     0.44344,     0.44444,     0.44545,     0.44645,     0.44745,     0.44845,     0.44945,     0.45045,     0.45145,     0.45245,     0.45345,     0.45445,     0.45546,\n",
              "           0.45646,     0.45746,     0.45846,     0.45946,     0.46046,     0.46146,     0.46246,     0.46346,     0.46446,     0.46547,     0.46647,     0.46747,     0.46847,     0.46947,     0.47047,     0.47147,     0.47247,     0.47347,     0.47447,     0.47548,     0.47648,     0.47748,     0.47848,     0.47948,\n",
              "           0.48048,     0.48148,     0.48248,     0.48348,     0.48448,     0.48549,     0.48649,     0.48749,     0.48849,     0.48949,     0.49049,     0.49149,     0.49249,     0.49349,     0.49449,      0.4955,      0.4965,      0.4975,      0.4985,      0.4995,      0.5005,      0.5015,      0.5025,      0.5035,\n",
              "            0.5045,     0.50551,     0.50651,     0.50751,     0.50851,     0.50951,     0.51051,     0.51151,     0.51251,     0.51351,     0.51451,     0.51552,     0.51652,     0.51752,     0.51852,     0.51952,     0.52052,     0.52152,     0.52252,     0.52352,     0.52452,     0.52553,     0.52653,     0.52753,\n",
              "           0.52853,     0.52953,     0.53053,     0.53153,     0.53253,     0.53353,     0.53453,     0.53554,     0.53654,     0.53754,     0.53854,     0.53954,     0.54054,     0.54154,     0.54254,     0.54354,     0.54454,     0.54555,     0.54655,     0.54755,     0.54855,     0.54955,     0.55055,     0.55155,\n",
              "           0.55255,     0.55355,     0.55455,     0.55556,     0.55656,     0.55756,     0.55856,     0.55956,     0.56056,     0.56156,     0.56256,     0.56356,     0.56456,     0.56557,     0.56657,     0.56757,     0.56857,     0.56957,     0.57057,     0.57157,     0.57257,     0.57357,     0.57457,     0.57558,\n",
              "           0.57658,     0.57758,     0.57858,     0.57958,     0.58058,     0.58158,     0.58258,     0.58358,     0.58458,     0.58559,     0.58659,     0.58759,     0.58859,     0.58959,     0.59059,     0.59159,     0.59259,     0.59359,     0.59459,      0.5956,      0.5966,      0.5976,      0.5986,      0.5996,\n",
              "            0.6006,      0.6016,      0.6026,      0.6036,      0.6046,     0.60561,     0.60661,     0.60761,     0.60861,     0.60961,     0.61061,     0.61161,     0.61261,     0.61361,     0.61461,     0.61562,     0.61662,     0.61762,     0.61862,     0.61962,     0.62062,     0.62162,     0.62262,     0.62362,\n",
              "           0.62462,     0.62563,     0.62663,     0.62763,     0.62863,     0.62963,     0.63063,     0.63163,     0.63263,     0.63363,     0.63463,     0.63564,     0.63664,     0.63764,     0.63864,     0.63964,     0.64064,     0.64164,     0.64264,     0.64364,     0.64464,     0.64565,     0.64665,     0.64765,\n",
              "           0.64865,     0.64965,     0.65065,     0.65165,     0.65265,     0.65365,     0.65465,     0.65566,     0.65666,     0.65766,     0.65866,     0.65966,     0.66066,     0.66166,     0.66266,     0.66366,     0.66466,     0.66567,     0.66667,     0.66767,     0.66867,     0.66967,     0.67067,     0.67167,\n",
              "           0.67267,     0.67367,     0.67467,     0.67568,     0.67668,     0.67768,     0.67868,     0.67968,     0.68068,     0.68168,     0.68268,     0.68368,     0.68468,     0.68569,     0.68669,     0.68769,     0.68869,     0.68969,     0.69069,     0.69169,     0.69269,     0.69369,     0.69469,      0.6957,\n",
              "            0.6967,      0.6977,      0.6987,      0.6997,      0.7007,      0.7017,      0.7027,      0.7037,      0.7047,     0.70571,     0.70671,     0.70771,     0.70871,     0.70971,     0.71071,     0.71171,     0.71271,     0.71371,     0.71471,     0.71572,     0.71672,     0.71772,     0.71872,     0.71972,\n",
              "           0.72072,     0.72172,     0.72272,     0.72372,     0.72472,     0.72573,     0.72673,     0.72773,     0.72873,     0.72973,     0.73073,     0.73173,     0.73273,     0.73373,     0.73473,     0.73574,     0.73674,     0.73774,     0.73874,     0.73974,     0.74074,     0.74174,     0.74274,     0.74374,\n",
              "           0.74474,     0.74575,     0.74675,     0.74775,     0.74875,     0.74975,     0.75075,     0.75175,     0.75275,     0.75375,     0.75475,     0.75576,     0.75676,     0.75776,     0.75876,     0.75976,     0.76076,     0.76176,     0.76276,     0.76376,     0.76476,     0.76577,     0.76677,     0.76777,\n",
              "           0.76877,     0.76977,     0.77077,     0.77177,     0.77277,     0.77377,     0.77477,     0.77578,     0.77678,     0.77778,     0.77878,     0.77978,     0.78078,     0.78178,     0.78278,     0.78378,     0.78478,     0.78579,     0.78679,     0.78779,     0.78879,     0.78979,     0.79079,     0.79179,\n",
              "           0.79279,     0.79379,     0.79479,      0.7958,      0.7968,      0.7978,      0.7988,      0.7998,      0.8008,      0.8018,      0.8028,      0.8038,      0.8048,     0.80581,     0.80681,     0.80781,     0.80881,     0.80981,     0.81081,     0.81181,     0.81281,     0.81381,     0.81481,     0.81582,\n",
              "           0.81682,     0.81782,     0.81882,     0.81982,     0.82082,     0.82182,     0.82282,     0.82382,     0.82482,     0.82583,     0.82683,     0.82783,     0.82883,     0.82983,     0.83083,     0.83183,     0.83283,     0.83383,     0.83483,     0.83584,     0.83684,     0.83784,     0.83884,     0.83984,\n",
              "           0.84084,     0.84184,     0.84284,     0.84384,     0.84484,     0.84585,     0.84685,     0.84785,     0.84885,     0.84985,     0.85085,     0.85185,     0.85285,     0.85385,     0.85485,     0.85586,     0.85686,     0.85786,     0.85886,     0.85986,     0.86086,     0.86186,     0.86286,     0.86386,\n",
              "           0.86486,     0.86587,     0.86687,     0.86787,     0.86887,     0.86987,     0.87087,     0.87187,     0.87287,     0.87387,     0.87487,     0.87588,     0.87688,     0.87788,     0.87888,     0.87988,     0.88088,     0.88188,     0.88288,     0.88388,     0.88488,     0.88589,     0.88689,     0.88789,\n",
              "           0.88889,     0.88989,     0.89089,     0.89189,     0.89289,     0.89389,     0.89489,      0.8959,      0.8969,      0.8979,      0.8989,      0.8999,      0.9009,      0.9019,      0.9029,      0.9039,      0.9049,     0.90591,     0.90691,     0.90791,     0.90891,     0.90991,     0.91091,     0.91191,\n",
              "           0.91291,     0.91391,     0.91491,     0.91592,     0.91692,     0.91792,     0.91892,     0.91992,     0.92092,     0.92192,     0.92292,     0.92392,     0.92492,     0.92593,     0.92693,     0.92793,     0.92893,     0.92993,     0.93093,     0.93193,     0.93293,     0.93393,     0.93493,     0.93594,\n",
              "           0.93694,     0.93794,     0.93894,     0.93994,     0.94094,     0.94194,     0.94294,     0.94394,     0.94494,     0.94595,     0.94695,     0.94795,     0.94895,     0.94995,     0.95095,     0.95195,     0.95295,     0.95395,     0.95495,     0.95596,     0.95696,     0.95796,     0.95896,     0.95996,\n",
              "           0.96096,     0.96196,     0.96296,     0.96396,     0.96496,     0.96597,     0.96697,     0.96797,     0.96897,     0.96997,     0.97097,     0.97197,     0.97297,     0.97397,     0.97497,     0.97598,     0.97698,     0.97798,     0.97898,     0.97998,     0.98098,     0.98198,     0.98298,     0.98398,\n",
              "           0.98498,     0.98599,     0.98699,     0.98799,     0.98899,     0.98999,     0.99099,     0.99199,     0.99299,     0.99399,     0.99499,       0.996,       0.997,       0.998,       0.999,           1]), array([[          1,           1,           1, ...,  0.00028733,  0.00014367,           0],\n",
              "       [          1,           1,           1, ...,     0.30488,     0.30488,           0],\n",
              "       [        0.7,         0.7,         0.7, ...,     0.66667,     0.66667,           0],\n",
              "       [          1,           1,           1, ...,     0.11268,     0.11268,           0]]), 'Recall', 'Precision'], [array([          0,    0.001001,    0.002002,    0.003003,    0.004004,    0.005005,    0.006006,    0.007007,    0.008008,    0.009009,     0.01001,    0.011011,    0.012012,    0.013013,    0.014014,    0.015015,    0.016016,    0.017017,    0.018018,    0.019019,     0.02002,    0.021021,    0.022022,    0.023023,\n",
              "          0.024024,    0.025025,    0.026026,    0.027027,    0.028028,    0.029029,     0.03003,    0.031031,    0.032032,    0.033033,    0.034034,    0.035035,    0.036036,    0.037037,    0.038038,    0.039039,     0.04004,    0.041041,    0.042042,    0.043043,    0.044044,    0.045045,    0.046046,    0.047047,\n",
              "          0.048048,    0.049049,     0.05005,    0.051051,    0.052052,    0.053053,    0.054054,    0.055055,    0.056056,    0.057057,    0.058058,    0.059059,     0.06006,    0.061061,    0.062062,    0.063063,    0.064064,    0.065065,    0.066066,    0.067067,    0.068068,    0.069069,     0.07007,    0.071071,\n",
              "          0.072072,    0.073073,    0.074074,    0.075075,    0.076076,    0.077077,    0.078078,    0.079079,     0.08008,    0.081081,    0.082082,    0.083083,    0.084084,    0.085085,    0.086086,    0.087087,    0.088088,    0.089089,     0.09009,    0.091091,    0.092092,    0.093093,    0.094094,    0.095095,\n",
              "          0.096096,    0.097097,    0.098098,    0.099099,      0.1001,      0.1011,      0.1021,      0.1031,      0.1041,     0.10511,     0.10611,     0.10711,     0.10811,     0.10911,     0.11011,     0.11111,     0.11211,     0.11311,     0.11411,     0.11512,     0.11612,     0.11712,     0.11812,     0.11912,\n",
              "           0.12012,     0.12112,     0.12212,     0.12312,     0.12412,     0.12513,     0.12613,     0.12713,     0.12813,     0.12913,     0.13013,     0.13113,     0.13213,     0.13313,     0.13413,     0.13514,     0.13614,     0.13714,     0.13814,     0.13914,     0.14014,     0.14114,     0.14214,     0.14314,\n",
              "           0.14414,     0.14515,     0.14615,     0.14715,     0.14815,     0.14915,     0.15015,     0.15115,     0.15215,     0.15315,     0.15415,     0.15516,     0.15616,     0.15716,     0.15816,     0.15916,     0.16016,     0.16116,     0.16216,     0.16316,     0.16416,     0.16517,     0.16617,     0.16717,\n",
              "           0.16817,     0.16917,     0.17017,     0.17117,     0.17217,     0.17317,     0.17417,     0.17518,     0.17618,     0.17718,     0.17818,     0.17918,     0.18018,     0.18118,     0.18218,     0.18318,     0.18418,     0.18519,     0.18619,     0.18719,     0.18819,     0.18919,     0.19019,     0.19119,\n",
              "           0.19219,     0.19319,     0.19419,      0.1952,      0.1962,      0.1972,      0.1982,      0.1992,      0.2002,      0.2012,      0.2022,      0.2032,      0.2042,     0.20521,     0.20621,     0.20721,     0.20821,     0.20921,     0.21021,     0.21121,     0.21221,     0.21321,     0.21421,     0.21522,\n",
              "           0.21622,     0.21722,     0.21822,     0.21922,     0.22022,     0.22122,     0.22222,     0.22322,     0.22422,     0.22523,     0.22623,     0.22723,     0.22823,     0.22923,     0.23023,     0.23123,     0.23223,     0.23323,     0.23423,     0.23524,     0.23624,     0.23724,     0.23824,     0.23924,\n",
              "           0.24024,     0.24124,     0.24224,     0.24324,     0.24424,     0.24525,     0.24625,     0.24725,     0.24825,     0.24925,     0.25025,     0.25125,     0.25225,     0.25325,     0.25425,     0.25526,     0.25626,     0.25726,     0.25826,     0.25926,     0.26026,     0.26126,     0.26226,     0.26326,\n",
              "           0.26426,     0.26527,     0.26627,     0.26727,     0.26827,     0.26927,     0.27027,     0.27127,     0.27227,     0.27327,     0.27427,     0.27528,     0.27628,     0.27728,     0.27828,     0.27928,     0.28028,     0.28128,     0.28228,     0.28328,     0.28428,     0.28529,     0.28629,     0.28729,\n",
              "           0.28829,     0.28929,     0.29029,     0.29129,     0.29229,     0.29329,     0.29429,      0.2953,      0.2963,      0.2973,      0.2983,      0.2993,      0.3003,      0.3013,      0.3023,      0.3033,      0.3043,     0.30531,     0.30631,     0.30731,     0.30831,     0.30931,     0.31031,     0.31131,\n",
              "           0.31231,     0.31331,     0.31431,     0.31532,     0.31632,     0.31732,     0.31832,     0.31932,     0.32032,     0.32132,     0.32232,     0.32332,     0.32432,     0.32533,     0.32633,     0.32733,     0.32833,     0.32933,     0.33033,     0.33133,     0.33233,     0.33333,     0.33433,     0.33534,\n",
              "           0.33634,     0.33734,     0.33834,     0.33934,     0.34034,     0.34134,     0.34234,     0.34334,     0.34434,     0.34535,     0.34635,     0.34735,     0.34835,     0.34935,     0.35035,     0.35135,     0.35235,     0.35335,     0.35435,     0.35536,     0.35636,     0.35736,     0.35836,     0.35936,\n",
              "           0.36036,     0.36136,     0.36236,     0.36336,     0.36436,     0.36537,     0.36637,     0.36737,     0.36837,     0.36937,     0.37037,     0.37137,     0.37237,     0.37337,     0.37437,     0.37538,     0.37638,     0.37738,     0.37838,     0.37938,     0.38038,     0.38138,     0.38238,     0.38338,\n",
              "           0.38438,     0.38539,     0.38639,     0.38739,     0.38839,     0.38939,     0.39039,     0.39139,     0.39239,     0.39339,     0.39439,      0.3954,      0.3964,      0.3974,      0.3984,      0.3994,      0.4004,      0.4014,      0.4024,      0.4034,      0.4044,     0.40541,     0.40641,     0.40741,\n",
              "           0.40841,     0.40941,     0.41041,     0.41141,     0.41241,     0.41341,     0.41441,     0.41542,     0.41642,     0.41742,     0.41842,     0.41942,     0.42042,     0.42142,     0.42242,     0.42342,     0.42442,     0.42543,     0.42643,     0.42743,     0.42843,     0.42943,     0.43043,     0.43143,\n",
              "           0.43243,     0.43343,     0.43443,     0.43544,     0.43644,     0.43744,     0.43844,     0.43944,     0.44044,     0.44144,     0.44244,     0.44344,     0.44444,     0.44545,     0.44645,     0.44745,     0.44845,     0.44945,     0.45045,     0.45145,     0.45245,     0.45345,     0.45445,     0.45546,\n",
              "           0.45646,     0.45746,     0.45846,     0.45946,     0.46046,     0.46146,     0.46246,     0.46346,     0.46446,     0.46547,     0.46647,     0.46747,     0.46847,     0.46947,     0.47047,     0.47147,     0.47247,     0.47347,     0.47447,     0.47548,     0.47648,     0.47748,     0.47848,     0.47948,\n",
              "           0.48048,     0.48148,     0.48248,     0.48348,     0.48448,     0.48549,     0.48649,     0.48749,     0.48849,     0.48949,     0.49049,     0.49149,     0.49249,     0.49349,     0.49449,      0.4955,      0.4965,      0.4975,      0.4985,      0.4995,      0.5005,      0.5015,      0.5025,      0.5035,\n",
              "            0.5045,     0.50551,     0.50651,     0.50751,     0.50851,     0.50951,     0.51051,     0.51151,     0.51251,     0.51351,     0.51451,     0.51552,     0.51652,     0.51752,     0.51852,     0.51952,     0.52052,     0.52152,     0.52252,     0.52352,     0.52452,     0.52553,     0.52653,     0.52753,\n",
              "           0.52853,     0.52953,     0.53053,     0.53153,     0.53253,     0.53353,     0.53453,     0.53554,     0.53654,     0.53754,     0.53854,     0.53954,     0.54054,     0.54154,     0.54254,     0.54354,     0.54454,     0.54555,     0.54655,     0.54755,     0.54855,     0.54955,     0.55055,     0.55155,\n",
              "           0.55255,     0.55355,     0.55455,     0.55556,     0.55656,     0.55756,     0.55856,     0.55956,     0.56056,     0.56156,     0.56256,     0.56356,     0.56456,     0.56557,     0.56657,     0.56757,     0.56857,     0.56957,     0.57057,     0.57157,     0.57257,     0.57357,     0.57457,     0.57558,\n",
              "           0.57658,     0.57758,     0.57858,     0.57958,     0.58058,     0.58158,     0.58258,     0.58358,     0.58458,     0.58559,     0.58659,     0.58759,     0.58859,     0.58959,     0.59059,     0.59159,     0.59259,     0.59359,     0.59459,      0.5956,      0.5966,      0.5976,      0.5986,      0.5996,\n",
              "            0.6006,      0.6016,      0.6026,      0.6036,      0.6046,     0.60561,     0.60661,     0.60761,     0.60861,     0.60961,     0.61061,     0.61161,     0.61261,     0.61361,     0.61461,     0.61562,     0.61662,     0.61762,     0.61862,     0.61962,     0.62062,     0.62162,     0.62262,     0.62362,\n",
              "           0.62462,     0.62563,     0.62663,     0.62763,     0.62863,     0.62963,     0.63063,     0.63163,     0.63263,     0.63363,     0.63463,     0.63564,     0.63664,     0.63764,     0.63864,     0.63964,     0.64064,     0.64164,     0.64264,     0.64364,     0.64464,     0.64565,     0.64665,     0.64765,\n",
              "           0.64865,     0.64965,     0.65065,     0.65165,     0.65265,     0.65365,     0.65465,     0.65566,     0.65666,     0.65766,     0.65866,     0.65966,     0.66066,     0.66166,     0.66266,     0.66366,     0.66466,     0.66567,     0.66667,     0.66767,     0.66867,     0.66967,     0.67067,     0.67167,\n",
              "           0.67267,     0.67367,     0.67467,     0.67568,     0.67668,     0.67768,     0.67868,     0.67968,     0.68068,     0.68168,     0.68268,     0.68368,     0.68468,     0.68569,     0.68669,     0.68769,     0.68869,     0.68969,     0.69069,     0.69169,     0.69269,     0.69369,     0.69469,      0.6957,\n",
              "            0.6967,      0.6977,      0.6987,      0.6997,      0.7007,      0.7017,      0.7027,      0.7037,      0.7047,     0.70571,     0.70671,     0.70771,     0.70871,     0.70971,     0.71071,     0.71171,     0.71271,     0.71371,     0.71471,     0.71572,     0.71672,     0.71772,     0.71872,     0.71972,\n",
              "           0.72072,     0.72172,     0.72272,     0.72372,     0.72472,     0.72573,     0.72673,     0.72773,     0.72873,     0.72973,     0.73073,     0.73173,     0.73273,     0.73373,     0.73473,     0.73574,     0.73674,     0.73774,     0.73874,     0.73974,     0.74074,     0.74174,     0.74274,     0.74374,\n",
              "           0.74474,     0.74575,     0.74675,     0.74775,     0.74875,     0.74975,     0.75075,     0.75175,     0.75275,     0.75375,     0.75475,     0.75576,     0.75676,     0.75776,     0.75876,     0.75976,     0.76076,     0.76176,     0.76276,     0.76376,     0.76476,     0.76577,     0.76677,     0.76777,\n",
              "           0.76877,     0.76977,     0.77077,     0.77177,     0.77277,     0.77377,     0.77477,     0.77578,     0.77678,     0.77778,     0.77878,     0.77978,     0.78078,     0.78178,     0.78278,     0.78378,     0.78478,     0.78579,     0.78679,     0.78779,     0.78879,     0.78979,     0.79079,     0.79179,\n",
              "           0.79279,     0.79379,     0.79479,      0.7958,      0.7968,      0.7978,      0.7988,      0.7998,      0.8008,      0.8018,      0.8028,      0.8038,      0.8048,     0.80581,     0.80681,     0.80781,     0.80881,     0.80981,     0.81081,     0.81181,     0.81281,     0.81381,     0.81481,     0.81582,\n",
              "           0.81682,     0.81782,     0.81882,     0.81982,     0.82082,     0.82182,     0.82282,     0.82382,     0.82482,     0.82583,     0.82683,     0.82783,     0.82883,     0.82983,     0.83083,     0.83183,     0.83283,     0.83383,     0.83483,     0.83584,     0.83684,     0.83784,     0.83884,     0.83984,\n",
              "           0.84084,     0.84184,     0.84284,     0.84384,     0.84484,     0.84585,     0.84685,     0.84785,     0.84885,     0.84985,     0.85085,     0.85185,     0.85285,     0.85385,     0.85485,     0.85586,     0.85686,     0.85786,     0.85886,     0.85986,     0.86086,     0.86186,     0.86286,     0.86386,\n",
              "           0.86486,     0.86587,     0.86687,     0.86787,     0.86887,     0.86987,     0.87087,     0.87187,     0.87287,     0.87387,     0.87487,     0.87588,     0.87688,     0.87788,     0.87888,     0.87988,     0.88088,     0.88188,     0.88288,     0.88388,     0.88488,     0.88589,     0.88689,     0.88789,\n",
              "           0.88889,     0.88989,     0.89089,     0.89189,     0.89289,     0.89389,     0.89489,      0.8959,      0.8969,      0.8979,      0.8989,      0.8999,      0.9009,      0.9019,      0.9029,      0.9039,      0.9049,     0.90591,     0.90691,     0.90791,     0.90891,     0.90991,     0.91091,     0.91191,\n",
              "           0.91291,     0.91391,     0.91491,     0.91592,     0.91692,     0.91792,     0.91892,     0.91992,     0.92092,     0.92192,     0.92292,     0.92392,     0.92492,     0.92593,     0.92693,     0.92793,     0.92893,     0.92993,     0.93093,     0.93193,     0.93293,     0.93393,     0.93493,     0.93594,\n",
              "           0.93694,     0.93794,     0.93894,     0.93994,     0.94094,     0.94194,     0.94294,     0.94394,     0.94494,     0.94595,     0.94695,     0.94795,     0.94895,     0.94995,     0.95095,     0.95195,     0.95295,     0.95395,     0.95495,     0.95596,     0.95696,     0.95796,     0.95896,     0.95996,\n",
              "           0.96096,     0.96196,     0.96296,     0.96396,     0.96496,     0.96597,     0.96697,     0.96797,     0.96897,     0.96997,     0.97097,     0.97197,     0.97297,     0.97397,     0.97497,     0.97598,     0.97698,     0.97798,     0.97898,     0.97998,     0.98098,     0.98198,     0.98298,     0.98398,\n",
              "           0.98498,     0.98599,     0.98699,     0.98799,     0.98899,     0.98999,     0.99099,     0.99199,     0.99299,     0.99399,     0.99499,       0.996,       0.997,       0.998,       0.999,           1]), array([[   0.043689,    0.043733,    0.085181, ...,           0,           0,           0],\n",
              "       [   0.034106,    0.034127,    0.066279, ...,           0,           0,           0],\n",
              "       [   0.033473,    0.033545,    0.061362, ...,           0,           0,           0],\n",
              "       [   0.020888,    0.020907,    0.042165, ...,           0,           0,           0]]), 'Confidence', 'F1'], [array([          0,    0.001001,    0.002002,    0.003003,    0.004004,    0.005005,    0.006006,    0.007007,    0.008008,    0.009009,     0.01001,    0.011011,    0.012012,    0.013013,    0.014014,    0.015015,    0.016016,    0.017017,    0.018018,    0.019019,     0.02002,    0.021021,    0.022022,    0.023023,\n",
              "          0.024024,    0.025025,    0.026026,    0.027027,    0.028028,    0.029029,     0.03003,    0.031031,    0.032032,    0.033033,    0.034034,    0.035035,    0.036036,    0.037037,    0.038038,    0.039039,     0.04004,    0.041041,    0.042042,    0.043043,    0.044044,    0.045045,    0.046046,    0.047047,\n",
              "          0.048048,    0.049049,     0.05005,    0.051051,    0.052052,    0.053053,    0.054054,    0.055055,    0.056056,    0.057057,    0.058058,    0.059059,     0.06006,    0.061061,    0.062062,    0.063063,    0.064064,    0.065065,    0.066066,    0.067067,    0.068068,    0.069069,     0.07007,    0.071071,\n",
              "          0.072072,    0.073073,    0.074074,    0.075075,    0.076076,    0.077077,    0.078078,    0.079079,     0.08008,    0.081081,    0.082082,    0.083083,    0.084084,    0.085085,    0.086086,    0.087087,    0.088088,    0.089089,     0.09009,    0.091091,    0.092092,    0.093093,    0.094094,    0.095095,\n",
              "          0.096096,    0.097097,    0.098098,    0.099099,      0.1001,      0.1011,      0.1021,      0.1031,      0.1041,     0.10511,     0.10611,     0.10711,     0.10811,     0.10911,     0.11011,     0.11111,     0.11211,     0.11311,     0.11411,     0.11512,     0.11612,     0.11712,     0.11812,     0.11912,\n",
              "           0.12012,     0.12112,     0.12212,     0.12312,     0.12412,     0.12513,     0.12613,     0.12713,     0.12813,     0.12913,     0.13013,     0.13113,     0.13213,     0.13313,     0.13413,     0.13514,     0.13614,     0.13714,     0.13814,     0.13914,     0.14014,     0.14114,     0.14214,     0.14314,\n",
              "           0.14414,     0.14515,     0.14615,     0.14715,     0.14815,     0.14915,     0.15015,     0.15115,     0.15215,     0.15315,     0.15415,     0.15516,     0.15616,     0.15716,     0.15816,     0.15916,     0.16016,     0.16116,     0.16216,     0.16316,     0.16416,     0.16517,     0.16617,     0.16717,\n",
              "           0.16817,     0.16917,     0.17017,     0.17117,     0.17217,     0.17317,     0.17417,     0.17518,     0.17618,     0.17718,     0.17818,     0.17918,     0.18018,     0.18118,     0.18218,     0.18318,     0.18418,     0.18519,     0.18619,     0.18719,     0.18819,     0.18919,     0.19019,     0.19119,\n",
              "           0.19219,     0.19319,     0.19419,      0.1952,      0.1962,      0.1972,      0.1982,      0.1992,      0.2002,      0.2012,      0.2022,      0.2032,      0.2042,     0.20521,     0.20621,     0.20721,     0.20821,     0.20921,     0.21021,     0.21121,     0.21221,     0.21321,     0.21421,     0.21522,\n",
              "           0.21622,     0.21722,     0.21822,     0.21922,     0.22022,     0.22122,     0.22222,     0.22322,     0.22422,     0.22523,     0.22623,     0.22723,     0.22823,     0.22923,     0.23023,     0.23123,     0.23223,     0.23323,     0.23423,     0.23524,     0.23624,     0.23724,     0.23824,     0.23924,\n",
              "           0.24024,     0.24124,     0.24224,     0.24324,     0.24424,     0.24525,     0.24625,     0.24725,     0.24825,     0.24925,     0.25025,     0.25125,     0.25225,     0.25325,     0.25425,     0.25526,     0.25626,     0.25726,     0.25826,     0.25926,     0.26026,     0.26126,     0.26226,     0.26326,\n",
              "           0.26426,     0.26527,     0.26627,     0.26727,     0.26827,     0.26927,     0.27027,     0.27127,     0.27227,     0.27327,     0.27427,     0.27528,     0.27628,     0.27728,     0.27828,     0.27928,     0.28028,     0.28128,     0.28228,     0.28328,     0.28428,     0.28529,     0.28629,     0.28729,\n",
              "           0.28829,     0.28929,     0.29029,     0.29129,     0.29229,     0.29329,     0.29429,      0.2953,      0.2963,      0.2973,      0.2983,      0.2993,      0.3003,      0.3013,      0.3023,      0.3033,      0.3043,     0.30531,     0.30631,     0.30731,     0.30831,     0.30931,     0.31031,     0.31131,\n",
              "           0.31231,     0.31331,     0.31431,     0.31532,     0.31632,     0.31732,     0.31832,     0.31932,     0.32032,     0.32132,     0.32232,     0.32332,     0.32432,     0.32533,     0.32633,     0.32733,     0.32833,     0.32933,     0.33033,     0.33133,     0.33233,     0.33333,     0.33433,     0.33534,\n",
              "           0.33634,     0.33734,     0.33834,     0.33934,     0.34034,     0.34134,     0.34234,     0.34334,     0.34434,     0.34535,     0.34635,     0.34735,     0.34835,     0.34935,     0.35035,     0.35135,     0.35235,     0.35335,     0.35435,     0.35536,     0.35636,     0.35736,     0.35836,     0.35936,\n",
              "           0.36036,     0.36136,     0.36236,     0.36336,     0.36436,     0.36537,     0.36637,     0.36737,     0.36837,     0.36937,     0.37037,     0.37137,     0.37237,     0.37337,     0.37437,     0.37538,     0.37638,     0.37738,     0.37838,     0.37938,     0.38038,     0.38138,     0.38238,     0.38338,\n",
              "           0.38438,     0.38539,     0.38639,     0.38739,     0.38839,     0.38939,     0.39039,     0.39139,     0.39239,     0.39339,     0.39439,      0.3954,      0.3964,      0.3974,      0.3984,      0.3994,      0.4004,      0.4014,      0.4024,      0.4034,      0.4044,     0.40541,     0.40641,     0.40741,\n",
              "           0.40841,     0.40941,     0.41041,     0.41141,     0.41241,     0.41341,     0.41441,     0.41542,     0.41642,     0.41742,     0.41842,     0.41942,     0.42042,     0.42142,     0.42242,     0.42342,     0.42442,     0.42543,     0.42643,     0.42743,     0.42843,     0.42943,     0.43043,     0.43143,\n",
              "           0.43243,     0.43343,     0.43443,     0.43544,     0.43644,     0.43744,     0.43844,     0.43944,     0.44044,     0.44144,     0.44244,     0.44344,     0.44444,     0.44545,     0.44645,     0.44745,     0.44845,     0.44945,     0.45045,     0.45145,     0.45245,     0.45345,     0.45445,     0.45546,\n",
              "           0.45646,     0.45746,     0.45846,     0.45946,     0.46046,     0.46146,     0.46246,     0.46346,     0.46446,     0.46547,     0.46647,     0.46747,     0.46847,     0.46947,     0.47047,     0.47147,     0.47247,     0.47347,     0.47447,     0.47548,     0.47648,     0.47748,     0.47848,     0.47948,\n",
              "           0.48048,     0.48148,     0.48248,     0.48348,     0.48448,     0.48549,     0.48649,     0.48749,     0.48849,     0.48949,     0.49049,     0.49149,     0.49249,     0.49349,     0.49449,      0.4955,      0.4965,      0.4975,      0.4985,      0.4995,      0.5005,      0.5015,      0.5025,      0.5035,\n",
              "            0.5045,     0.50551,     0.50651,     0.50751,     0.50851,     0.50951,     0.51051,     0.51151,     0.51251,     0.51351,     0.51451,     0.51552,     0.51652,     0.51752,     0.51852,     0.51952,     0.52052,     0.52152,     0.52252,     0.52352,     0.52452,     0.52553,     0.52653,     0.52753,\n",
              "           0.52853,     0.52953,     0.53053,     0.53153,     0.53253,     0.53353,     0.53453,     0.53554,     0.53654,     0.53754,     0.53854,     0.53954,     0.54054,     0.54154,     0.54254,     0.54354,     0.54454,     0.54555,     0.54655,     0.54755,     0.54855,     0.54955,     0.55055,     0.55155,\n",
              "           0.55255,     0.55355,     0.55455,     0.55556,     0.55656,     0.55756,     0.55856,     0.55956,     0.56056,     0.56156,     0.56256,     0.56356,     0.56456,     0.56557,     0.56657,     0.56757,     0.56857,     0.56957,     0.57057,     0.57157,     0.57257,     0.57357,     0.57457,     0.57558,\n",
              "           0.57658,     0.57758,     0.57858,     0.57958,     0.58058,     0.58158,     0.58258,     0.58358,     0.58458,     0.58559,     0.58659,     0.58759,     0.58859,     0.58959,     0.59059,     0.59159,     0.59259,     0.59359,     0.59459,      0.5956,      0.5966,      0.5976,      0.5986,      0.5996,\n",
              "            0.6006,      0.6016,      0.6026,      0.6036,      0.6046,     0.60561,     0.60661,     0.60761,     0.60861,     0.60961,     0.61061,     0.61161,     0.61261,     0.61361,     0.61461,     0.61562,     0.61662,     0.61762,     0.61862,     0.61962,     0.62062,     0.62162,     0.62262,     0.62362,\n",
              "           0.62462,     0.62563,     0.62663,     0.62763,     0.62863,     0.62963,     0.63063,     0.63163,     0.63263,     0.63363,     0.63463,     0.63564,     0.63664,     0.63764,     0.63864,     0.63964,     0.64064,     0.64164,     0.64264,     0.64364,     0.64464,     0.64565,     0.64665,     0.64765,\n",
              "           0.64865,     0.64965,     0.65065,     0.65165,     0.65265,     0.65365,     0.65465,     0.65566,     0.65666,     0.65766,     0.65866,     0.65966,     0.66066,     0.66166,     0.66266,     0.66366,     0.66466,     0.66567,     0.66667,     0.66767,     0.66867,     0.66967,     0.67067,     0.67167,\n",
              "           0.67267,     0.67367,     0.67467,     0.67568,     0.67668,     0.67768,     0.67868,     0.67968,     0.68068,     0.68168,     0.68268,     0.68368,     0.68468,     0.68569,     0.68669,     0.68769,     0.68869,     0.68969,     0.69069,     0.69169,     0.69269,     0.69369,     0.69469,      0.6957,\n",
              "            0.6967,      0.6977,      0.6987,      0.6997,      0.7007,      0.7017,      0.7027,      0.7037,      0.7047,     0.70571,     0.70671,     0.70771,     0.70871,     0.70971,     0.71071,     0.71171,     0.71271,     0.71371,     0.71471,     0.71572,     0.71672,     0.71772,     0.71872,     0.71972,\n",
              "           0.72072,     0.72172,     0.72272,     0.72372,     0.72472,     0.72573,     0.72673,     0.72773,     0.72873,     0.72973,     0.73073,     0.73173,     0.73273,     0.73373,     0.73473,     0.73574,     0.73674,     0.73774,     0.73874,     0.73974,     0.74074,     0.74174,     0.74274,     0.74374,\n",
              "           0.74474,     0.74575,     0.74675,     0.74775,     0.74875,     0.74975,     0.75075,     0.75175,     0.75275,     0.75375,     0.75475,     0.75576,     0.75676,     0.75776,     0.75876,     0.75976,     0.76076,     0.76176,     0.76276,     0.76376,     0.76476,     0.76577,     0.76677,     0.76777,\n",
              "           0.76877,     0.76977,     0.77077,     0.77177,     0.77277,     0.77377,     0.77477,     0.77578,     0.77678,     0.77778,     0.77878,     0.77978,     0.78078,     0.78178,     0.78278,     0.78378,     0.78478,     0.78579,     0.78679,     0.78779,     0.78879,     0.78979,     0.79079,     0.79179,\n",
              "           0.79279,     0.79379,     0.79479,      0.7958,      0.7968,      0.7978,      0.7988,      0.7998,      0.8008,      0.8018,      0.8028,      0.8038,      0.8048,     0.80581,     0.80681,     0.80781,     0.80881,     0.80981,     0.81081,     0.81181,     0.81281,     0.81381,     0.81481,     0.81582,\n",
              "           0.81682,     0.81782,     0.81882,     0.81982,     0.82082,     0.82182,     0.82282,     0.82382,     0.82482,     0.82583,     0.82683,     0.82783,     0.82883,     0.82983,     0.83083,     0.83183,     0.83283,     0.83383,     0.83483,     0.83584,     0.83684,     0.83784,     0.83884,     0.83984,\n",
              "           0.84084,     0.84184,     0.84284,     0.84384,     0.84484,     0.84585,     0.84685,     0.84785,     0.84885,     0.84985,     0.85085,     0.85185,     0.85285,     0.85385,     0.85485,     0.85586,     0.85686,     0.85786,     0.85886,     0.85986,     0.86086,     0.86186,     0.86286,     0.86386,\n",
              "           0.86486,     0.86587,     0.86687,     0.86787,     0.86887,     0.86987,     0.87087,     0.87187,     0.87287,     0.87387,     0.87487,     0.87588,     0.87688,     0.87788,     0.87888,     0.87988,     0.88088,     0.88188,     0.88288,     0.88388,     0.88488,     0.88589,     0.88689,     0.88789,\n",
              "           0.88889,     0.88989,     0.89089,     0.89189,     0.89289,     0.89389,     0.89489,      0.8959,      0.8969,      0.8979,      0.8989,      0.8999,      0.9009,      0.9019,      0.9029,      0.9039,      0.9049,     0.90591,     0.90691,     0.90791,     0.90891,     0.90991,     0.91091,     0.91191,\n",
              "           0.91291,     0.91391,     0.91491,     0.91592,     0.91692,     0.91792,     0.91892,     0.91992,     0.92092,     0.92192,     0.92292,     0.92392,     0.92492,     0.92593,     0.92693,     0.92793,     0.92893,     0.92993,     0.93093,     0.93193,     0.93293,     0.93393,     0.93493,     0.93594,\n",
              "           0.93694,     0.93794,     0.93894,     0.93994,     0.94094,     0.94194,     0.94294,     0.94394,     0.94494,     0.94595,     0.94695,     0.94795,     0.94895,     0.94995,     0.95095,     0.95195,     0.95295,     0.95395,     0.95495,     0.95596,     0.95696,     0.95796,     0.95896,     0.95996,\n",
              "           0.96096,     0.96196,     0.96296,     0.96396,     0.96496,     0.96597,     0.96697,     0.96797,     0.96897,     0.96997,     0.97097,     0.97197,     0.97297,     0.97397,     0.97497,     0.97598,     0.97698,     0.97798,     0.97898,     0.97998,     0.98098,     0.98198,     0.98298,     0.98398,\n",
              "           0.98498,     0.98599,     0.98699,     0.98799,     0.98899,     0.98999,     0.99099,     0.99199,     0.99299,     0.99399,     0.99499,       0.996,       0.997,       0.998,       0.999,           1]), array([[   0.022425,    0.022448,    0.045403, ...,           1,           1,           1],\n",
              "       [   0.017349,     0.01736,    0.034275, ...,           1,           1,           1],\n",
              "       [   0.017021,    0.017059,    0.031652, ...,           1,           1,           1],\n",
              "       [   0.010554,    0.010564,    0.021537, ...,           1,           1,           1]]), 'Confidence', 'Precision'], [array([          0,    0.001001,    0.002002,    0.003003,    0.004004,    0.005005,    0.006006,    0.007007,    0.008008,    0.009009,     0.01001,    0.011011,    0.012012,    0.013013,    0.014014,    0.015015,    0.016016,    0.017017,    0.018018,    0.019019,     0.02002,    0.021021,    0.022022,    0.023023,\n",
              "          0.024024,    0.025025,    0.026026,    0.027027,    0.028028,    0.029029,     0.03003,    0.031031,    0.032032,    0.033033,    0.034034,    0.035035,    0.036036,    0.037037,    0.038038,    0.039039,     0.04004,    0.041041,    0.042042,    0.043043,    0.044044,    0.045045,    0.046046,    0.047047,\n",
              "          0.048048,    0.049049,     0.05005,    0.051051,    0.052052,    0.053053,    0.054054,    0.055055,    0.056056,    0.057057,    0.058058,    0.059059,     0.06006,    0.061061,    0.062062,    0.063063,    0.064064,    0.065065,    0.066066,    0.067067,    0.068068,    0.069069,     0.07007,    0.071071,\n",
              "          0.072072,    0.073073,    0.074074,    0.075075,    0.076076,    0.077077,    0.078078,    0.079079,     0.08008,    0.081081,    0.082082,    0.083083,    0.084084,    0.085085,    0.086086,    0.087087,    0.088088,    0.089089,     0.09009,    0.091091,    0.092092,    0.093093,    0.094094,    0.095095,\n",
              "          0.096096,    0.097097,    0.098098,    0.099099,      0.1001,      0.1011,      0.1021,      0.1031,      0.1041,     0.10511,     0.10611,     0.10711,     0.10811,     0.10911,     0.11011,     0.11111,     0.11211,     0.11311,     0.11411,     0.11512,     0.11612,     0.11712,     0.11812,     0.11912,\n",
              "           0.12012,     0.12112,     0.12212,     0.12312,     0.12412,     0.12513,     0.12613,     0.12713,     0.12813,     0.12913,     0.13013,     0.13113,     0.13213,     0.13313,     0.13413,     0.13514,     0.13614,     0.13714,     0.13814,     0.13914,     0.14014,     0.14114,     0.14214,     0.14314,\n",
              "           0.14414,     0.14515,     0.14615,     0.14715,     0.14815,     0.14915,     0.15015,     0.15115,     0.15215,     0.15315,     0.15415,     0.15516,     0.15616,     0.15716,     0.15816,     0.15916,     0.16016,     0.16116,     0.16216,     0.16316,     0.16416,     0.16517,     0.16617,     0.16717,\n",
              "           0.16817,     0.16917,     0.17017,     0.17117,     0.17217,     0.17317,     0.17417,     0.17518,     0.17618,     0.17718,     0.17818,     0.17918,     0.18018,     0.18118,     0.18218,     0.18318,     0.18418,     0.18519,     0.18619,     0.18719,     0.18819,     0.18919,     0.19019,     0.19119,\n",
              "           0.19219,     0.19319,     0.19419,      0.1952,      0.1962,      0.1972,      0.1982,      0.1992,      0.2002,      0.2012,      0.2022,      0.2032,      0.2042,     0.20521,     0.20621,     0.20721,     0.20821,     0.20921,     0.21021,     0.21121,     0.21221,     0.21321,     0.21421,     0.21522,\n",
              "           0.21622,     0.21722,     0.21822,     0.21922,     0.22022,     0.22122,     0.22222,     0.22322,     0.22422,     0.22523,     0.22623,     0.22723,     0.22823,     0.22923,     0.23023,     0.23123,     0.23223,     0.23323,     0.23423,     0.23524,     0.23624,     0.23724,     0.23824,     0.23924,\n",
              "           0.24024,     0.24124,     0.24224,     0.24324,     0.24424,     0.24525,     0.24625,     0.24725,     0.24825,     0.24925,     0.25025,     0.25125,     0.25225,     0.25325,     0.25425,     0.25526,     0.25626,     0.25726,     0.25826,     0.25926,     0.26026,     0.26126,     0.26226,     0.26326,\n",
              "           0.26426,     0.26527,     0.26627,     0.26727,     0.26827,     0.26927,     0.27027,     0.27127,     0.27227,     0.27327,     0.27427,     0.27528,     0.27628,     0.27728,     0.27828,     0.27928,     0.28028,     0.28128,     0.28228,     0.28328,     0.28428,     0.28529,     0.28629,     0.28729,\n",
              "           0.28829,     0.28929,     0.29029,     0.29129,     0.29229,     0.29329,     0.29429,      0.2953,      0.2963,      0.2973,      0.2983,      0.2993,      0.3003,      0.3013,      0.3023,      0.3033,      0.3043,     0.30531,     0.30631,     0.30731,     0.30831,     0.30931,     0.31031,     0.31131,\n",
              "           0.31231,     0.31331,     0.31431,     0.31532,     0.31632,     0.31732,     0.31832,     0.31932,     0.32032,     0.32132,     0.32232,     0.32332,     0.32432,     0.32533,     0.32633,     0.32733,     0.32833,     0.32933,     0.33033,     0.33133,     0.33233,     0.33333,     0.33433,     0.33534,\n",
              "           0.33634,     0.33734,     0.33834,     0.33934,     0.34034,     0.34134,     0.34234,     0.34334,     0.34434,     0.34535,     0.34635,     0.34735,     0.34835,     0.34935,     0.35035,     0.35135,     0.35235,     0.35335,     0.35435,     0.35536,     0.35636,     0.35736,     0.35836,     0.35936,\n",
              "           0.36036,     0.36136,     0.36236,     0.36336,     0.36436,     0.36537,     0.36637,     0.36737,     0.36837,     0.36937,     0.37037,     0.37137,     0.37237,     0.37337,     0.37437,     0.37538,     0.37638,     0.37738,     0.37838,     0.37938,     0.38038,     0.38138,     0.38238,     0.38338,\n",
              "           0.38438,     0.38539,     0.38639,     0.38739,     0.38839,     0.38939,     0.39039,     0.39139,     0.39239,     0.39339,     0.39439,      0.3954,      0.3964,      0.3974,      0.3984,      0.3994,      0.4004,      0.4014,      0.4024,      0.4034,      0.4044,     0.40541,     0.40641,     0.40741,\n",
              "           0.40841,     0.40941,     0.41041,     0.41141,     0.41241,     0.41341,     0.41441,     0.41542,     0.41642,     0.41742,     0.41842,     0.41942,     0.42042,     0.42142,     0.42242,     0.42342,     0.42442,     0.42543,     0.42643,     0.42743,     0.42843,     0.42943,     0.43043,     0.43143,\n",
              "           0.43243,     0.43343,     0.43443,     0.43544,     0.43644,     0.43744,     0.43844,     0.43944,     0.44044,     0.44144,     0.44244,     0.44344,     0.44444,     0.44545,     0.44645,     0.44745,     0.44845,     0.44945,     0.45045,     0.45145,     0.45245,     0.45345,     0.45445,     0.45546,\n",
              "           0.45646,     0.45746,     0.45846,     0.45946,     0.46046,     0.46146,     0.46246,     0.46346,     0.46446,     0.46547,     0.46647,     0.46747,     0.46847,     0.46947,     0.47047,     0.47147,     0.47247,     0.47347,     0.47447,     0.47548,     0.47648,     0.47748,     0.47848,     0.47948,\n",
              "           0.48048,     0.48148,     0.48248,     0.48348,     0.48448,     0.48549,     0.48649,     0.48749,     0.48849,     0.48949,     0.49049,     0.49149,     0.49249,     0.49349,     0.49449,      0.4955,      0.4965,      0.4975,      0.4985,      0.4995,      0.5005,      0.5015,      0.5025,      0.5035,\n",
              "            0.5045,     0.50551,     0.50651,     0.50751,     0.50851,     0.50951,     0.51051,     0.51151,     0.51251,     0.51351,     0.51451,     0.51552,     0.51652,     0.51752,     0.51852,     0.51952,     0.52052,     0.52152,     0.52252,     0.52352,     0.52452,     0.52553,     0.52653,     0.52753,\n",
              "           0.52853,     0.52953,     0.53053,     0.53153,     0.53253,     0.53353,     0.53453,     0.53554,     0.53654,     0.53754,     0.53854,     0.53954,     0.54054,     0.54154,     0.54254,     0.54354,     0.54454,     0.54555,     0.54655,     0.54755,     0.54855,     0.54955,     0.55055,     0.55155,\n",
              "           0.55255,     0.55355,     0.55455,     0.55556,     0.55656,     0.55756,     0.55856,     0.55956,     0.56056,     0.56156,     0.56256,     0.56356,     0.56456,     0.56557,     0.56657,     0.56757,     0.56857,     0.56957,     0.57057,     0.57157,     0.57257,     0.57357,     0.57457,     0.57558,\n",
              "           0.57658,     0.57758,     0.57858,     0.57958,     0.58058,     0.58158,     0.58258,     0.58358,     0.58458,     0.58559,     0.58659,     0.58759,     0.58859,     0.58959,     0.59059,     0.59159,     0.59259,     0.59359,     0.59459,      0.5956,      0.5966,      0.5976,      0.5986,      0.5996,\n",
              "            0.6006,      0.6016,      0.6026,      0.6036,      0.6046,     0.60561,     0.60661,     0.60761,     0.60861,     0.60961,     0.61061,     0.61161,     0.61261,     0.61361,     0.61461,     0.61562,     0.61662,     0.61762,     0.61862,     0.61962,     0.62062,     0.62162,     0.62262,     0.62362,\n",
              "           0.62462,     0.62563,     0.62663,     0.62763,     0.62863,     0.62963,     0.63063,     0.63163,     0.63263,     0.63363,     0.63463,     0.63564,     0.63664,     0.63764,     0.63864,     0.63964,     0.64064,     0.64164,     0.64264,     0.64364,     0.64464,     0.64565,     0.64665,     0.64765,\n",
              "           0.64865,     0.64965,     0.65065,     0.65165,     0.65265,     0.65365,     0.65465,     0.65566,     0.65666,     0.65766,     0.65866,     0.65966,     0.66066,     0.66166,     0.66266,     0.66366,     0.66466,     0.66567,     0.66667,     0.66767,     0.66867,     0.66967,     0.67067,     0.67167,\n",
              "           0.67267,     0.67367,     0.67467,     0.67568,     0.67668,     0.67768,     0.67868,     0.67968,     0.68068,     0.68168,     0.68268,     0.68368,     0.68468,     0.68569,     0.68669,     0.68769,     0.68869,     0.68969,     0.69069,     0.69169,     0.69269,     0.69369,     0.69469,      0.6957,\n",
              "            0.6967,      0.6977,      0.6987,      0.6997,      0.7007,      0.7017,      0.7027,      0.7037,      0.7047,     0.70571,     0.70671,     0.70771,     0.70871,     0.70971,     0.71071,     0.71171,     0.71271,     0.71371,     0.71471,     0.71572,     0.71672,     0.71772,     0.71872,     0.71972,\n",
              "           0.72072,     0.72172,     0.72272,     0.72372,     0.72472,     0.72573,     0.72673,     0.72773,     0.72873,     0.72973,     0.73073,     0.73173,     0.73273,     0.73373,     0.73473,     0.73574,     0.73674,     0.73774,     0.73874,     0.73974,     0.74074,     0.74174,     0.74274,     0.74374,\n",
              "           0.74474,     0.74575,     0.74675,     0.74775,     0.74875,     0.74975,     0.75075,     0.75175,     0.75275,     0.75375,     0.75475,     0.75576,     0.75676,     0.75776,     0.75876,     0.75976,     0.76076,     0.76176,     0.76276,     0.76376,     0.76476,     0.76577,     0.76677,     0.76777,\n",
              "           0.76877,     0.76977,     0.77077,     0.77177,     0.77277,     0.77377,     0.77477,     0.77578,     0.77678,     0.77778,     0.77878,     0.77978,     0.78078,     0.78178,     0.78278,     0.78378,     0.78478,     0.78579,     0.78679,     0.78779,     0.78879,     0.78979,     0.79079,     0.79179,\n",
              "           0.79279,     0.79379,     0.79479,      0.7958,      0.7968,      0.7978,      0.7988,      0.7998,      0.8008,      0.8018,      0.8028,      0.8038,      0.8048,     0.80581,     0.80681,     0.80781,     0.80881,     0.80981,     0.81081,     0.81181,     0.81281,     0.81381,     0.81481,     0.81582,\n",
              "           0.81682,     0.81782,     0.81882,     0.81982,     0.82082,     0.82182,     0.82282,     0.82382,     0.82482,     0.82583,     0.82683,     0.82783,     0.82883,     0.82983,     0.83083,     0.83183,     0.83283,     0.83383,     0.83483,     0.83584,     0.83684,     0.83784,     0.83884,     0.83984,\n",
              "           0.84084,     0.84184,     0.84284,     0.84384,     0.84484,     0.84585,     0.84685,     0.84785,     0.84885,     0.84985,     0.85085,     0.85185,     0.85285,     0.85385,     0.85485,     0.85586,     0.85686,     0.85786,     0.85886,     0.85986,     0.86086,     0.86186,     0.86286,     0.86386,\n",
              "           0.86486,     0.86587,     0.86687,     0.86787,     0.86887,     0.86987,     0.87087,     0.87187,     0.87287,     0.87387,     0.87487,     0.87588,     0.87688,     0.87788,     0.87888,     0.87988,     0.88088,     0.88188,     0.88288,     0.88388,     0.88488,     0.88589,     0.88689,     0.88789,\n",
              "           0.88889,     0.88989,     0.89089,     0.89189,     0.89289,     0.89389,     0.89489,      0.8959,      0.8969,      0.8979,      0.8989,      0.8999,      0.9009,      0.9019,      0.9029,      0.9039,      0.9049,     0.90591,     0.90691,     0.90791,     0.90891,     0.90991,     0.91091,     0.91191,\n",
              "           0.91291,     0.91391,     0.91491,     0.91592,     0.91692,     0.91792,     0.91892,     0.91992,     0.92092,     0.92192,     0.92292,     0.92392,     0.92492,     0.92593,     0.92693,     0.92793,     0.92893,     0.92993,     0.93093,     0.93193,     0.93293,     0.93393,     0.93493,     0.93594,\n",
              "           0.93694,     0.93794,     0.93894,     0.93994,     0.94094,     0.94194,     0.94294,     0.94394,     0.94494,     0.94595,     0.94695,     0.94795,     0.94895,     0.94995,     0.95095,     0.95195,     0.95295,     0.95395,     0.95495,     0.95596,     0.95696,     0.95796,     0.95896,     0.95996,\n",
              "           0.96096,     0.96196,     0.96296,     0.96396,     0.96496,     0.96597,     0.96697,     0.96797,     0.96897,     0.96997,     0.97097,     0.97197,     0.97297,     0.97397,     0.97497,     0.97598,     0.97698,     0.97798,     0.97898,     0.97998,     0.98098,     0.98198,     0.98298,     0.98398,\n",
              "           0.98498,     0.98599,     0.98699,     0.98799,     0.98899,     0.98999,     0.99099,     0.99199,     0.99299,     0.99399,     0.99499,       0.996,       0.997,       0.998,       0.999,           1]), array([[    0.84375,     0.84375,      0.6875, ...,           0,           0,           0],\n",
              "       [          1,           1,           1, ...,           0,           0,           0],\n",
              "       [          1,           1,           1, ...,           0,           0,           0],\n",
              "       [          1,           1,           1, ...,           0,           0,           0]]), 'Confidence', 'Recall']]\n",
              "fitness: 0.38893819954670245\n",
              "keys: ['metrics/precision(B)', 'metrics/recall(B)', 'metrics/mAP50(B)', 'metrics/mAP50-95(B)']\n",
              "maps: array([    0.15716,     0.60356,     0.39814,     0.26914])\n",
              "names: {0: 'channel', 1: 'flash', 2: 'cavity', 3: 'crack/groove'}\n",
              "plot: True\n",
              "results_dict: {'metrics/precision(B)': 0.6061537428574224, 'metrics/recall(B)': 0.7484777264023965, 'metrics/mAP50(B)': 0.6763649515711798, 'metrics/mAP50-95(B)': 0.35700189376620495, 'fitness': 0.38893819954670245}\n",
              "save_dir: PosixPath('runs/detect/train2')\n",
              "speed: {'preprocess': 0.1925840610411109, 'inference': 11.889033201264173, 'loss': 0.0008664480069788492, 'postprocess': 3.7058969823325554}\n",
              "task: 'detect'"
            ]
          },
          "metadata": {},
          "execution_count": 8
        }
      ],
      "source": [
        "# 8. Evaluate the model\n",
        "metrics = model.val()\n",
        "metrics\n"
      ]
    },
    {
      "cell_type": "code",
      "execution_count": 9,
      "metadata": {
        "colab": {
          "base_uri": "https://localhost:8080/"
        },
        "id": "cs1XrIDBh7Mw",
        "outputId": "04969e4c-36bc-437f-80af-224855072add"
      },
      "outputs": [
        {
          "output_type": "stream",
          "name": "stdout",
          "text": [
            "\n",
            "image 1/41 /content/drive/MyDrive/dataset/images/test/image1_aug1.jpg: 256x640 3 flashs, 37.9ms\n",
            "image 2/41 /content/drive/MyDrive/dataset/images/test/image1_aug2.jpg: 256x640 2 flashs, 6.6ms\n",
            "image 3/41 /content/drive/MyDrive/dataset/images/test/image1_aug3.jpg: 256x640 2 flashs, 10.3ms\n",
            "image 4/41 /content/drive/MyDrive/dataset/images/test/image1_aug4.jpg: 256x640 3 flashs, 9.7ms\n",
            "image 5/41 /content/drive/MyDrive/dataset/images/test/image2_aug10.jpg: 256x640 2 flashs, 10.0ms\n",
            "image 6/41 /content/drive/MyDrive/dataset/images/test/image2_aug11.jpg: 256x640 2 flashs, 9.6ms\n",
            "image 7/41 /content/drive/MyDrive/dataset/images/test/image2_aug14.jpg: 256x640 2 flashs, 9.3ms\n",
            "image 8/41 /content/drive/MyDrive/dataset/images/test/image2_aug15.jpg: 256x640 2 flashs, 10.6ms\n",
            "image 9/41 /content/drive/MyDrive/dataset/images/test/image2_aug16.jpg: 256x640 1 flash, 7.4ms\n",
            "image 10/41 /content/drive/MyDrive/dataset/images/test/image2_aug17.jpg: 256x640 1 flash, 7.4ms\n",
            "image 11/41 /content/drive/MyDrive/dataset/images/test/image2_aug8.jpg: 256x640 1 flash, 8.3ms\n",
            "image 12/41 /content/drive/MyDrive/dataset/images/test/image2_aug9.jpg: 256x640 3 flashs, 7.6ms\n",
            "image 13/41 /content/drive/MyDrive/dataset/images/test/image3_aug3.jpg: 256x640 1 flash, 1 cavity, 6.9ms\n",
            "image 14/41 /content/drive/MyDrive/dataset/images/test/image3_aug4.jpg: 256x640 2 flashs, 8.7ms\n",
            "image 15/41 /content/drive/MyDrive/dataset/images/test/image3_aug5.jpg: 256x640 1 flash, 1 cavity, 9.7ms\n",
            "image 16/41 /content/drive/MyDrive/dataset/images/test/image3_aug6.jpg: 256x640 3 flashs, 1 cavity, 9.2ms\n",
            "image 17/41 /content/drive/MyDrive/dataset/images/test/image4_aug17.jpg: 256x640 1 channel, 1 flash, 1 crack/groove, 7.1ms\n",
            "image 18/41 /content/drive/MyDrive/dataset/images/test/image5_aug1.jpg: 224x640 (no detections), 57.9ms\n",
            "image 19/41 /content/drive/MyDrive/dataset/images/test/image5_aug10.jpg: 224x640 (no detections), 7.5ms\n",
            "image 20/41 /content/drive/MyDrive/dataset/images/test/image5_aug11.jpg: 224x640 2 flashs, 7.1ms\n",
            "image 21/41 /content/drive/MyDrive/dataset/images/test/image5_aug12.jpg: 224x640 (no detections), 6.9ms\n",
            "image 22/41 /content/drive/MyDrive/dataset/images/test/image5_aug13.jpg: 224x640 1 flash, 13.3ms\n",
            "image 23/41 /content/drive/MyDrive/dataset/images/test/image5_aug14.jpg: 224x640 (no detections), 10.4ms\n",
            "image 24/41 /content/drive/MyDrive/dataset/images/test/image5_aug15.jpg: 224x640 1 channel, 7.2ms\n",
            "image 25/41 /content/drive/MyDrive/dataset/images/test/image5_aug16.jpg: 224x640 (no detections), 7.2ms\n",
            "image 26/41 /content/drive/MyDrive/dataset/images/test/image5_aug17.jpg: 224x640 1 flash, 7.2ms\n",
            "image 27/41 /content/drive/MyDrive/dataset/images/test/image5_aug2.jpg: 224x640 1 flash, 7.2ms\n",
            "image 28/41 /content/drive/MyDrive/dataset/images/test/image5_aug3.jpg: 224x640 (no detections), 7.3ms\n",
            "image 29/41 /content/drive/MyDrive/dataset/images/test/image5_aug5.jpg: 224x640 1 flash, 7.3ms\n",
            "image 30/41 /content/drive/MyDrive/dataset/images/test/image5_aug6.jpg: 224x640 1 flash, 7.1ms\n",
            "image 31/41 /content/drive/MyDrive/dataset/images/test/image5_aug7.jpg: 224x640 1 flash, 7.3ms\n",
            "image 32/41 /content/drive/MyDrive/dataset/images/test/image5_aug8.jpg: 224x640 1 channel, 7.4ms\n",
            "image 33/41 /content/drive/MyDrive/dataset/images/test/image5_aug9.jpg: 224x640 (no detections), 9.0ms\n",
            "image 34/41 /content/drive/MyDrive/dataset/images/test/image6_aug15.jpg: 256x640 1 crack/groove, 9.6ms\n",
            "image 35/41 /content/drive/MyDrive/dataset/images/test/image6_aug16.jpg: 256x640 2 flashs, 8.9ms\n",
            "image 36/41 /content/drive/MyDrive/dataset/images/test/image6_aug17.jpg: 256x640 1 channel, 2 flashs, 7.2ms\n",
            "image 37/41 /content/drive/MyDrive/dataset/images/test/image7_aug1.jpg: 256x640 3 channels, 2 cavitys, 3 crack/grooves, 7.2ms\n",
            "image 38/41 /content/drive/MyDrive/dataset/images/test/image7_aug2.jpg: 256x640 2 channels, 1 crack/groove, 8.6ms\n",
            "image 39/41 /content/drive/MyDrive/dataset/images/test/image7_aug3.jpg: 256x640 2 channels, 1 flash, 4 cavitys, 1 crack/groove, 7.1ms\n",
            "image 40/41 /content/drive/MyDrive/dataset/images/test/image7_aug4.jpg: 256x640 5 channels, 1 flash, 1 cavity, 2 crack/grooves, 7.4ms\n",
            "image 41/41 /content/drive/MyDrive/dataset/images/test/image7_aug5.jpg: 256x640 4 channels, 1 cavity, 2 crack/grooves, 7.5ms\n",
            "Speed: 1.7ms preprocess, 10.2ms inference, 1.4ms postprocess per image at shape (1, 3, 256, 640)\n",
            "Results saved to \u001b[1mruns/detect/train3\u001b[0m\n"
          ]
        },
        {
          "output_type": "execute_result",
          "data": {
            "text/plain": [
              "[ultralytics.engine.results.Results object with attributes:\n",
              " \n",
              " boxes: ultralytics.engine.results.Boxes object\n",
              " keypoints: None\n",
              " masks: None\n",
              " names: {0: 'channel', 1: 'flash', 2: 'cavity', 3: 'crack/groove'}\n",
              " obb: None\n",
              " orig_img: array([[[208, 207, 197],\n",
              "         [188, 187, 177],\n",
              "         [178, 177, 167],\n",
              "         ...,\n",
              "         [246, 244, 233],\n",
              "         [249, 247, 236],\n",
              "         [249, 247, 236]],\n",
              " \n",
              "        [[206, 205, 195],\n",
              "         [189, 188, 178],\n",
              "         [189, 188, 178],\n",
              "         ...,\n",
              "         [252, 250, 239],\n",
              "         [255, 253, 242],\n",
              "         [255, 253, 242]],\n",
              " \n",
              "        [[220, 219, 209],\n",
              "         [177, 176, 166],\n",
              "         [175, 174, 164],\n",
              "         ...,\n",
              "         [255, 254, 243],\n",
              "         [255, 255, 244],\n",
              "         [255, 255, 245]],\n",
              " \n",
              "        ...,\n",
              " \n",
              "        [[196, 189, 174],\n",
              "         [190, 183, 168],\n",
              "         [188, 181, 166],\n",
              "         ...,\n",
              "         [255, 255, 255],\n",
              "         [255, 255, 255],\n",
              "         [255, 255, 255]],\n",
              " \n",
              "        [[171, 164, 149],\n",
              "         [169, 162, 147],\n",
              "         [171, 164, 149],\n",
              "         ...,\n",
              "         [255, 255, 255],\n",
              "         [255, 255, 255],\n",
              "         [255, 255, 255]],\n",
              " \n",
              "        [[175, 168, 153],\n",
              "         [170, 163, 148],\n",
              "         [165, 158, 143],\n",
              "         ...,\n",
              "         [255, 255, 255],\n",
              "         [255, 255, 255],\n",
              "         [255, 255, 255]]], dtype=uint8)\n",
              " orig_shape: (147, 372)\n",
              " path: '/content/drive/MyDrive/dataset/images/test/image1_aug1.jpg'\n",
              " probs: None\n",
              " save_dir: 'runs/detect/train3'\n",
              " speed: {'preprocess': 2.6366710662841797, 'inference': 37.86778450012207, 'postprocess': 1.8472671508789062},\n",
              " ultralytics.engine.results.Results object with attributes:\n",
              " \n",
              " boxes: ultralytics.engine.results.Boxes object\n",
              " keypoints: None\n",
              " masks: None\n",
              " names: {0: 'channel', 1: 'flash', 2: 'cavity', 3: 'crack/groove'}\n",
              " obb: None\n",
              " orig_img: array([[[176, 185, 182],\n",
              "         [169, 178, 175],\n",
              "         [169, 174, 172],\n",
              "         ...,\n",
              "         [142, 164, 170],\n",
              "         [149, 173, 179],\n",
              "         [160, 184, 190]],\n",
              " \n",
              "        [[174, 183, 180],\n",
              "         [167, 176, 173],\n",
              "         [167, 174, 171],\n",
              "         ...,\n",
              "         [146, 168, 174],\n",
              "         [149, 173, 179],\n",
              "         [154, 178, 184]],\n",
              " \n",
              "        [[188, 198, 192],\n",
              "         [171, 181, 175],\n",
              "         [169, 176, 171],\n",
              "         ...,\n",
              "         [150, 172, 178],\n",
              "         [154, 178, 184],\n",
              "         [159, 183, 189]],\n",
              " \n",
              "        ...,\n",
              " \n",
              "        [[187, 198, 195],\n",
              "         [187, 198, 195],\n",
              "         [186, 197, 194],\n",
              "         ...,\n",
              "         [107, 115, 104],\n",
              "         [131, 143, 131],\n",
              "         [147, 161, 149]],\n",
              " \n",
              "        [[190, 202, 196],\n",
              "         [190, 202, 196],\n",
              "         [189, 200, 197],\n",
              "         ...,\n",
              "         [108, 118, 106],\n",
              "         [134, 144, 132],\n",
              "         [150, 162, 150]],\n",
              " \n",
              "        [[194, 206, 200],\n",
              "         [195, 207, 201],\n",
              "         [193, 204, 201],\n",
              "         ...,\n",
              "         [113, 123, 111],\n",
              "         [136, 146, 134],\n",
              "         [150, 162, 150]]], dtype=uint8)\n",
              " orig_shape: (147, 372)\n",
              " path: '/content/drive/MyDrive/dataset/images/test/image1_aug2.jpg'\n",
              " probs: None\n",
              " save_dir: 'runs/detect/train3'\n",
              " speed: {'preprocess': 2.038240432739258, 'inference': 6.618738174438477, 'postprocess': 2.1054744720458984},\n",
              " ultralytics.engine.results.Results object with attributes:\n",
              " \n",
              " boxes: ultralytics.engine.results.Boxes object\n",
              " keypoints: None\n",
              " masks: None\n",
              " names: {0: 'channel', 1: 'flash', 2: 'cavity', 3: 'crack/groove'}\n",
              " obb: None\n",
              " orig_img: array([[[133, 163, 164],\n",
              "         [130, 161, 160],\n",
              "         [138, 166, 166],\n",
              "         ...,\n",
              "         [ 96,  83,  67],\n",
              "         [ 52,  36,  20],\n",
              "         [ 54,  38,  22]],\n",
              " \n",
              "        [[129, 159, 160],\n",
              "         [131, 162, 161],\n",
              "         [138, 166, 166],\n",
              "         ...,\n",
              "         [ 77,  62,  46],\n",
              "         [ 58,  42,  26],\n",
              "         [ 55,  39,  23]],\n",
              " \n",
              "        [[131, 159, 160],\n",
              "         [135, 163, 163],\n",
              "         [134, 162, 162],\n",
              "         ...,\n",
              "         [ 51,  35,  22],\n",
              "         [ 62,  45,  32],\n",
              "         [ 55,  38,  25]],\n",
              " \n",
              "        ...,\n",
              " \n",
              "        [[147, 174, 178],\n",
              "         [148, 175, 179],\n",
              "         [147, 175, 176],\n",
              "         ...,\n",
              "         [106,  99,  84],\n",
              "         [ 51,  44,  29],\n",
              "         [ 86,  79,  64]],\n",
              " \n",
              "        [[147, 168, 176],\n",
              "         [147, 169, 175],\n",
              "         [146, 168, 174],\n",
              "         ...,\n",
              "         [113, 110, 102],\n",
              "         [ 48,  45,  37],\n",
              "         [ 84,  81,  73]],\n",
              " \n",
              "        [[173, 181, 198],\n",
              "         [173, 182, 196],\n",
              "         [173, 182, 196],\n",
              "         ...,\n",
              "         [182, 184, 192],\n",
              "         [182, 184, 192],\n",
              "         [183, 185, 193]]], dtype=uint8)\n",
              " orig_shape: (147, 372)\n",
              " path: '/content/drive/MyDrive/dataset/images/test/image1_aug3.jpg'\n",
              " probs: None\n",
              " save_dir: 'runs/detect/train3'\n",
              " speed: {'preprocess': 1.9581317901611328, 'inference': 10.33473014831543, 'postprocess': 1.6818046569824219},\n",
              " ultralytics.engine.results.Results object with attributes:\n",
              " \n",
              " boxes: ultralytics.engine.results.Boxes object\n",
              " keypoints: None\n",
              " masks: None\n",
              " names: {0: 'channel', 1: 'flash', 2: 'cavity', 3: 'crack/groove'}\n",
              " obb: None\n",
              " orig_img: array([[[197, 190, 173],\n",
              "         [194, 187, 170],\n",
              "         [191, 184, 167],\n",
              "         ...,\n",
              "         [144, 156, 144],\n",
              "         [147, 161, 149],\n",
              "         [149, 163, 151]],\n",
              " \n",
              "        [[199, 192, 175],\n",
              "         [196, 189, 172],\n",
              "         [192, 185, 168],\n",
              "         ...,\n",
              "         [142, 154, 142],\n",
              "         [147, 159, 147],\n",
              "         [146, 160, 148]],\n",
              " \n",
              "        [[199, 194, 179],\n",
              "         [197, 192, 177],\n",
              "         [195, 188, 171],\n",
              "         ...,\n",
              "         [139, 150, 140],\n",
              "         [144, 155, 145],\n",
              "         [144, 155, 145]],\n",
              " \n",
              "        ...,\n",
              " \n",
              "        [[107, 104,  96],\n",
              "         [107, 105,  95],\n",
              "         [111, 106,  97],\n",
              "         ...,\n",
              "         [170, 167, 153],\n",
              "         [174, 171, 157],\n",
              "         [176, 173, 159]],\n",
              " \n",
              "        [[ 90,  83,  74],\n",
              "         [ 91,  84,  75],\n",
              "         [ 94,  88,  77],\n",
              "         ...,\n",
              "         [165, 162, 148],\n",
              "         [169, 166, 152],\n",
              "         [171, 168, 154]],\n",
              " \n",
              "        [[ 83,  76,  67],\n",
              "         [ 84,  77,  68],\n",
              "         [ 88,  82,  71],\n",
              "         ...,\n",
              "         [163, 160, 146],\n",
              "         [167, 164, 150],\n",
              "         [168, 165, 151]]], dtype=uint8)\n",
              " orig_shape: (147, 372)\n",
              " path: '/content/drive/MyDrive/dataset/images/test/image1_aug4.jpg'\n",
              " probs: None\n",
              " save_dir: 'runs/detect/train3'\n",
              " speed: {'preprocess': 1.65557861328125, 'inference': 9.747505187988281, 'postprocess': 2.0165443420410156},\n",
              " ultralytics.engine.results.Results object with attributes:\n",
              " \n",
              " boxes: ultralytics.engine.results.Boxes object\n",
              " keypoints: None\n",
              " masks: None\n",
              " names: {0: 'channel', 1: 'flash', 2: 'cavity', 3: 'crack/groove'}\n",
              " obb: None\n",
              " orig_img: array([[[ 62,  74,  80],\n",
              "         [ 59,  71,  77],\n",
              "         [ 62,  74,  80],\n",
              "         ...,\n",
              "         [ 73,  87,  93],\n",
              "         [116, 117, 113],\n",
              "         [142, 140, 129]],\n",
              " \n",
              "        [[ 59,  71,  77],\n",
              "         [ 56,  68,  74],\n",
              "         [ 57,  69,  75],\n",
              "         ...,\n",
              "         [ 79,  92, 100],\n",
              "         [119, 120, 116],\n",
              "         [139, 137, 126]],\n",
              " \n",
              "        [[ 37,  49,  55],\n",
              "         [ 36,  48,  54],\n",
              "         [ 36,  48,  54],\n",
              "         ...,\n",
              "         [ 80,  93, 101],\n",
              "         [120, 121, 117],\n",
              "         [139, 137, 127]],\n",
              " \n",
              "        ...,\n",
              " \n",
              "        [[ 32,  50,  61],\n",
              "         [ 33,  51,  62],\n",
              "         [ 32,  50,  61],\n",
              "         ...,\n",
              "         [ 71,  90,  95],\n",
              "         [127, 134, 127],\n",
              "         [144, 144, 130]],\n",
              " \n",
              "        [[ 29,  47,  58],\n",
              "         [ 28,  46,  57],\n",
              "         [ 25,  43,  54],\n",
              "         ...,\n",
              "         [ 83, 102, 107],\n",
              "         [131, 136, 127],\n",
              "         [142, 143, 127]],\n",
              " \n",
              "        [[ 31,  48,  57],\n",
              "         [ 26,  43,  52],\n",
              "         [ 23,  40,  49],\n",
              "         ...,\n",
              "         [ 90, 106, 112],\n",
              "         [131, 135, 124],\n",
              "         [143, 143, 125]]], dtype=uint8)\n",
              " orig_shape: (145, 366)\n",
              " path: '/content/drive/MyDrive/dataset/images/test/image2_aug10.jpg'\n",
              " probs: None\n",
              " save_dir: 'runs/detect/train3'\n",
              " speed: {'preprocess': 1.7914772033691406, 'inference': 10.007143020629883, 'postprocess': 1.6849040985107422},\n",
              " ultralytics.engine.results.Results object with attributes:\n",
              " \n",
              " boxes: ultralytics.engine.results.Boxes object\n",
              " keypoints: None\n",
              " masks: None\n",
              " names: {0: 'channel', 1: 'flash', 2: 'cavity', 3: 'crack/groove'}\n",
              " obb: None\n",
              " orig_img: array([[[163, 163, 149],\n",
              "         [132, 139, 132],\n",
              "         [ 80,  96, 108],\n",
              "         ...,\n",
              "         [ 68,  81,  89],\n",
              "         [ 66,  79,  87],\n",
              "         [ 68,  81,  89]],\n",
              " \n",
              "        [[160, 160, 148],\n",
              "         [137, 143, 138],\n",
              "         [ 92, 108, 120],\n",
              "         ...,\n",
              "         [ 63,  76,  84],\n",
              "         [ 63,  76,  84],\n",
              "         [ 65,  78,  86]],\n",
              " \n",
              "        [[158, 157, 147],\n",
              "         [135, 140, 138],\n",
              "         [ 89, 105, 117],\n",
              "         ...,\n",
              "         [ 38,  51,  59],\n",
              "         [ 37,  50,  58],\n",
              "         [ 39,  52,  60]],\n",
              " \n",
              "        ...,\n",
              " \n",
              "        [[172, 169, 154],\n",
              "         [150, 158, 148],\n",
              "         [ 81, 102, 110],\n",
              "         ...,\n",
              "         [ 33,  54,  69],\n",
              "         [ 35,  56,  71],\n",
              "         [ 32,  53,  68]],\n",
              " \n",
              "        [[169, 167, 149],\n",
              "         [155, 160, 151],\n",
              "         [ 93, 115, 121],\n",
              "         ...,\n",
              "         [ 23,  44,  59],\n",
              "         [ 27,  48,  63],\n",
              "         [ 27,  48,  63]],\n",
              " \n",
              "        [[169, 168, 148],\n",
              "         [154, 160, 149],\n",
              "         [102, 121, 128],\n",
              "         ...,\n",
              "         [ 21,  43,  55],\n",
              "         [ 25,  44,  57],\n",
              "         [ 30,  49,  62]]], dtype=uint8)\n",
              " orig_shape: (145, 366)\n",
              " path: '/content/drive/MyDrive/dataset/images/test/image2_aug11.jpg'\n",
              " probs: None\n",
              " save_dir: 'runs/detect/train3'\n",
              " speed: {'preprocess': 1.7442703247070312, 'inference': 9.590625762939453, 'postprocess': 1.6388893127441406},\n",
              " ultralytics.engine.results.Results object with attributes:\n",
              " \n",
              " boxes: ultralytics.engine.results.Boxes object\n",
              " keypoints: None\n",
              " masks: None\n",
              " names: {0: 'channel', 1: 'flash', 2: 'cavity', 3: 'crack/groove'}\n",
              " obb: None\n",
              " orig_img: array([[[102, 118, 124],\n",
              "         [102, 118, 124],\n",
              "         [105, 121, 127],\n",
              "         ...,\n",
              "         [126, 139, 147],\n",
              "         [160, 166, 165],\n",
              "         [174, 175, 171]],\n",
              " \n",
              "        [[ 86, 102, 108],\n",
              "         [ 86, 102, 108],\n",
              "         [ 88, 104, 110],\n",
              "         ...,\n",
              "         [126, 139, 147],\n",
              "         [160, 165, 166],\n",
              "         [175, 176, 172]],\n",
              " \n",
              "        [[ 56,  72,  79],\n",
              "         [ 57,  73,  80],\n",
              "         [ 61,  77,  84],\n",
              "         ...,\n",
              "         [125, 138, 146],\n",
              "         [160, 165, 166],\n",
              "         [176, 177, 175]],\n",
              " \n",
              "        ...,\n",
              " \n",
              "        [[ 44,  63,  76],\n",
              "         [ 43,  62,  75],\n",
              "         [ 42,  61,  74],\n",
              "         ...,\n",
              "         [103, 119, 125],\n",
              "         [147, 154, 151],\n",
              "         [167, 170, 161]],\n",
              " \n",
              "        [[ 39,  56,  69],\n",
              "         [ 35,  54,  67],\n",
              "         [ 32,  51,  64],\n",
              "         ...,\n",
              "         [107, 123, 130],\n",
              "         [150, 157, 152],\n",
              "         [170, 174, 163]],\n",
              " \n",
              "        [[ 34,  50,  63],\n",
              "         [ 32,  49,  62],\n",
              "         [ 25,  44,  57],\n",
              "         ...,\n",
              "         [110, 128, 135],\n",
              "         [152, 159, 154],\n",
              "         [168, 172, 160]]], dtype=uint8)\n",
              " orig_shape: (145, 366)\n",
              " path: '/content/drive/MyDrive/dataset/images/test/image2_aug14.jpg'\n",
              " probs: None\n",
              " save_dir: 'runs/detect/train3'\n",
              " speed: {'preprocess': 1.7502307891845703, 'inference': 9.328365325927734, 'postprocess': 1.7101764678955078},\n",
              " ultralytics.engine.results.Results object with attributes:\n",
              " \n",
              " boxes: ultralytics.engine.results.Boxes object\n",
              " keypoints: None\n",
              " masks: None\n",
              " names: {0: 'channel', 1: 'flash', 2: 'cavity', 3: 'crack/groove'}\n",
              " obb: None\n",
              " orig_img: array([[[112, 111,  97],\n",
              "         [ 86,  90,  84],\n",
              "         [ 43,  59,  66],\n",
              "         ...,\n",
              "         [ 32,  46,  52],\n",
              "         [ 33,  45,  51],\n",
              "         [ 34,  46,  52]],\n",
              " \n",
              "        [[109, 108,  94],\n",
              "         [ 88,  92,  86],\n",
              "         [ 50,  66,  73],\n",
              "         ...,\n",
              "         [ 27,  41,  47],\n",
              "         [ 28,  40,  46],\n",
              "         [ 30,  42,  48]],\n",
              " \n",
              "        [[108, 106,  95],\n",
              "         [ 89,  93,  88],\n",
              "         [ 51,  66,  75],\n",
              "         ...,\n",
              "         [  7,  21,  27],\n",
              "         [  6,  20,  26],\n",
              "         [  7,  21,  27]],\n",
              " \n",
              "        ...,\n",
              " \n",
              "        [[117, 114,  99],\n",
              "         [101, 106,  97],\n",
              "         [ 43,  62,  69],\n",
              "         ...,\n",
              "         [  4,  21,  34],\n",
              "         [  5,  23,  34],\n",
              "         [  4,  22,  33]],\n",
              " \n",
              "        [[117, 114,  99],\n",
              "         [101, 106,  97],\n",
              "         [ 51,  70,  77],\n",
              "         ...,\n",
              "         [  0,  15,  26],\n",
              "         [  1,  17,  29],\n",
              "         [  0,  18,  29]],\n",
              " \n",
              "        [[117, 113,  95],\n",
              "         [104, 107,  98],\n",
              "         [ 59,  77,  84],\n",
              "         ...,\n",
              "         [  0,  13,  25],\n",
              "         [  0,  14,  26],\n",
              "         [  2,  18,  30]]], dtype=uint8)\n",
              " orig_shape: (145, 366)\n",
              " path: '/content/drive/MyDrive/dataset/images/test/image2_aug15.jpg'\n",
              " probs: None\n",
              " save_dir: 'runs/detect/train3'\n",
              " speed: {'preprocess': 1.7278194427490234, 'inference': 10.607242584228516, 'postprocess': 3.453493118286133},\n",
              " ultralytics.engine.results.Results object with attributes:\n",
              " \n",
              " boxes: ultralytics.engine.results.Boxes object\n",
              " keypoints: None\n",
              " masks: None\n",
              " names: {0: 'channel', 1: 'flash', 2: 'cavity', 3: 'crack/groove'}\n",
              " obb: None\n",
              " orig_img: array([[[ 73,  96, 111],\n",
              "         [ 45,  68,  83],\n",
              "         [ 35,  58,  73],\n",
              "         ...,\n",
              "         [107, 126, 133],\n",
              "         [211, 218, 211],\n",
              "         [229, 229, 213]],\n",
              " \n",
              "        [[ 69,  92, 107],\n",
              "         [ 62,  85, 100],\n",
              "         [ 45,  68,  83],\n",
              "         ...,\n",
              "         [ 78,  97, 104],\n",
              "         [214, 221, 214],\n",
              "         [231, 231, 215]],\n",
              " \n",
              "        [[ 77, 100, 115],\n",
              "         [ 97, 120, 135],\n",
              "         [104, 127, 142],\n",
              "         ...,\n",
              "         [ 62,  81,  88],\n",
              "         [213, 220, 213],\n",
              "         [226, 226, 210]],\n",
              " \n",
              "        ...,\n",
              " \n",
              "        [[ 45,  58,  66],\n",
              "         [ 52,  65,  73],\n",
              "         [ 48,  64,  71],\n",
              "         ...,\n",
              "         [ 86, 103, 112],\n",
              "         [197, 201, 196],\n",
              "         [222, 220, 209]],\n",
              " \n",
              "        [[145, 158, 166],\n",
              "         [147, 160, 168],\n",
              "         [146, 162, 169],\n",
              "         ...,\n",
              "         [ 83, 100, 109],\n",
              "         [197, 201, 196],\n",
              "         [222, 220, 209]],\n",
              " \n",
              "        [[165, 181, 188],\n",
              "         [149, 165, 172],\n",
              "         [161, 176, 185],\n",
              "         ...,\n",
              "         [ 65,  80,  89],\n",
              "         [191, 196, 194],\n",
              "         [225, 224, 214]]], dtype=uint8)\n",
              " orig_shape: (145, 366)\n",
              " path: '/content/drive/MyDrive/dataset/images/test/image2_aug16.jpg'\n",
              " probs: None\n",
              " save_dir: 'runs/detect/train3'\n",
              " speed: {'preprocess': 1.7189979553222656, 'inference': 7.41887092590332, 'postprocess': 1.390695571899414},\n",
              " ultralytics.engine.results.Results object with attributes:\n",
              " \n",
              " boxes: ultralytics.engine.results.Boxes object\n",
              " keypoints: None\n",
              " masks: None\n",
              " names: {0: 'channel', 1: 'flash', 2: 'cavity', 3: 'crack/groove'}\n",
              " obb: None\n",
              " orig_img: array([[[ 33,  29,  64],\n",
              "         [ 31,  27,  62],\n",
              "         [ 29,  25,  60],\n",
              "         ...,\n",
              "         [111, 112, 138],\n",
              "         [135, 142, 145],\n",
              "         [142, 150, 143]],\n",
              " \n",
              "        [[ 34,  30,  65],\n",
              "         [ 33,  29,  64],\n",
              "         [ 31,  27,  62],\n",
              "         ...,\n",
              "         [110, 111, 137],\n",
              "         [135, 142, 145],\n",
              "         [143, 151, 144]],\n",
              " \n",
              "        [[ 37,  33,  68],\n",
              "         [ 36,  32,  67],\n",
              "         [ 34,  30,  65],\n",
              "         ...,\n",
              "         [107, 108, 134],\n",
              "         [134, 141, 144],\n",
              "         [143, 151, 144]],\n",
              " \n",
              "        ...,\n",
              " \n",
              "        [[ 45,  46,  66],\n",
              "         [ 46,  47,  67],\n",
              "         [ 47,  48,  68],\n",
              "         ...,\n",
              "         [107, 104, 129],\n",
              "         [125, 127, 135],\n",
              "         [133, 138, 137]],\n",
              " \n",
              "        [[ 55,  56,  76],\n",
              "         [ 56,  57,  77],\n",
              "         [ 56,  57,  77],\n",
              "         ...,\n",
              "         [105, 105, 129],\n",
              "         [125, 127, 135],\n",
              "         [133, 138, 137]],\n",
              " \n",
              "        [[ 64,  63,  83],\n",
              "         [ 64,  63,  83],\n",
              "         [ 64,  63,  83],\n",
              "         ...,\n",
              "         [103, 103, 127],\n",
              "         [125, 127, 135],\n",
              "         [133, 137, 138]]], dtype=uint8)\n",
              " orig_shape: (145, 366)\n",
              " path: '/content/drive/MyDrive/dataset/images/test/image2_aug17.jpg'\n",
              " probs: None\n",
              " save_dir: 'runs/detect/train3'\n",
              " speed: {'preprocess': 1.6632080078125, 'inference': 7.365226745605469, 'postprocess': 1.3649463653564453},\n",
              " ultralytics.engine.results.Results object with attributes:\n",
              " \n",
              " boxes: ultralytics.engine.results.Boxes object\n",
              " keypoints: None\n",
              " masks: None\n",
              " names: {0: 'channel', 1: 'flash', 2: 'cavity', 3: 'crack/groove'}\n",
              " obb: None\n",
              " orig_img: array([[[ 51,  58,  78],\n",
              "         [ 51,  58,  78],\n",
              "         [ 51,  57,  80],\n",
              "         ...,\n",
              "         [ 98, 103, 128],\n",
              "         [123, 129, 134],\n",
              "         [129, 137, 130]],\n",
              " \n",
              "        [[ 46,  53,  73],\n",
              "         [ 46,  53,  73],\n",
              "         [ 47,  53,  76],\n",
              "         ...,\n",
              "         [ 97, 101, 129],\n",
              "         [123, 129, 134],\n",
              "         [130, 138, 131]],\n",
              " \n",
              "        [[ 37,  43,  66],\n",
              "         [ 37,  43,  66],\n",
              "         [ 38,  44,  67],\n",
              "         ...,\n",
              "         [ 96, 100, 128],\n",
              "         [123, 129, 134],\n",
              "         [132, 138, 133]],\n",
              " \n",
              "        ...,\n",
              " \n",
              "        [[ 12,  22,  62],\n",
              "         [ 11,  21,  61],\n",
              "         [ 12,  20,  60],\n",
              "         ...,\n",
              "         [ 91, 105, 134],\n",
              "         [121, 136, 139],\n",
              "         [127, 144, 133]],\n",
              " \n",
              "        [[ 13,  21,  61],\n",
              "         [ 12,  20,  60],\n",
              "         [ 11,  19,  59],\n",
              "         ...,\n",
              "         [ 95, 106, 136],\n",
              "         [123, 138, 140],\n",
              "         [129, 147, 134]],\n",
              " \n",
              "        [[ 13,  20,  59],\n",
              "         [ 10,  19,  57],\n",
              "         [  9,  18,  56],\n",
              "         ...,\n",
              "         [ 96, 108, 136],\n",
              "         [123, 139, 138],\n",
              "         [128, 147, 132]]], dtype=uint8)\n",
              " orig_shape: (145, 366)\n",
              " path: '/content/drive/MyDrive/dataset/images/test/image2_aug8.jpg'\n",
              " probs: None\n",
              " save_dir: 'runs/detect/train3'\n",
              " speed: {'preprocess': 1.6613006591796875, 'inference': 8.285760879516602, 'postprocess': 1.1796951293945312},\n",
              " ultralytics.engine.results.Results object with attributes:\n",
              " \n",
              " boxes: ultralytics.engine.results.Boxes object\n",
              " keypoints: None\n",
              " masks: None\n",
              " names: {0: 'channel', 1: 'flash', 2: 'cavity', 3: 'crack/groove'}\n",
              " obb: None\n",
              " orig_img: array([[[ 48,  54,  31],\n",
              "         [ 53,  59,  36],\n",
              "         [ 59,  67,  44],\n",
              "         ...,\n",
              "         [ 72, 110, 134],\n",
              "         [ 69, 106, 128],\n",
              "         [ 67, 104, 126]],\n",
              " \n",
              "        [[ 43,  47,  28],\n",
              "         [ 42,  47,  26],\n",
              "         [ 52,  58,  39],\n",
              "         ...,\n",
              "         [ 91, 128, 154],\n",
              "         [ 90, 128, 152],\n",
              "         [ 90, 128, 152]],\n",
              " \n",
              "        [[ 79,  83,  71],\n",
              "         [ 66,  71,  56],\n",
              "         [ 63,  67,  55],\n",
              "         ...,\n",
              "         [ 89, 128, 156],\n",
              "         [ 89, 128, 156],\n",
              "         [ 88, 127, 155]],\n",
              " \n",
              "        ...,\n",
              " \n",
              "        [[143, 152, 142],\n",
              "         [115, 125, 113],\n",
              "         [ 80,  89,  79],\n",
              "         ...,\n",
              "         [ 86, 118, 147],\n",
              "         [ 82, 116, 145],\n",
              "         [ 82, 117, 143]],\n",
              " \n",
              "        [[155, 165, 153],\n",
              "         [130, 140, 128],\n",
              "         [ 99, 109,  97],\n",
              "         ...,\n",
              "         [ 85, 117, 146],\n",
              "         [ 83, 115, 144],\n",
              "         [ 82, 117, 143]],\n",
              " \n",
              "        [[129, 140, 130],\n",
              "         [101, 113, 101],\n",
              "         [ 61,  74,  60],\n",
              "         ...,\n",
              "         [ 85, 117, 146],\n",
              "         [ 84, 116, 145],\n",
              "         [ 84, 116, 145]]], dtype=uint8)\n",
              " orig_shape: (145, 366)\n",
              " path: '/content/drive/MyDrive/dataset/images/test/image2_aug9.jpg'\n",
              " probs: None\n",
              " save_dir: 'runs/detect/train3'\n",
              " speed: {'preprocess': 1.7247200012207031, 'inference': 7.6122283935546875, 'postprocess': 1.3568401336669922},\n",
              " ultralytics.engine.results.Results object with attributes:\n",
              " \n",
              " boxes: ultralytics.engine.results.Boxes object\n",
              " keypoints: None\n",
              " masks: None\n",
              " names: {0: 'channel', 1: 'flash', 2: 'cavity', 3: 'crack/groove'}\n",
              " obb: None\n",
              " orig_img: array([[[145, 147, 147],\n",
              "         [144, 146, 146],\n",
              "         [140, 142, 142],\n",
              "         ...,\n",
              "         [175, 177, 178],\n",
              "         [154, 154, 154],\n",
              "         [153, 153, 153]],\n",
              " \n",
              "        [[132, 134, 134],\n",
              "         [134, 136, 136],\n",
              "         [134, 136, 136],\n",
              "         ...,\n",
              "         [166, 168, 169],\n",
              "         [149, 149, 149],\n",
              "         [151, 151, 151]],\n",
              " \n",
              "        [[138, 140, 140],\n",
              "         [137, 139, 139],\n",
              "         [136, 138, 138],\n",
              "         ...,\n",
              "         [161, 163, 164],\n",
              "         [150, 150, 150],\n",
              "         [153, 153, 153]],\n",
              " \n",
              "        ...,\n",
              " \n",
              "        [[159, 159, 159],\n",
              "         [159, 159, 159],\n",
              "         [156, 156, 156],\n",
              "         ...,\n",
              "         [218, 218, 218],\n",
              "         [216, 216, 216],\n",
              "         [216, 216, 216]],\n",
              " \n",
              "        [[159, 159, 159],\n",
              "         [159, 159, 159],\n",
              "         [157, 157, 157],\n",
              "         ...,\n",
              "         [231, 231, 231],\n",
              "         [227, 227, 227],\n",
              "         [222, 222, 222]],\n",
              " \n",
              "        [[157, 157, 157],\n",
              "         [157, 157, 157],\n",
              "         [156, 156, 156],\n",
              "         ...,\n",
              "         [241, 241, 241],\n",
              "         [234, 234, 234],\n",
              "         [227, 227, 227]]], dtype=uint8)\n",
              " orig_shape: (140, 371)\n",
              " path: '/content/drive/MyDrive/dataset/images/test/image3_aug3.jpg'\n",
              " probs: None\n",
              " save_dir: 'runs/detect/train3'\n",
              " speed: {'preprocess': 1.8711090087890625, 'inference': 6.87408447265625, 'postprocess': 1.3017654418945312},\n",
              " ultralytics.engine.results.Results object with attributes:\n",
              " \n",
              " boxes: ultralytics.engine.results.Boxes object\n",
              " keypoints: None\n",
              " masks: None\n",
              " names: {0: 'channel', 1: 'flash', 2: 'cavity', 3: 'crack/groove'}\n",
              " obb: None\n",
              " orig_img: array([[[ 64,  72,  71],\n",
              "         [ 67,  75,  74],\n",
              "         [ 74,  79,  78],\n",
              "         ...,\n",
              "         [198, 198, 198],\n",
              "         [224, 224, 224],\n",
              "         [238, 238, 238]],\n",
              " \n",
              "        [[ 69,  77,  76],\n",
              "         [ 70,  78,  77],\n",
              "         [ 78,  83,  82],\n",
              "         ...,\n",
              "         [202, 202, 202],\n",
              "         [227, 227, 227],\n",
              "         [240, 240, 240]],\n",
              " \n",
              "        [[ 73,  81,  80],\n",
              "         [ 75,  83,  82],\n",
              "         [ 90,  95,  94],\n",
              "         ...,\n",
              "         [209, 209, 209],\n",
              "         [233, 233, 233],\n",
              "         [244, 244, 244]],\n",
              " \n",
              "        ...,\n",
              " \n",
              "        [[  3,  19,  31],\n",
              "         [  5,  22,  31],\n",
              "         [ 11,  27,  34],\n",
              "         ...,\n",
              "         [152, 154, 154],\n",
              "         [194, 196, 196],\n",
              "         [216, 218, 218]],\n",
              " \n",
              "        [[  1,  14,  28],\n",
              "         [  0,  14,  26],\n",
              "         [  0,  15,  24],\n",
              "         ...,\n",
              "         [150, 152, 152],\n",
              "         [192, 194, 194],\n",
              "         [216, 218, 218]],\n",
              " \n",
              "        [[  0,   8,  22],\n",
              "         [  0,   8,  20],\n",
              "         [  0,   7,  19],\n",
              "         ...,\n",
              "         [149, 151, 151],\n",
              "         [192, 194, 194],\n",
              "         [216, 218, 218]]], dtype=uint8)\n",
              " orig_shape: (140, 371)\n",
              " path: '/content/drive/MyDrive/dataset/images/test/image3_aug4.jpg'\n",
              " probs: None\n",
              " save_dir: 'runs/detect/train3'\n",
              " speed: {'preprocess': 1.7066001892089844, 'inference': 8.727073669433594, 'postprocess': 1.5676021575927734},\n",
              " ultralytics.engine.results.Results object with attributes:\n",
              " \n",
              " boxes: ultralytics.engine.results.Boxes object\n",
              " keypoints: None\n",
              " masks: None\n",
              " names: {0: 'channel', 1: 'flash', 2: 'cavity', 3: 'crack/groove'}\n",
              " obb: None\n",
              " orig_img: array([[[140, 146, 141],\n",
              "         [144, 150, 145],\n",
              "         [139, 142, 140],\n",
              "         ...,\n",
              "         [153, 153, 153],\n",
              "         [157, 157, 157],\n",
              "         [163, 163, 163]],\n",
              " \n",
              "        [[136, 142, 137],\n",
              "         [139, 145, 140],\n",
              "         [136, 139, 137],\n",
              "         ...,\n",
              "         [144, 144, 144],\n",
              "         [149, 149, 149],\n",
              "         [156, 156, 156]],\n",
              " \n",
              "        [[129, 135, 130],\n",
              "         [131, 137, 132],\n",
              "         [131, 134, 132],\n",
              "         ...,\n",
              "         [142, 142, 142],\n",
              "         [147, 147, 147],\n",
              "         [155, 155, 155]],\n",
              " \n",
              "        ...,\n",
              " \n",
              "        [[121, 128, 131],\n",
              "         [121, 128, 131],\n",
              "         [120, 127, 130],\n",
              "         ...,\n",
              "         [129, 135, 134],\n",
              "         [139, 146, 143],\n",
              "         [153, 159, 158]],\n",
              " \n",
              "        [[116, 123, 126],\n",
              "         [116, 123, 126],\n",
              "         [117, 124, 127],\n",
              "         ...,\n",
              "         [135, 141, 140],\n",
              "         [146, 153, 150],\n",
              "         [161, 167, 166]],\n",
              " \n",
              "        [[120, 127, 130],\n",
              "         [119, 126, 129],\n",
              "         [119, 126, 129],\n",
              "         ...,\n",
              "         [128, 134, 133],\n",
              "         [139, 146, 143],\n",
              "         [154, 160, 159]]], dtype=uint8)\n",
              " orig_shape: (140, 371)\n",
              " path: '/content/drive/MyDrive/dataset/images/test/image3_aug5.jpg'\n",
              " probs: None\n",
              " save_dir: 'runs/detect/train3'\n",
              " speed: {'preprocess': 2.058744430541992, 'inference': 9.69696044921875, 'postprocess': 1.7066001892089844},\n",
              " ultralytics.engine.results.Results object with attributes:\n",
              " \n",
              " boxes: ultralytics.engine.results.Boxes object\n",
              " keypoints: None\n",
              " masks: None\n",
              " names: {0: 'channel', 1: 'flash', 2: 'cavity', 3: 'crack/groove'}\n",
              " obb: None\n",
              " orig_img: array([[[  1,   2,  23],\n",
              "         [  0,   0,  15],\n",
              "         [  0,   0,   7],\n",
              "         ...,\n",
              "         [ 52,  58,  57],\n",
              "         [207, 212, 211],\n",
              "         [206, 208, 208]],\n",
              " \n",
              "        [[  0,   0,  20],\n",
              "         [  0,   0,  17],\n",
              "         [  0,   1,  10],\n",
              "         ...,\n",
              "         [ 48,  54,  53],\n",
              "         [205, 210, 209],\n",
              "         [206, 208, 208]],\n",
              " \n",
              "        [[  2,   5,  26],\n",
              "         [  0,   2,  20],\n",
              "         [ 11,  17,  24],\n",
              "         ...,\n",
              "         [ 47,  53,  52],\n",
              "         [204, 209, 208],\n",
              "         [208, 210, 210]],\n",
              " \n",
              "        ...,\n",
              " \n",
              "        [[ 91,  98, 101],\n",
              "         [101, 108, 111],\n",
              "         [133, 137, 138],\n",
              "         ...,\n",
              "         [143, 145, 145],\n",
              "         [213, 215, 215],\n",
              "         [205, 207, 207]],\n",
              " \n",
              "        [[102, 109, 112],\n",
              "         [ 90,  97, 100],\n",
              "         [ 86,  90,  91],\n",
              "         ...,\n",
              "         [ 74,  76,  76],\n",
              "         [203, 205, 205],\n",
              "         [208, 210, 210]],\n",
              " \n",
              "        [[ 89,  96,  99],\n",
              "         [101, 108, 111],\n",
              "         [109, 113, 114],\n",
              "         ...,\n",
              "         [ 66,  68,  68],\n",
              "         [211, 213, 213],\n",
              "         [208, 210, 210]]], dtype=uint8)\n",
              " orig_shape: (140, 371)\n",
              " path: '/content/drive/MyDrive/dataset/images/test/image3_aug6.jpg'\n",
              " probs: None\n",
              " save_dir: 'runs/detect/train3'\n",
              " speed: {'preprocess': 1.6536712646484375, 'inference': 9.200572967529297, 'postprocess': 1.3616085052490234},\n",
              " ultralytics.engine.results.Results object with attributes:\n",
              " \n",
              " boxes: ultralytics.engine.results.Boxes object\n",
              " keypoints: None\n",
              " masks: None\n",
              " names: {0: 'channel', 1: 'flash', 2: 'cavity', 3: 'crack/groove'}\n",
              " obb: None\n",
              " orig_img: array([[[155, 155, 155],\n",
              "         [156, 156, 156],\n",
              "         [164, 164, 164],\n",
              "         ...,\n",
              "         [144, 130, 134],\n",
              "         [ 83,  77,  82],\n",
              "         [ 63,  62,  66]],\n",
              " \n",
              "        [[212, 210, 210],\n",
              "         [216, 216, 216],\n",
              "         [213, 211, 211],\n",
              "         ...,\n",
              "         [248, 234, 238],\n",
              "         [237, 230, 233],\n",
              "         [236, 235, 237]],\n",
              " \n",
              "        [[218, 214, 213],\n",
              "         [216, 214, 213],\n",
              "         [216, 212, 211],\n",
              "         ...,\n",
              "         [247, 233, 235],\n",
              "         [244, 236, 237],\n",
              "         [236, 234, 234]],\n",
              " \n",
              "        ...,\n",
              " \n",
              "        [[135, 126, 117],\n",
              "         [184, 175, 166],\n",
              "         [145, 135, 128],\n",
              "         ...,\n",
              "         [180, 144, 144],\n",
              "         [ 99,  74,  72],\n",
              "         [ 21,   2,   0]],\n",
              " \n",
              "        [[127, 118, 109],\n",
              "         [140, 131, 122],\n",
              "         [125, 115, 108],\n",
              "         ...,\n",
              "         [174, 138, 138],\n",
              "         [ 84,  61,  59],\n",
              "         [ 20,   3,   0]],\n",
              " \n",
              "        [[100,  91,  82],\n",
              "         [114, 105,  96],\n",
              "         [116, 106,  99],\n",
              "         ...,\n",
              "         [170, 134, 134],\n",
              "         [ 79,  56,  54],\n",
              "         [ 19,   2,   0]]], dtype=uint8)\n",
              " orig_shape: (138, 376)\n",
              " path: '/content/drive/MyDrive/dataset/images/test/image4_aug17.jpg'\n",
              " probs: None\n",
              " save_dir: 'runs/detect/train3'\n",
              " speed: {'preprocess': 1.6257762908935547, 'inference': 7.081031799316406, 'postprocess': 1.3668537139892578},\n",
              " ultralytics.engine.results.Results object with attributes:\n",
              " \n",
              " boxes: ultralytics.engine.results.Boxes object\n",
              " keypoints: None\n",
              " masks: None\n",
              " names: {0: 'channel', 1: 'flash', 2: 'cavity', 3: 'crack/groove'}\n",
              " obb: None\n",
              " orig_img: array([[[20, 18, 38],\n",
              "         [20, 18, 38],\n",
              "         [21, 19, 39],\n",
              "         ...,\n",
              "         [83, 91, 68],\n",
              "         [83, 91, 68],\n",
              "         [83, 91, 68]],\n",
              " \n",
              "        [[21, 19, 39],\n",
              "         [21, 19, 38],\n",
              "         [22, 20, 40],\n",
              "         ...,\n",
              "         [83, 91, 68],\n",
              "         [83, 91, 68],\n",
              "         [83, 91, 68]],\n",
              " \n",
              "        [[19, 17, 36],\n",
              "         [19, 18, 34],\n",
              "         [20, 18, 37],\n",
              "         ...,\n",
              "         [83, 91, 68],\n",
              "         [83, 91, 68],\n",
              "         [84, 92, 69]],\n",
              " \n",
              "        ...,\n",
              " \n",
              "        [[ 2,  2,  8],\n",
              "         [ 3,  3,  9],\n",
              "         [ 6,  5, 14],\n",
              "         ...,\n",
              "         [87, 93, 76],\n",
              "         [87, 93, 76],\n",
              "         [87, 93, 76]],\n",
              " \n",
              "        [[ 3,  3,  9],\n",
              "         [ 4,  4, 10],\n",
              "         [ 6,  5, 14],\n",
              "         ...,\n",
              "         [87, 93, 76],\n",
              "         [87, 93, 76],\n",
              "         [87, 93, 76]],\n",
              " \n",
              "        [[ 3,  3,  9],\n",
              "         [ 4,  4, 10],\n",
              "         [ 6,  5, 14],\n",
              "         ...,\n",
              "         [87, 93, 76],\n",
              "         [88, 94, 77],\n",
              "         [87, 93, 76]]], dtype=uint8)\n",
              " orig_shape: (118, 377)\n",
              " path: '/content/drive/MyDrive/dataset/images/test/image5_aug1.jpg'\n",
              " probs: None\n",
              " save_dir: 'runs/detect/train3'\n",
              " speed: {'preprocess': 1.9936561584472656, 'inference': 57.88779258728027, 'postprocess': 0.7946491241455078},\n",
              " ultralytics.engine.results.Results object with attributes:\n",
              " \n",
              " boxes: ultralytics.engine.results.Boxes object\n",
              " keypoints: None\n",
              " masks: None\n",
              " names: {0: 'channel', 1: 'flash', 2: 'cavity', 3: 'crack/groove'}\n",
              " obb: None\n",
              " orig_img: array([[[ 66,  61,  93],\n",
              "         [ 66,  61,  93],\n",
              "         [ 75,  69, 104],\n",
              "         ...,\n",
              "         [146, 149, 147],\n",
              "         [142, 145, 143],\n",
              "         [116, 118, 119]],\n",
              " \n",
              "        [[ 66,  61,  93],\n",
              "         [ 68,  63,  95],\n",
              "         [ 69,  64,  96],\n",
              "         ...,\n",
              "         [161, 165, 160],\n",
              "         [162, 165, 163],\n",
              "         [138, 140, 140]],\n",
              " \n",
              "        [[ 66,  61,  92],\n",
              "         [ 75,  70, 101],\n",
              "         [ 72,  67,  98],\n",
              "         ...,\n",
              "         [155, 159, 153],\n",
              "         [166, 170, 165],\n",
              "         [165, 168, 166]],\n",
              " \n",
              "        ...,\n",
              " \n",
              "        [[165, 165, 165],\n",
              "         [139, 139, 139],\n",
              "         [139, 138, 140],\n",
              "         ...,\n",
              "         [177, 181, 162],\n",
              "         [179, 183, 164],\n",
              "         [177, 181, 162]],\n",
              " \n",
              "        [[135, 137, 138],\n",
              "         [131, 133, 134],\n",
              "         [142, 144, 145],\n",
              "         ...,\n",
              "         [179, 183, 164],\n",
              "         [179, 183, 164],\n",
              "         [177, 181, 162]],\n",
              " \n",
              "        [[ 97,  99, 100],\n",
              "         [115, 117, 118],\n",
              "         [134, 136, 137],\n",
              "         ...,\n",
              "         [179, 183, 164],\n",
              "         [180, 184, 165],\n",
              "         [177, 181, 162]]], dtype=uint8)\n",
              " orig_shape: (118, 377)\n",
              " path: '/content/drive/MyDrive/dataset/images/test/image5_aug10.jpg'\n",
              " probs: None\n",
              " save_dir: 'runs/detect/train3'\n",
              " speed: {'preprocess': 1.104593276977539, 'inference': 7.538795471191406, 'postprocess': 0.736236572265625},\n",
              " ultralytics.engine.results.Results object with attributes:\n",
              " \n",
              " boxes: ultralytics.engine.results.Boxes object\n",
              " keypoints: None\n",
              " masks: None\n",
              " names: {0: 'channel', 1: 'flash', 2: 'cavity', 3: 'crack/groove'}\n",
              " obb: None\n",
              " orig_img: array([[[  7,  25,  36],\n",
              "         [  8,  26,  37],\n",
              "         [ 11,  29,  40],\n",
              "         ...,\n",
              "         [165, 158, 139],\n",
              "         [164, 157, 138],\n",
              "         [164, 157, 138]],\n",
              " \n",
              "        [[ 12,  29,  38],\n",
              "         [ 12,  29,  38],\n",
              "         [ 14,  30,  42],\n",
              "         ...,\n",
              "         [166, 159, 140],\n",
              "         [165, 158, 139],\n",
              "         [164, 157, 138]],\n",
              " \n",
              "        [[ 19,  35,  42],\n",
              "         [ 18,  34,  41],\n",
              "         [ 20,  35,  44],\n",
              "         ...,\n",
              "         [166, 159, 140],\n",
              "         [165, 158, 139],\n",
              "         [164, 157, 138]],\n",
              " \n",
              "        ...,\n",
              " \n",
              "        [[ 41,  64,  80],\n",
              "         [ 45,  68,  84],\n",
              "         [ 51,  71,  89],\n",
              "         ...,\n",
              "         [160, 147, 125],\n",
              "         [160, 147, 125],\n",
              "         [161, 147, 125]],\n",
              " \n",
              "        [[ 45,  65,  82],\n",
              "         [ 48,  68,  85],\n",
              "         [ 55,  73,  90],\n",
              "         ...,\n",
              "         [160, 147, 125],\n",
              "         [160, 147, 125],\n",
              "         [161, 147, 124]],\n",
              " \n",
              "        [[ 47,  67,  84],\n",
              "         [ 50,  70,  87],\n",
              "         [ 55,  73,  90],\n",
              "         ...,\n",
              "         [160, 147, 125],\n",
              "         [160, 147, 125],\n",
              "         [161, 147, 124]]], dtype=uint8)\n",
              " orig_shape: (118, 377)\n",
              " path: '/content/drive/MyDrive/dataset/images/test/image5_aug11.jpg'\n",
              " probs: None\n",
              " save_dir: 'runs/detect/train3'\n",
              " speed: {'preprocess': 1.5556812286376953, 'inference': 7.057428359985352, 'postprocess': 1.5382766723632812},\n",
              " ultralytics.engine.results.Results object with attributes:\n",
              " \n",
              " boxes: ultralytics.engine.results.Boxes object\n",
              " keypoints: None\n",
              " masks: None\n",
              " names: {0: 'channel', 1: 'flash', 2: 'cavity', 3: 'crack/groove'}\n",
              " obb: None\n",
              " orig_img: array([[[123, 132, 129],\n",
              "         [125, 134, 131],\n",
              "         [127, 137, 131],\n",
              "         ...,\n",
              "         [161, 154, 139],\n",
              "         [161, 154, 139],\n",
              "         [161, 154, 139]],\n",
              " \n",
              "        [[121, 130, 127],\n",
              "         [122, 132, 126],\n",
              "         [124, 134, 128],\n",
              "         ...,\n",
              "         [160, 153, 138],\n",
              "         [160, 153, 138],\n",
              "         [160, 153, 138]],\n",
              " \n",
              "        [[118, 125, 120],\n",
              "         [119, 126, 121],\n",
              "         [121, 128, 123],\n",
              "         ...,\n",
              "         [160, 153, 138],\n",
              "         [160, 153, 138],\n",
              "         [160, 153, 138]],\n",
              " \n",
              "        ...,\n",
              " \n",
              "        [[ 59,  78,  93],\n",
              "         [ 60,  79,  94],\n",
              "         [ 61,  80,  95],\n",
              "         ...,\n",
              "         [117, 126, 123],\n",
              "         [114, 124, 124],\n",
              "         [114, 123, 126]],\n",
              " \n",
              "        [[ 60,  79,  94],\n",
              "         [ 61,  80,  95],\n",
              "         [ 62,  81,  96],\n",
              "         ...,\n",
              "         [110, 118, 117],\n",
              "         [107, 119, 121],\n",
              "         [106, 118, 124]],\n",
              " \n",
              "        [[ 60,  79,  94],\n",
              "         [ 61,  80,  95],\n",
              "         [ 62,  81,  96],\n",
              "         ...,\n",
              "         [105, 115, 115],\n",
              "         [104, 116, 120],\n",
              "         [104, 116, 122]]], dtype=uint8)\n",
              " orig_shape: (118, 377)\n",
              " path: '/content/drive/MyDrive/dataset/images/test/image5_aug12.jpg'\n",
              " probs: None\n",
              " save_dir: 'runs/detect/train3'\n",
              " speed: {'preprocess': 1.4712810516357422, 'inference': 6.871223449707031, 'postprocess': 0.5848407745361328},\n",
              " ultralytics.engine.results.Results object with attributes:\n",
              " \n",
              " boxes: ultralytics.engine.results.Boxes object\n",
              " keypoints: None\n",
              " masks: None\n",
              " names: {0: 'channel', 1: 'flash', 2: 'cavity', 3: 'crack/groove'}\n",
              " obb: None\n",
              " orig_img: array([[[ 39,  62,  57],\n",
              "         [ 39,  62,  57],\n",
              "         [ 50,  73,  68],\n",
              "         ...,\n",
              "         [182, 178, 177],\n",
              "         [179, 175, 174],\n",
              "         [181, 176, 175]],\n",
              " \n",
              "        [[ 41,  63,  58],\n",
              "         [ 38,  60,  55],\n",
              "         [ 48,  70,  65],\n",
              "         ...,\n",
              "         [183, 179, 178],\n",
              "         [180, 176, 175],\n",
              "         [182, 177, 176]],\n",
              " \n",
              "        [[ 45,  60,  56],\n",
              "         [ 43,  60,  56],\n",
              "         [ 57,  74,  70],\n",
              "         ...,\n",
              "         [183, 179, 178],\n",
              "         [179, 175, 174],\n",
              "         [181, 176, 175]],\n",
              " \n",
              "        ...,\n",
              " \n",
              "        [[ 33,  57,  55],\n",
              "         [ 38,  62,  60],\n",
              "         [ 49,  71,  69],\n",
              "         ...,\n",
              "         [171, 157, 158],\n",
              "         [170, 156, 157],\n",
              "         [176, 163, 161]],\n",
              " \n",
              "        [[ 36,  58,  56],\n",
              "         [ 41,  63,  61],\n",
              "         [ 50,  71,  69],\n",
              "         ...,\n",
              "         [171, 159, 159],\n",
              "         [168, 156, 156],\n",
              "         [169, 155, 156]],\n",
              " \n",
              "        [[ 36,  58,  56],\n",
              "         [ 42,  64,  62],\n",
              "         [ 50,  71,  69],\n",
              "         ...,\n",
              "         [171, 159, 159],\n",
              "         [168, 156, 156],\n",
              "         [169, 155, 156]]], dtype=uint8)\n",
              " orig_shape: (118, 377)\n",
              " path: '/content/drive/MyDrive/dataset/images/test/image5_aug13.jpg'\n",
              " probs: None\n",
              " save_dir: 'runs/detect/train3'\n",
              " speed: {'preprocess': 1.4951229095458984, 'inference': 13.338088989257812, 'postprocess': 1.4503002166748047},\n",
              " ultralytics.engine.results.Results object with attributes:\n",
              " \n",
              " boxes: ultralytics.engine.results.Boxes object\n",
              " keypoints: None\n",
              " masks: None\n",
              " names: {0: 'channel', 1: 'flash', 2: 'cavity', 3: 'crack/groove'}\n",
              " obb: None\n",
              " orig_img: array([[[ 63,  76,  90],\n",
              "         [ 63,  76,  90],\n",
              "         [ 64,  77,  91],\n",
              "         ...,\n",
              "         [180, 175, 160],\n",
              "         [181, 176, 161],\n",
              "         [182, 175, 160]],\n",
              " \n",
              "        [[ 55,  68,  82],\n",
              "         [ 69,  82,  96],\n",
              "         [ 78,  91, 105],\n",
              "         ...,\n",
              "         [180, 175, 160],\n",
              "         [180, 175, 160],\n",
              "         [183, 176, 161]],\n",
              " \n",
              "        [[ 35,  49,  61],\n",
              "         [ 63,  77,  89],\n",
              "         [ 81,  95, 107],\n",
              "         ...,\n",
              "         [182, 175, 160],\n",
              "         [183, 176, 161],\n",
              "         [183, 176, 161]],\n",
              " \n",
              "        ...,\n",
              " \n",
              "        [[ 80,  93, 107],\n",
              "         [ 81,  94, 108],\n",
              "         [ 81,  94, 108],\n",
              "         ...,\n",
              "         [180, 169, 155],\n",
              "         [179, 168, 154],\n",
              "         [181, 171, 154]],\n",
              " \n",
              "        [[ 93, 109, 122],\n",
              "         [ 94, 110, 123],\n",
              "         [ 89, 105, 118],\n",
              "         ...,\n",
              "         [179, 168, 154],\n",
              "         [179, 168, 154],\n",
              "         [180, 170, 153]],\n",
              " \n",
              "        [[ 99, 115, 128],\n",
              "         [ 99, 115, 128],\n",
              "         [ 89, 105, 118],\n",
              "         ...,\n",
              "         [179, 168, 154],\n",
              "         [179, 168, 154],\n",
              "         [177, 167, 150]]], dtype=uint8)\n",
              " orig_shape: (118, 377)\n",
              " path: '/content/drive/MyDrive/dataset/images/test/image5_aug14.jpg'\n",
              " probs: None\n",
              " save_dir: 'runs/detect/train3'\n",
              " speed: {'preprocess': 1.4748573303222656, 'inference': 10.386943817138672, 'postprocess': 0.7154941558837891},\n",
              " ultralytics.engine.results.Results object with attributes:\n",
              " \n",
              " boxes: ultralytics.engine.results.Boxes object\n",
              " keypoints: None\n",
              " masks: None\n",
              " names: {0: 'channel', 1: 'flash', 2: 'cavity', 3: 'crack/groove'}\n",
              " obb: None\n",
              " orig_img: array([[[ 71,  87, 100],\n",
              "         [ 71,  87, 100],\n",
              "         [ 69,  85,  98],\n",
              "         ...,\n",
              "         [210, 201, 181],\n",
              "         [207, 198, 178],\n",
              "         [211, 200, 180]],\n",
              " \n",
              "        [[ 31,  47,  60],\n",
              "         [ 58,  74,  87],\n",
              "         [ 86, 102, 115],\n",
              "         ...,\n",
              "         [206, 197, 177],\n",
              "         [210, 201, 181],\n",
              "         [211, 200, 180]],\n",
              " \n",
              "        [[ 38,  54,  67],\n",
              "         [ 49,  65,  78],\n",
              "         [ 78,  95, 108],\n",
              "         ...,\n",
              "         [209, 200, 180],\n",
              "         [213, 204, 184],\n",
              "         [216, 205, 185]],\n",
              " \n",
              "        ...,\n",
              " \n",
              "        [[ 97, 110, 112],\n",
              "         [ 74,  89,  92],\n",
              "         [ 80,  94, 100],\n",
              "         ...,\n",
              "         [220, 213, 198],\n",
              "         [217, 210, 195],\n",
              "         [212, 204, 187]],\n",
              " \n",
              "        [[ 65,  79,  85],\n",
              "         [ 47,  63,  69],\n",
              "         [ 65,  81,  88],\n",
              "         ...,\n",
              "         [216, 209, 194],\n",
              "         [217, 210, 195],\n",
              "         [212, 204, 187]],\n",
              " \n",
              "        [[ 64,  80,  87],\n",
              "         [ 39,  55,  62],\n",
              "         [ 42,  57,  66],\n",
              "         ...,\n",
              "         [214, 207, 192],\n",
              "         [210, 203, 188],\n",
              "         [202, 194, 177]]], dtype=uint8)\n",
              " orig_shape: (118, 377)\n",
              " path: '/content/drive/MyDrive/dataset/images/test/image5_aug15.jpg'\n",
              " probs: None\n",
              " save_dir: 'runs/detect/train3'\n",
              " speed: {'preprocess': 1.4643669128417969, 'inference': 7.162570953369141, 'postprocess': 1.4660358428955078},\n",
              " ultralytics.engine.results.Results object with attributes:\n",
              " \n",
              " boxes: ultralytics.engine.results.Boxes object\n",
              " keypoints: None\n",
              " masks: None\n",
              " names: {0: 'channel', 1: 'flash', 2: 'cavity', 3: 'crack/groove'}\n",
              " obb: None\n",
              " orig_img: array([[[ 75,  81,  80],\n",
              "         [ 70,  76,  75],\n",
              "         [ 68,  73,  74],\n",
              "         ...,\n",
              "         [245, 245, 245],\n",
              "         [242, 242, 242],\n",
              "         [242, 242, 242]],\n",
              " \n",
              "        [[ 78,  83,  84],\n",
              "         [ 75,  80,  81],\n",
              "         [ 73,  78,  79],\n",
              "         ...,\n",
              "         [248, 248, 248],\n",
              "         [245, 245, 245],\n",
              "         [243, 243, 243]],\n",
              " \n",
              "        [[ 79,  86,  89],\n",
              "         [ 78,  85,  88],\n",
              "         [ 79,  86,  89],\n",
              "         ...,\n",
              "         [252, 252, 252],\n",
              "         [250, 250, 250],\n",
              "         [248, 248, 248]],\n",
              " \n",
              "        ...,\n",
              " \n",
              "        [[228, 228, 228],\n",
              "         [230, 230, 230],\n",
              "         [233, 233, 233],\n",
              "         ...,\n",
              "         [207, 205, 195],\n",
              "         [207, 205, 195],\n",
              "         [207, 205, 195]],\n",
              " \n",
              "        [[221, 221, 221],\n",
              "         [223, 223, 223],\n",
              "         [227, 227, 227],\n",
              "         ...,\n",
              "         [207, 205, 195],\n",
              "         [207, 205, 195],\n",
              "         [207, 205, 195]],\n",
              " \n",
              "        [[218, 218, 218],\n",
              "         [220, 220, 220],\n",
              "         [225, 225, 225],\n",
              "         ...,\n",
              "         [207, 205, 195],\n",
              "         [207, 205, 195],\n",
              "         [207, 205, 195]]], dtype=uint8)\n",
              " orig_shape: (118, 377)\n",
              " path: '/content/drive/MyDrive/dataset/images/test/image5_aug16.jpg'\n",
              " probs: None\n",
              " save_dir: 'runs/detect/train3'\n",
              " speed: {'preprocess': 1.4193058013916016, 'inference': 7.167816162109375, 'postprocess': 0.5917549133300781},\n",
              " ultralytics.engine.results.Results object with attributes:\n",
              " \n",
              " boxes: ultralytics.engine.results.Boxes object\n",
              " keypoints: None\n",
              " masks: None\n",
              " names: {0: 'channel', 1: 'flash', 2: 'cavity', 3: 'crack/groove'}\n",
              " obb: None\n",
              " orig_img: array([[[ 43,  67,  65],\n",
              "         [ 43,  67,  65],\n",
              "         [ 49,  70,  68],\n",
              "         ...,\n",
              "         [198, 187, 183],\n",
              "         [195, 184, 180],\n",
              "         [195, 184, 180]],\n",
              " \n",
              "        [[ 45,  67,  65],\n",
              "         [ 45,  66,  64],\n",
              "         [ 49,  70,  68],\n",
              "         ...,\n",
              "         [199, 188, 184],\n",
              "         [196, 185, 181],\n",
              "         [196, 185, 181]],\n",
              " \n",
              "        [[ 53,  70,  67],\n",
              "         [ 53,  70,  67],\n",
              "         [ 56,  73,  70],\n",
              "         ...,\n",
              "         [199, 188, 184],\n",
              "         [196, 185, 181],\n",
              "         [196, 185, 181]],\n",
              " \n",
              "        ...,\n",
              " \n",
              "        [[ 79, 107, 108],\n",
              "         [ 84, 112, 113],\n",
              "         [ 92, 117, 119],\n",
              "         ...,\n",
              "         [191, 172, 167],\n",
              "         [191, 172, 167],\n",
              "         [192, 173, 168]],\n",
              " \n",
              "        [[ 81, 109, 110],\n",
              "         [ 86, 114, 115],\n",
              "         [ 94, 119, 121],\n",
              "         ...,\n",
              "         [191, 172, 167],\n",
              "         [191, 172, 167],\n",
              "         [191, 172, 167]],\n",
              " \n",
              "        [[ 83, 111, 112],\n",
              "         [ 87, 115, 116],\n",
              "         [ 94, 119, 121],\n",
              "         ...,\n",
              "         [191, 172, 167],\n",
              "         [191, 172, 167],\n",
              "         [191, 172, 167]]], dtype=uint8)\n",
              " orig_shape: (118, 377)\n",
              " path: '/content/drive/MyDrive/dataset/images/test/image5_aug17.jpg'\n",
              " probs: None\n",
              " save_dir: 'runs/detect/train3'\n",
              " speed: {'preprocess': 1.4271736145019531, 'inference': 7.19141960144043, 'postprocess': 1.4910697937011719},\n",
              " ultralytics.engine.results.Results object with attributes:\n",
              " \n",
              " boxes: ultralytics.engine.results.Boxes object\n",
              " keypoints: None\n",
              " masks: None\n",
              " names: {0: 'channel', 1: 'flash', 2: 'cavity', 3: 'crack/groove'}\n",
              " obb: None\n",
              " orig_img: array([[[ 87,  87,  87],\n",
              "         [ 92,  92,  92],\n",
              "         [ 91,  91,  91],\n",
              "         ...,\n",
              "         [ 99,  99,  85],\n",
              "         [ 99,  99,  85],\n",
              "         [ 94,  94,  80]],\n",
              " \n",
              "        [[ 89,  89,  89],\n",
              "         [ 92,  92,  92],\n",
              "         [ 90,  90,  90],\n",
              "         ...,\n",
              "         [ 99,  99,  85],\n",
              "         [ 99,  99,  85],\n",
              "         [ 97,  97,  83]],\n",
              " \n",
              "        [[ 89,  89,  89],\n",
              "         [ 90,  90,  90],\n",
              "         [ 88,  88,  88],\n",
              "         ...,\n",
              "         [100, 100,  86],\n",
              "         [100, 100,  86],\n",
              "         [ 99,  99,  85]],\n",
              " \n",
              "        ...,\n",
              " \n",
              "        [[ 95,  97,  98],\n",
              "         [ 85,  87,  88],\n",
              "         [ 89,  91,  91],\n",
              "         ...,\n",
              "         [117, 117, 117],\n",
              "         [118, 118, 118],\n",
              "         [116, 116, 116]],\n",
              " \n",
              "        [[103, 105, 106],\n",
              "         [ 95,  97,  98],\n",
              "         [ 95,  97,  97],\n",
              "         ...,\n",
              "         [118, 118, 118],\n",
              "         [117, 117, 117],\n",
              "         [116, 116, 116]],\n",
              " \n",
              "        [[105, 107, 108],\n",
              "         [105, 107, 108],\n",
              "         [102, 104, 104],\n",
              "         ...,\n",
              "         [116, 116, 116],\n",
              "         [115, 115, 115],\n",
              "         [116, 116, 116]]], dtype=uint8)\n",
              " orig_shape: (118, 377)\n",
              " path: '/content/drive/MyDrive/dataset/images/test/image5_aug2.jpg'\n",
              " probs: None\n",
              " save_dir: 'runs/detect/train3'\n",
              " speed: {'preprocess': 1.4460086822509766, 'inference': 7.198095321655273, 'postprocess': 1.4510154724121094},\n",
              " ultralytics.engine.results.Results object with attributes:\n",
              " \n",
              " boxes: ultralytics.engine.results.Boxes object\n",
              " keypoints: None\n",
              " masks: None\n",
              " names: {0: 'channel', 1: 'flash', 2: 'cavity', 3: 'crack/groove'}\n",
              " obb: None\n",
              " orig_img: array([[[172, 156, 133],\n",
              "         [169, 155, 132],\n",
              "         [169, 155, 133],\n",
              "         ...,\n",
              "         [ 70,  88, 105],\n",
              "         [ 72,  90, 107],\n",
              "         [ 71,  89, 106]],\n",
              " \n",
              "        [[172, 156, 133],\n",
              "         [169, 155, 132],\n",
              "         [168, 155, 133],\n",
              "         ...,\n",
              "         [ 65,  83, 100],\n",
              "         [ 63,  81,  98],\n",
              "         [ 66,  84, 101]],\n",
              " \n",
              "        [[170, 156, 133],\n",
              "         [169, 155, 132],\n",
              "         [167, 154, 132],\n",
              "         ...,\n",
              "         [ 61,  81,  98],\n",
              "         [ 61,  81,  98],\n",
              "         [ 61,  81,  98]],\n",
              " \n",
              "        ...,\n",
              " \n",
              "        [[171, 161, 143],\n",
              "         [175, 165, 147],\n",
              "         [175, 165, 147],\n",
              "         ...,\n",
              "         [ 28,  47,  55],\n",
              "         [ 28,  47,  55],\n",
              "         [ 30,  48,  59]],\n",
              " \n",
              "        [[171, 161, 143],\n",
              "         [174, 164, 146],\n",
              "         [175, 165, 147],\n",
              "         ...,\n",
              "         [ 27,  45,  56],\n",
              "         [ 29,  47,  58],\n",
              "         [ 24,  43,  56]],\n",
              " \n",
              "        [[171, 161, 143],\n",
              "         [175, 165, 147],\n",
              "         [175, 165, 147],\n",
              "         ...,\n",
              "         [ 28,  45,  58],\n",
              "         [ 28,  45,  58],\n",
              "         [ 25,  44,  57]]], dtype=uint8)\n",
              " orig_shape: (118, 377)\n",
              " path: '/content/drive/MyDrive/dataset/images/test/image5_aug3.jpg'\n",
              " probs: None\n",
              " save_dir: 'runs/detect/train3'\n",
              " speed: {'preprocess': 1.407623291015625, 'inference': 7.287740707397461, 'postprocess': 0.5466938018798828},\n",
              " ultralytics.engine.results.Results object with attributes:\n",
              " \n",
              " boxes: ultralytics.engine.results.Boxes object\n",
              " keypoints: None\n",
              " masks: None\n",
              " names: {0: 'channel', 1: 'flash', 2: 'cavity', 3: 'crack/groove'}\n",
              " obb: None\n",
              " orig_img: array([[[166, 164, 163],\n",
              "         [167, 165, 164],\n",
              "         [169, 167, 167],\n",
              "         ...,\n",
              "         [212, 212, 212],\n",
              "         [211, 211, 211],\n",
              "         [212, 212, 212]],\n",
              " \n",
              "        [[162, 160, 159],\n",
              "         [163, 161, 160],\n",
              "         [167, 165, 165],\n",
              "         ...,\n",
              "         [212, 212, 212],\n",
              "         [212, 212, 212],\n",
              "         [212, 212, 212]],\n",
              " \n",
              "        [[154, 154, 154],\n",
              "         [156, 156, 156],\n",
              "         [161, 161, 161],\n",
              "         ...,\n",
              "         [212, 212, 212],\n",
              "         [212, 212, 212],\n",
              "         [212, 212, 212]],\n",
              " \n",
              "        ...,\n",
              " \n",
              "        [[170, 170, 170],\n",
              "         [171, 171, 171],\n",
              "         [173, 173, 173],\n",
              "         ...,\n",
              "         [189, 186, 181],\n",
              "         [189, 186, 181],\n",
              "         [189, 186, 181]],\n",
              " \n",
              "        [[168, 168, 168],\n",
              "         [169, 169, 169],\n",
              "         [171, 171, 171],\n",
              "         ...,\n",
              "         [188, 185, 180],\n",
              "         [188, 185, 180],\n",
              "         [187, 184, 179]],\n",
              " \n",
              "        [[166, 166, 166],\n",
              "         [168, 168, 168],\n",
              "         [170, 170, 170],\n",
              "         ...,\n",
              "         [187, 184, 179],\n",
              "         [187, 184, 179],\n",
              "         [187, 184, 179]]], dtype=uint8)\n",
              " orig_shape: (118, 377)\n",
              " path: '/content/drive/MyDrive/dataset/images/test/image5_aug5.jpg'\n",
              " probs: None\n",
              " save_dir: 'runs/detect/train3'\n",
              " speed: {'preprocess': 1.4257431030273438, 'inference': 7.271766662597656, 'postprocess': 1.371622085571289},\n",
              " ultralytics.engine.results.Results object with attributes:\n",
              " \n",
              " boxes: ultralytics.engine.results.Boxes object\n",
              " keypoints: None\n",
              " masks: None\n",
              " names: {0: 'channel', 1: 'flash', 2: 'cavity', 3: 'crack/groove'}\n",
              " obb: None\n",
              " orig_img: array([[[185, 171, 165],\n",
              "         [184, 170, 164],\n",
              "         [183, 169, 163],\n",
              "         ...,\n",
              "         [ 65,  92,  89],\n",
              "         [ 67,  94,  91],\n",
              "         [ 74,  97,  99]],\n",
              " \n",
              "        [[186, 172, 166],\n",
              "         [184, 170, 164],\n",
              "         [184, 170, 164],\n",
              "         ...,\n",
              "         [ 68,  92,  90],\n",
              "         [ 69,  93,  91],\n",
              "         [ 75,  99,  99]],\n",
              " \n",
              "        [[186, 172, 166],\n",
              "         [185, 171, 165],\n",
              "         [184, 170, 164],\n",
              "         ...,\n",
              "         [ 70,  93,  89],\n",
              "         [ 72,  95,  91],\n",
              "         [ 75,  97,  95]],\n",
              " \n",
              "        ...,\n",
              " \n",
              "        [[180, 161, 153],\n",
              "         [180, 161, 153],\n",
              "         [180, 161, 154],\n",
              "         ...,\n",
              "         [ 96, 124, 125],\n",
              "         [101, 129, 130],\n",
              "         [105, 130, 132]],\n",
              " \n",
              "        [[180, 161, 153],\n",
              "         [180, 161, 153],\n",
              "         [180, 161, 154],\n",
              "         ...,\n",
              "         [ 99, 124, 126],\n",
              "         [103, 128, 130],\n",
              "         [104, 129, 131]],\n",
              " \n",
              "        [[180, 161, 153],\n",
              "         [180, 161, 153],\n",
              "         [180, 161, 154],\n",
              "         ...,\n",
              "         [ 99, 124, 126],\n",
              "         [103, 128, 130],\n",
              "         [105, 130, 132]]], dtype=uint8)\n",
              " orig_shape: (118, 377)\n",
              " path: '/content/drive/MyDrive/dataset/images/test/image5_aug6.jpg'\n",
              " probs: None\n",
              " save_dir: 'runs/detect/train3'\n",
              " speed: {'preprocess': 1.4026165008544922, 'inference': 7.136344909667969, 'postprocess': 1.3623237609863281},\n",
              " ultralytics.engine.results.Results object with attributes:\n",
              " \n",
              " boxes: ultralytics.engine.results.Boxes object\n",
              " keypoints: None\n",
              " masks: None\n",
              " names: {0: 'channel', 1: 'flash', 2: 'cavity', 3: 'crack/groove'}\n",
              " obb: None\n",
              " orig_img: array([[[ 78,  97, 112],\n",
              "         [ 79,  98, 113],\n",
              "         [ 83,  99, 115],\n",
              "         ...,\n",
              "         [176, 165, 145],\n",
              "         [177, 166, 146],\n",
              "         [176, 165, 145]],\n",
              " \n",
              "        [[ 78,  97, 112],\n",
              "         [ 79,  98, 113],\n",
              "         [ 84, 100, 116],\n",
              "         ...,\n",
              "         [176, 165, 145],\n",
              "         [177, 166, 146],\n",
              "         [176, 165, 145]],\n",
              " \n",
              "        [[ 77,  96, 111],\n",
              "         [ 79,  98, 113],\n",
              "         [ 84, 100, 116],\n",
              "         ...,\n",
              "         [176, 165, 145],\n",
              "         [176, 165, 145],\n",
              "         [176, 165, 145]],\n",
              " \n",
              "        ...,\n",
              " \n",
              "        [[ 54,  66,  70],\n",
              "         [ 52,  67,  70],\n",
              "         [ 54,  68,  74],\n",
              "         ...,\n",
              "         [181, 174, 157],\n",
              "         [180, 173, 156],\n",
              "         [180, 173, 156]],\n",
              " \n",
              "        [[ 50,  64,  70],\n",
              "         [ 51,  65,  71],\n",
              "         [ 53,  66,  74],\n",
              "         ...,\n",
              "         [181, 174, 157],\n",
              "         [180, 173, 156],\n",
              "         [181, 174, 157]],\n",
              " \n",
              "        [[ 49,  63,  69],\n",
              "         [ 50,  64,  70],\n",
              "         [ 50,  66,  73],\n",
              "         ...,\n",
              "         [181, 174, 157],\n",
              "         [180, 173, 156],\n",
              "         [181, 174, 157]]], dtype=uint8)\n",
              " orig_shape: (118, 377)\n",
              " path: '/content/drive/MyDrive/dataset/images/test/image5_aug7.jpg'\n",
              " probs: None\n",
              " save_dir: 'runs/detect/train3'\n",
              " speed: {'preprocess': 1.4331340789794922, 'inference': 7.302999496459961, 'postprocess': 1.390218734741211},\n",
              " ultralytics.engine.results.Results object with attributes:\n",
              " \n",
              " boxes: ultralytics.engine.results.Boxes object\n",
              " keypoints: None\n",
              " masks: None\n",
              " names: {0: 'channel', 1: 'flash', 2: 'cavity', 3: 'crack/groove'}\n",
              " obb: None\n",
              " orig_img: array([[[ 62,  79,  92],\n",
              "         [ 64,  81,  94],\n",
              "         [ 62,  78,  91],\n",
              "         ...,\n",
              "         [241, 231, 213],\n",
              "         [235, 225, 207],\n",
              "         [240, 230, 212]],\n",
              " \n",
              "        [[ 15,  32,  45],\n",
              "         [ 48,  65,  78],\n",
              "         [ 89, 105, 118],\n",
              "         ...,\n",
              "         [234, 224, 206],\n",
              "         [235, 225, 207],\n",
              "         [235, 225, 207]],\n",
              " \n",
              "        [[ 24,  41,  54],\n",
              "         [ 38,  55,  68],\n",
              "         [ 74,  90, 103],\n",
              "         ...,\n",
              "         [233, 223, 205],\n",
              "         [239, 229, 211],\n",
              "         [245, 234, 214]],\n",
              " \n",
              "        ...,\n",
              " \n",
              "        [[113, 127, 126],\n",
              "         [ 85, 100, 102],\n",
              "         [ 90, 105, 108],\n",
              "         ...,\n",
              "         [244, 236, 219],\n",
              "         [242, 234, 217],\n",
              "         [234, 226, 209]],\n",
              " \n",
              "        [[ 70,  85,  88],\n",
              "         [ 49,  66,  69],\n",
              "         [ 71,  87,  93],\n",
              "         ...,\n",
              "         [243, 235, 218],\n",
              "         [240, 232, 215],\n",
              "         [234, 226, 209]],\n",
              " \n",
              "        [[ 72,  88,  94],\n",
              "         [ 39,  55,  61],\n",
              "         [ 48,  64,  71],\n",
              "         ...,\n",
              "         [241, 233, 216],\n",
              "         [235, 227, 210],\n",
              "         [223, 215, 198]]], dtype=uint8)\n",
              " orig_shape: (118, 377)\n",
              " path: '/content/drive/MyDrive/dataset/images/test/image5_aug8.jpg'\n",
              " probs: None\n",
              " save_dir: 'runs/detect/train3'\n",
              " speed: {'preprocess': 1.4638900756835938, 'inference': 7.386684417724609, 'postprocess': 1.3194084167480469},\n",
              " ultralytics.engine.results.Results object with attributes:\n",
              " \n",
              " boxes: ultralytics.engine.results.Boxes object\n",
              " keypoints: None\n",
              " masks: None\n",
              " names: {0: 'channel', 1: 'flash', 2: 'cavity', 3: 'crack/groove'}\n",
              " obb: None\n",
              " orig_img: array([[[119, 126, 121],\n",
              "         [119, 126, 121],\n",
              "         [117, 124, 119],\n",
              "         ...,\n",
              "         [178, 168, 151],\n",
              "         [179, 169, 152],\n",
              "         [179, 169, 152]],\n",
              " \n",
              "        [[118, 125, 120],\n",
              "         [119, 126, 121],\n",
              "         [119, 126, 121],\n",
              "         ...,\n",
              "         [178, 168, 151],\n",
              "         [178, 168, 151],\n",
              "         [178, 168, 151]],\n",
              " \n",
              "        [[122, 129, 126],\n",
              "         [123, 130, 127],\n",
              "         [123, 130, 125],\n",
              "         ...,\n",
              "         [178, 168, 151],\n",
              "         [177, 167, 150],\n",
              "         [178, 168, 151]],\n",
              " \n",
              "        ...,\n",
              " \n",
              "        [[121, 125, 119],\n",
              "         [ 97, 101,  95],\n",
              "         [ 82,  87,  78],\n",
              "         ...,\n",
              "         [ 35,  41,  30],\n",
              "         [ 29,  34,  19],\n",
              "         [ 27,  30,  14]],\n",
              " \n",
              "        [[117, 124, 117],\n",
              "         [103, 110, 103],\n",
              "         [ 94, 101,  94],\n",
              "         ...,\n",
              "         [ 33,  37,  25],\n",
              "         [ 28,  31,  15],\n",
              "         [ 25,  27,   8]],\n",
              " \n",
              "        [[124, 131, 124],\n",
              "         [126, 133, 126],\n",
              "         [127, 134, 127],\n",
              "         ...,\n",
              "         [ 40,  44,  32],\n",
              "         [ 28,  32,  13],\n",
              "         [ 24,  24,   6]]], dtype=uint8)\n",
              " orig_shape: (118, 377)\n",
              " path: '/content/drive/MyDrive/dataset/images/test/image5_aug9.jpg'\n",
              " probs: None\n",
              " save_dir: 'runs/detect/train3'\n",
              " speed: {'preprocess': 1.4874935150146484, 'inference': 9.019136428833008, 'postprocess': 0.5669593811035156},\n",
              " ultralytics.engine.results.Results object with attributes:\n",
              " \n",
              " boxes: ultralytics.engine.results.Boxes object\n",
              " keypoints: None\n",
              " masks: None\n",
              " names: {0: 'channel', 1: 'flash', 2: 'cavity', 3: 'crack/groove'}\n",
              " obb: None\n",
              " orig_img: array([[[ 94, 103, 100],\n",
              "         [ 93, 102,  99],\n",
              "         [ 90, 101,  98],\n",
              "         ...,\n",
              "         [115, 115, 109],\n",
              "         [132, 132, 126],\n",
              "         [142, 142, 136]],\n",
              " \n",
              "        [[ 94, 103, 100],\n",
              "         [ 92, 101,  98],\n",
              "         [ 87,  98,  95],\n",
              "         ...,\n",
              "         [107, 107, 101],\n",
              "         [123, 123, 117],\n",
              "         [134, 134, 128]],\n",
              " \n",
              "        [[101, 110, 107],\n",
              "         [ 95, 104, 101],\n",
              "         [ 88,  97,  94],\n",
              "         ...,\n",
              "         [ 99,  96,  91],\n",
              "         [110, 107, 102],\n",
              "         [120, 117, 112]],\n",
              " \n",
              "        ...,\n",
              " \n",
              "        [[191, 183, 176],\n",
              "         [207, 199, 192],\n",
              "         [228, 223, 214],\n",
              "         ...,\n",
              "         [ 26,  73, 117],\n",
              "         [ 26,  73, 117],\n",
              "         [ 27,  74, 118]],\n",
              " \n",
              "        [[176, 168, 161],\n",
              "         [190, 182, 175],\n",
              "         [210, 205, 196],\n",
              "         ...,\n",
              "         [ 32,  78, 125],\n",
              "         [ 28,  74, 121],\n",
              "         [ 24,  71, 115]],\n",
              " \n",
              "        [[168, 160, 153],\n",
              "         [180, 172, 165],\n",
              "         [198, 193, 184],\n",
              "         ...,\n",
              "         [ 38,  84, 131],\n",
              "         [ 31,  77, 124],\n",
              "         [ 26,  73, 117]]], dtype=uint8)\n",
              " orig_shape: (134, 379)\n",
              " path: '/content/drive/MyDrive/dataset/images/test/image6_aug15.jpg'\n",
              " probs: None\n",
              " save_dir: 'runs/detect/train3'\n",
              " speed: {'preprocess': 1.7282962799072266, 'inference': 9.586334228515625, 'postprocess': 1.6367435455322266},\n",
              " ultralytics.engine.results.Results object with attributes:\n",
              " \n",
              " boxes: ultralytics.engine.results.Boxes object\n",
              " keypoints: None\n",
              " masks: None\n",
              " names: {0: 'channel', 1: 'flash', 2: 'cavity', 3: 'crack/groove'}\n",
              " obb: None\n",
              " orig_img: array([[[  0,  42,  79],\n",
              "         [  0,  43,  80],\n",
              "         [  1,  43,  78],\n",
              "         ...,\n",
              "         [ 87,  90,  81],\n",
              "         [ 87,  90,  81],\n",
              "         [ 87,  90,  81]],\n",
              " \n",
              "        [[  4,  48,  85],\n",
              "         [  4,  49,  83],\n",
              "         [  6,  48,  83],\n",
              "         ...,\n",
              "         [ 84,  87,  78],\n",
              "         [ 84,  87,  78],\n",
              "         [ 84,  87,  78]],\n",
              " \n",
              "        [[ 16,  58,  93],\n",
              "         [ 16,  58,  93],\n",
              "         [ 16,  58,  93],\n",
              "         ...,\n",
              "         [ 78,  83,  74],\n",
              "         [ 78,  83,  74],\n",
              "         [ 80,  83,  74]],\n",
              " \n",
              "        ...,\n",
              " \n",
              "        [[ 37,  92, 143],\n",
              "         [ 37,  92, 143],\n",
              "         [ 38,  93, 144],\n",
              "         ...,\n",
              "         [103, 109, 108],\n",
              "         [108, 114, 113],\n",
              "         [103, 109, 108]],\n",
              " \n",
              "        [[ 41,  98, 149],\n",
              "         [ 42,  99, 150],\n",
              "         [ 43, 100, 151],\n",
              "         ...,\n",
              "         [ 98, 106, 105],\n",
              "         [103, 111, 110],\n",
              "         [ 97, 105, 104]],\n",
              " \n",
              "        [[ 40,  97, 148],\n",
              "         [ 40,  97, 148],\n",
              "         [ 42,  99, 150],\n",
              "         ...,\n",
              "         [ 96, 104, 103],\n",
              "         [102, 110, 109],\n",
              "         [ 96, 104, 103]]], dtype=uint8)\n",
              " orig_shape: (134, 379)\n",
              " path: '/content/drive/MyDrive/dataset/images/test/image6_aug16.jpg'\n",
              " probs: None\n",
              " save_dir: 'runs/detect/train3'\n",
              " speed: {'preprocess': 1.83868408203125, 'inference': 8.939743041992188, 'postprocess': 1.5316009521484375},\n",
              " ultralytics.engine.results.Results object with attributes:\n",
              " \n",
              " boxes: ultralytics.engine.results.Boxes object\n",
              " keypoints: None\n",
              " masks: None\n",
              " names: {0: 'channel', 1: 'flash', 2: 'cavity', 3: 'crack/groove'}\n",
              " obb: None\n",
              " orig_img: array([[[181, 184, 175],\n",
              "         [181, 184, 175],\n",
              "         [182, 185, 176],\n",
              "         ...,\n",
              "         [114, 156, 193],\n",
              "         [112, 154, 191],\n",
              "         [110, 152, 189]],\n",
              " \n",
              "        [[187, 190, 181],\n",
              "         [188, 191, 182],\n",
              "         [189, 192, 183],\n",
              "         ...,\n",
              "         [118, 161, 200],\n",
              "         [117, 160, 199],\n",
              "         [116, 159, 198]],\n",
              " \n",
              "        [[179, 182, 173],\n",
              "         [181, 184, 175],\n",
              "         [182, 185, 176],\n",
              "         ...,\n",
              "         [107, 152, 195],\n",
              "         [106, 151, 194],\n",
              "         [105, 151, 192]],\n",
              " \n",
              "        ...,\n",
              " \n",
              "        [[122, 130, 129],\n",
              "         [126, 134, 133],\n",
              "         [130, 138, 137],\n",
              "         ...,\n",
              "         [ 65, 129, 183],\n",
              "         [ 64, 128, 182],\n",
              "         [ 66, 128, 182]],\n",
              " \n",
              "        [[121, 129, 128],\n",
              "         [126, 134, 133],\n",
              "         [129, 137, 136],\n",
              "         ...,\n",
              "         [ 65, 129, 183],\n",
              "         [ 65, 129, 183],\n",
              "         [ 66, 128, 182]],\n",
              " \n",
              "        [[121, 129, 128],\n",
              "         [125, 133, 132],\n",
              "         [129, 137, 136],\n",
              "         ...,\n",
              "         [ 65, 129, 183],\n",
              "         [ 64, 128, 182],\n",
              "         [ 66, 128, 182]]], dtype=uint8)\n",
              " orig_shape: (134, 379)\n",
              " path: '/content/drive/MyDrive/dataset/images/test/image6_aug17.jpg'\n",
              " probs: None\n",
              " save_dir: 'runs/detect/train3'\n",
              " speed: {'preprocess': 1.7518997192382812, 'inference': 7.187604904174805, 'postprocess': 1.474618911743164},\n",
              " ultralytics.engine.results.Results object with attributes:\n",
              " \n",
              " boxes: ultralytics.engine.results.Boxes object\n",
              " keypoints: None\n",
              " masks: None\n",
              " names: {0: 'channel', 1: 'flash', 2: 'cavity', 3: 'crack/groove'}\n",
              " obb: None\n",
              " orig_img: array([[[222, 229, 216],\n",
              "         [222, 229, 216],\n",
              "         [221, 229, 218],\n",
              "         ...,\n",
              "         [126, 137, 135],\n",
              "         [124, 135, 133],\n",
              "         [123, 134, 132]],\n",
              " \n",
              "        [[222, 229, 216],\n",
              "         [221, 228, 215],\n",
              "         [220, 228, 217],\n",
              "         ...,\n",
              "         [124, 135, 133],\n",
              "         [121, 132, 130],\n",
              "         [122, 133, 131]],\n",
              " \n",
              "        [[223, 229, 218],\n",
              "         [221, 227, 216],\n",
              "         [221, 227, 216],\n",
              "         ...,\n",
              "         [118, 129, 127],\n",
              "         [124, 135, 133],\n",
              "         [127, 138, 136]],\n",
              " \n",
              "        ...,\n",
              " \n",
              "        [[102, 114, 114],\n",
              "         [ 86,  98,  98],\n",
              "         [ 67,  78,  76],\n",
              "         ...,\n",
              "         [144, 157, 155],\n",
              "         [150, 163, 161],\n",
              "         [149, 162, 160]],\n",
              " \n",
              "        [[125, 139, 138],\n",
              "         [106, 120, 119],\n",
              "         [ 79,  91,  91],\n",
              "         ...,\n",
              "         [141, 154, 152],\n",
              "         [147, 160, 158],\n",
              "         [147, 160, 158]],\n",
              " \n",
              "        [[130, 144, 143],\n",
              "         [113, 127, 126],\n",
              "         [ 83,  95,  95],\n",
              "         ...,\n",
              "         [142, 155, 153],\n",
              "         [142, 155, 153],\n",
              "         [142, 155, 153]]], dtype=uint8)\n",
              " orig_shape: (142, 378)\n",
              " path: '/content/drive/MyDrive/dataset/images/test/image7_aug1.jpg'\n",
              " probs: None\n",
              " save_dir: 'runs/detect/train3'\n",
              " speed: {'preprocess': 1.878976821899414, 'inference': 7.247209548950195, 'postprocess': 1.4705657958984375},\n",
              " ultralytics.engine.results.Results object with attributes:\n",
              " \n",
              " boxes: ultralytics.engine.results.Boxes object\n",
              " keypoints: None\n",
              " masks: None\n",
              " names: {0: 'channel', 1: 'flash', 2: 'cavity', 3: 'crack/groove'}\n",
              " obb: None\n",
              " orig_img: array([[[166, 174, 167],\n",
              "         [168, 176, 169],\n",
              "         [167, 175, 168],\n",
              "         ...,\n",
              "         [102, 131, 115],\n",
              "         [101, 130, 114],\n",
              "         [100, 129, 113]],\n",
              " \n",
              "        [[166, 174, 167],\n",
              "         [168, 176, 169],\n",
              "         [167, 175, 168],\n",
              "         ...,\n",
              "         [ 86, 116,  97],\n",
              "         [ 87, 115,  96],\n",
              "         [ 84, 114,  95]],\n",
              " \n",
              "        [[167, 175, 168],\n",
              "         [168, 176, 169],\n",
              "         [168, 175, 170],\n",
              "         ...,\n",
              "         [ 85, 115,  90],\n",
              "         [ 87, 116,  91],\n",
              "         [ 85, 115,  90]],\n",
              " \n",
              "        ...,\n",
              " \n",
              "        [[169, 177, 167],\n",
              "         [169, 177, 167],\n",
              "         [170, 178, 167],\n",
              "         ...,\n",
              "         [141, 193, 110],\n",
              "         [141, 189, 110],\n",
              "         [142, 190, 111]],\n",
              " \n",
              "        [[169, 177, 167],\n",
              "         [169, 177, 167],\n",
              "         [169, 177, 166],\n",
              "         ...,\n",
              "         [143, 191, 119],\n",
              "         [145, 192, 123],\n",
              "         [146, 193, 124]],\n",
              " \n",
              "        [[169, 177, 167],\n",
              "         [169, 177, 167],\n",
              "         [169, 177, 166],\n",
              "         ...,\n",
              "         [155, 202, 134],\n",
              "         [163, 209, 143],\n",
              "         [165, 211, 145]]], dtype=uint8)\n",
              " orig_shape: (142, 378)\n",
              " path: '/content/drive/MyDrive/dataset/images/test/image7_aug2.jpg'\n",
              " probs: None\n",
              " save_dir: 'runs/detect/train3'\n",
              " speed: {'preprocess': 1.6222000122070312, 'inference': 8.642196655273438, 'postprocess': 1.4612674713134766},\n",
              " ultralytics.engine.results.Results object with attributes:\n",
              " \n",
              " boxes: ultralytics.engine.results.Boxes object\n",
              " keypoints: None\n",
              " masks: None\n",
              " names: {0: 'channel', 1: 'flash', 2: 'cavity', 3: 'crack/groove'}\n",
              " obb: None\n",
              " orig_img: array([[[175, 175, 175],\n",
              "         [172, 172, 172],\n",
              "         [170, 170, 170],\n",
              "         ...,\n",
              "         [215, 215, 215],\n",
              "         [215, 215, 215],\n",
              "         [216, 216, 216]],\n",
              " \n",
              "        [[176, 176, 176],\n",
              "         [173, 173, 173],\n",
              "         [170, 170, 170],\n",
              "         ...,\n",
              "         [214, 214, 214],\n",
              "         [216, 216, 216],\n",
              "         [216, 216, 216]],\n",
              " \n",
              "        [[173, 173, 173],\n",
              "         [172, 172, 172],\n",
              "         [170, 170, 170],\n",
              "         ...,\n",
              "         [214, 214, 214],\n",
              "         [218, 218, 218],\n",
              "         [218, 218, 218]],\n",
              " \n",
              "        ...,\n",
              " \n",
              "        [[196, 196, 196],\n",
              "         [193, 193, 193],\n",
              "         [191, 191, 191],\n",
              "         ...,\n",
              "         [122, 123, 121],\n",
              "         [153, 154, 152],\n",
              "         [207, 208, 206]],\n",
              " \n",
              "        [[203, 203, 203],\n",
              "         [198, 198, 198],\n",
              "         [197, 197, 197],\n",
              "         ...,\n",
              "         [137, 137, 137],\n",
              "         [149, 149, 149],\n",
              "         [174, 174, 174]],\n",
              " \n",
              "        [[201, 201, 201],\n",
              "         [196, 196, 196],\n",
              "         [196, 196, 196],\n",
              "         ...,\n",
              "         [153, 153, 153],\n",
              "         [154, 154, 154],\n",
              "         [156, 156, 156]]], dtype=uint8)\n",
              " orig_shape: (142, 378)\n",
              " path: '/content/drive/MyDrive/dataset/images/test/image7_aug3.jpg'\n",
              " probs: None\n",
              " save_dir: 'runs/detect/train3'\n",
              " speed: {'preprocess': 1.5969276428222656, 'inference': 7.080554962158203, 'postprocess': 1.3844966888427734},\n",
              " ultralytics.engine.results.Results object with attributes:\n",
              " \n",
              " boxes: ultralytics.engine.results.Boxes object\n",
              " keypoints: None\n",
              " masks: None\n",
              " names: {0: 'channel', 1: 'flash', 2: 'cavity', 3: 'crack/groove'}\n",
              " obb: None\n",
              " orig_img: array([[[236, 246, 229],\n",
              "         [241, 253, 235],\n",
              "         [244, 255, 239],\n",
              "         ...,\n",
              "         [196, 202, 191],\n",
              "         [196, 201, 192],\n",
              "         [200, 205, 196]],\n",
              " \n",
              "        [[246, 255, 218],\n",
              "         [245, 255, 217],\n",
              "         [241, 255, 215],\n",
              "         ...,\n",
              "         [195, 201, 190],\n",
              "         [196, 201, 192],\n",
              "         [198, 203, 194]],\n",
              " \n",
              "        [[220, 244, 150],\n",
              "         [219, 243, 149],\n",
              "         [212, 238, 144],\n",
              "         ...,\n",
              "         [195, 201, 190],\n",
              "         [197, 202, 193],\n",
              "         [198, 203, 194]],\n",
              " \n",
              "        ...,\n",
              " \n",
              "        [[134, 159, 133],\n",
              "         [136, 161, 135],\n",
              "         [137, 162, 136],\n",
              "         ...,\n",
              "         [188, 195, 188],\n",
              "         [191, 198, 191],\n",
              "         [196, 203, 196]],\n",
              " \n",
              "        [[144, 168, 150],\n",
              "         [144, 168, 150],\n",
              "         [146, 170, 152],\n",
              "         ...,\n",
              "         [191, 198, 191],\n",
              "         [190, 197, 190],\n",
              "         [195, 202, 195]],\n",
              " \n",
              "        [[141, 164, 150],\n",
              "         [142, 165, 151],\n",
              "         [140, 163, 149],\n",
              "         ...,\n",
              "         [193, 200, 193],\n",
              "         [190, 197, 190],\n",
              "         [194, 201, 194]]], dtype=uint8)\n",
              " orig_shape: (142, 378)\n",
              " path: '/content/drive/MyDrive/dataset/images/test/image7_aug4.jpg'\n",
              " probs: None\n",
              " save_dir: 'runs/detect/train3'\n",
              " speed: {'preprocess': 1.6164779663085938, 'inference': 7.437944412231445, 'postprocess': 1.3661384582519531},\n",
              " ultralytics.engine.results.Results object with attributes:\n",
              " \n",
              " boxes: ultralytics.engine.results.Boxes object\n",
              " keypoints: None\n",
              " masks: None\n",
              " names: {0: 'channel', 1: 'flash', 2: 'cavity', 3: 'crack/groove'}\n",
              " obb: None\n",
              " orig_img: array([[[193, 220, 180],\n",
              "         [194, 221, 181],\n",
              "         [194, 222, 179],\n",
              "         ...,\n",
              "         [162, 174, 154],\n",
              "         [164, 176, 156],\n",
              "         [164, 176, 156]],\n",
              " \n",
              "        [[188, 220, 163],\n",
              "         [189, 221, 162],\n",
              "         [188, 220, 163],\n",
              "         ...,\n",
              "         [163, 175, 155],\n",
              "         [164, 176, 156],\n",
              "         [164, 176, 156]],\n",
              " \n",
              "        [[169, 210, 118],\n",
              "         [169, 210, 118],\n",
              "         [167, 208, 117],\n",
              "         ...,\n",
              "         [164, 176, 156],\n",
              "         [165, 177, 157],\n",
              "         [164, 176, 156]],\n",
              " \n",
              "        ...,\n",
              " \n",
              "        [[114, 143, 127],\n",
              "         [114, 143, 127],\n",
              "         [113, 142, 126],\n",
              "         ...,\n",
              "         [157, 173, 156],\n",
              "         [158, 174, 157],\n",
              "         [157, 173, 156]],\n",
              " \n",
              "        [[115, 143, 130],\n",
              "         [115, 143, 130],\n",
              "         [112, 142, 129],\n",
              "         ...,\n",
              "         [157, 173, 155],\n",
              "         [160, 174, 156],\n",
              "         [159, 173, 155]],\n",
              " \n",
              "        [[114, 141, 131],\n",
              "         [114, 141, 131],\n",
              "         [112, 142, 131],\n",
              "         ...,\n",
              "         [157, 173, 155],\n",
              "         [160, 174, 156],\n",
              "         [159, 173, 155]]], dtype=uint8)\n",
              " orig_shape: (142, 378)\n",
              " path: '/content/drive/MyDrive/dataset/images/test/image7_aug5.jpg'\n",
              " probs: None\n",
              " save_dir: 'runs/detect/train3'\n",
              " speed: {'preprocess': 1.6179084777832031, 'inference': 7.498979568481445, 'postprocess': 1.363992691040039}]"
            ]
          },
          "metadata": {},
          "execution_count": 9
        }
      ],
      "source": [
        "# Batch inference on a folder\n",
        "model.predict(source=os.path.join(IMAGES_PATH, 'test'), save=True)"
      ]
    },
    {
      "cell_type": "code",
      "execution_count": 10,
      "metadata": {
        "colab": {
          "base_uri": "https://localhost:8080/",
          "height": 292
        },
        "id": "KWIJZsOtgHZE",
        "outputId": "6faca85b-ae24-4a4a-9414-bfacef9817e9"
      },
      "outputs": [
        {
          "output_type": "stream",
          "name": "stdout",
          "text": [
            "WARNING ⚠️ Invalid export format='torch', updating to format='torchscript'\n",
            "Ultralytics 8.3.63 🚀 Python-3.11.11 torch-2.5.1+cu121 CPU (Intel Xeon 2.20GHz)\n",
            "\n",
            "\u001b[34m\u001b[1mPyTorch:\u001b[0m starting from 'runs/detect/train/weights/best.pt' with input shape (1, 3, 640, 640) BCHW and output shape(s) (1, 8, 8400) (5.9 MB)\n",
            "\n",
            "\u001b[34m\u001b[1mTorchScript:\u001b[0m starting export with torch 2.5.1+cu121...\n",
            "\u001b[34m\u001b[1mTorchScript:\u001b[0m export success ✅ 2.0s, saved as 'runs/detect/train/weights/best.torchscript' (11.9 MB)\n",
            "\n",
            "Export complete (3.6s)\n",
            "Results saved to \u001b[1m/content/runs/detect/train/weights\u001b[0m\n",
            "Predict:         yolo predict task=detect model=runs/detect/train/weights/best.torchscript imgsz=640  \n",
            "Validate:        yolo val task=detect model=runs/detect/train/weights/best.torchscript imgsz=640 data=/content/drive/MyDrive/dataset/data.yaml  \n",
            "Visualize:       https://netron.app\n"
          ]
        },
        {
          "output_type": "execute_result",
          "data": {
            "text/plain": [
              "'runs/detect/train/weights/best.torchscript'"
            ],
            "application/vnd.google.colaboratory.intrinsic+json": {
              "type": "string"
            }
          },
          "metadata": {},
          "execution_count": 10
        }
      ],
      "source": [
        "# 10. Export the model\n",
        "# Save as ONNX, TensorRT, CoreML, or other formats if required\n",
        "model.export(format='torch')"
      ]
    },
    {
      "cell_type": "code",
      "execution_count": null,
      "metadata": {
        "colab": {
          "base_uri": "https://localhost:8080/",
          "height": 17
        },
        "id": "rwSbrwu4jOEU",
        "outputId": "c2d73e68-9d12-4631-96d1-4a43871f133d"
      },
      "outputs": [
        {
          "data": {
            "application/javascript": [
              "\n",
              "    async function download(id, filename, size) {\n",
              "      if (!google.colab.kernel.accessAllowed) {\n",
              "        return;\n",
              "      }\n",
              "      const div = document.createElement('div');\n",
              "      const label = document.createElement('label');\n",
              "      label.textContent = `Downloading \"${filename}\": `;\n",
              "      div.appendChild(label);\n",
              "      const progress = document.createElement('progress');\n",
              "      progress.max = size;\n",
              "      div.appendChild(progress);\n",
              "      document.body.appendChild(div);\n",
              "\n",
              "      const buffers = [];\n",
              "      let downloaded = 0;\n",
              "\n",
              "      const channel = await google.colab.kernel.comms.open(id);\n",
              "      // Send a message to notify the kernel that we're ready.\n",
              "      channel.send({})\n",
              "\n",
              "      for await (const message of channel.messages) {\n",
              "        // Send a message to notify the kernel that we're ready.\n",
              "        channel.send({})\n",
              "        if (message.buffers) {\n",
              "          for (const buffer of message.buffers) {\n",
              "            buffers.push(buffer);\n",
              "            downloaded += buffer.byteLength;\n",
              "            progress.value = downloaded;\n",
              "          }\n",
              "        }\n",
              "      }\n",
              "      const blob = new Blob(buffers, {type: 'application/binary'});\n",
              "      const a = document.createElement('a');\n",
              "      a.href = window.URL.createObjectURL(blob);\n",
              "      a.download = filename;\n",
              "      div.appendChild(a);\n",
              "      a.click();\n",
              "      div.remove();\n",
              "    }\n",
              "  "
            ],
            "text/plain": [
              "<IPython.core.display.Javascript object>"
            ]
          },
          "metadata": {},
          "output_type": "display_data"
        },
        {
          "data": {
            "application/javascript": [
              "download(\"download_8bc51826-ecd0-4eb6-ba62-cd5cd219885a\", \"weights.zip\", 19264514)"
            ],
            "text/plain": [
              "<IPython.core.display.Javascript object>"
            ]
          },
          "metadata": {},
          "output_type": "display_data"
        }
      ],
      "source": [
        "import shutil\n",
        "\n",
        "# Compress the folder into a zip file\n",
        "shutil.make_archive('weights', 'zip', 'runs/detect/train2/weights')\n",
        "\n",
        "# Download the zip file\n",
        "from google.colab import files\n",
        "files.download('weights.zip')\n"
      ]
    },
    {
      "cell_type": "code",
      "source": [
        "import pandas as pd\n",
        "\n",
        "# Path to results.csv (generated during training)\n",
        "results_csv_path = 'runs/detect/train/results.csv'\n",
        "\n",
        "# Load results\n",
        "results = pd.read_csv(results_csv_path)\n",
        "results"
      ],
      "metadata": {
        "colab": {
          "base_uri": "https://localhost:8080/"
        },
        "id": "-ofCkzBSs_cK",
        "outputId": "4dcafdff-26e5-4173-c615-6cacc6de7f77"
      },
      "execution_count": 28,
      "outputs": [
        {
          "output_type": "execute_result",
          "data": {
            "text/plain": [
              "Index(['epoch', 'time', 'train/box_loss', 'train/cls_loss', 'train/dfl_loss',\n",
              "       'metrics/precision(B)', 'metrics/recall(B)', 'metrics/mAP50(B)',\n",
              "       'metrics/mAP50-95(B)', 'val/box_loss', 'val/cls_loss', 'val/dfl_loss',\n",
              "       'lr/pg0', 'lr/pg1', 'lr/pg2'],\n",
              "      dtype='object')"
            ]
          },
          "metadata": {},
          "execution_count": 28
        }
      ]
    },
    {
      "cell_type": "code",
      "source": [
        "\n",
        "# Plot each metric\n",
        "metrics_to_plot = ['train/box_loss','train/dfl_loss','train/cls_loss','metrics/precision(B)','metrics/recall(B)','val/box_loss','val/dfl_loss','val/cls_loss','metrics/mAP50(B)',\t'metrics/mAP50-95(B)']\n",
        "titles = ['Train Box','Train Objectiveness','Train Classification','Precision','Recall','Val Box','Val Objectiveless','Val Classification','mAP@0.5', 'mAP@0.5:0.95']\n",
        "\n",
        "plt.figure(figsize=(15, 10))\n",
        "for i, metric in enumerate(metrics_to_plot):\n",
        "    plt.subplot(4, 3, i + 1)  # Adjust grid size if needed\n",
        "    plt.plot(results[metric], label=metric)\n",
        "    plt.title(titles[i])\n",
        "    plt.xlabel('Epochs')\n",
        "    plt.ylabel(metric)\n",
        "    plt.grid()\n",
        "    plt.legend()\n",
        "plt.tight_layout()\n",
        "plt.show()\n"
      ],
      "metadata": {
        "colab": {
          "base_uri": "https://localhost:8080/",
          "height": 755
        },
        "id": "JvGOmUkDeD7e",
        "outputId": "72552f65-846b-481d-941a-e2cc52822282"
      },
      "execution_count": 27,
      "outputs": [
        {
          "output_type": "display_data",
          "data": {
            "text/plain": [
              "<Figure size 1500x1000 with 10 Axes>"
            ],
            "image/png": "[encoded data removed]"
          },
          "metadata": {}
        }
      ]
    },
    {
      "cell_type": "code",
      "source": [],
      "metadata": {
        "id": "JHV-hB87jM6h"
      },
      "execution_count": null,
      "outputs": []
    }
  ],
  "metadata": {
    "accelerator": "GPU",
    "colab": {
      "gpuType": "T4",
      "provenance": []
    },
    "kernelspec": {
      "display_name": "Python 3",
      "name": "python3"
    },
    "language_info": {
      "name": "python"
    }
  },
  "nbformat": 4,
  "nbformat_minor": 0
}